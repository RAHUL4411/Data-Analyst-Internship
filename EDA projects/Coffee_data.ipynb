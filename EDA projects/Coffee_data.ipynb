{
 "cells": [
  {
   "cell_type": "markdown",
   "id": "8185dbe1-a652-4cdf-b362-297da08be85c",
   "metadata": {},
   "source": [
    "### <div style=\"text-align: center;\"><strong><u>COFFEE SALES PREDICTION</u></strong></div>\n",
    "\n",
    "*The Coffee Sales dataset contains transactional data of coffee shop purchases over a period of time. It Understand sales performance over time, Analyze customer buying behavior (time of purchase, coffee preferences, etc.), Identify most profitable coffee types and sizes.The coffee shop generates consistent revenue from a mix of espresso-based drinks, with clear peaks during morning hours when customers commute to work.*"
   ]
  },
  {
   "cell_type": "markdown",
   "id": "1a44cce9-b7ee-432c-ac6d-ecfc1cd06af2",
   "metadata": {},
   "source": [
    "<h1 style=\"text-align: center;\"><u>IMPORTING</u></h1>\n",
    "<div style=\"text-align: center;\">\n",
    "  <strong>Importing four powerful Python libraries commonly used in data analysis and visualization.</strong>\n",
    "</div>\n",
    "\n",
    " <u><strong>import numpy as np</strong></u>\n",
    "\n",
    "- *NumPy is short for Numerical Python.*\n",
    "- *It provides fast, efficient operations on arrays, matrices, and numerical data.*\n",
    "\n",
    " <u><u><strong>import pandas as pd</strong></u>\n",
    "\n",
    "- *Pandas is used for handling structured data like tables.*\n",
    "- *It introduces DataFrame and Series objects for easy data manipulation.*\n",
    "\n",
    " <u><strong>import matplotlib.pyplot as plt</strong></u>\n",
    "\n",
    "- *Matplotlib is a plotting library.*\n",
    "- *pyplot is its module for creating basic visualizations like line plots, bar charts, and scatter plots.*\n",
    "\n",
    " <u><strong>import seaborn as sns</strong></u>\n",
    "\n",
    "- *Seaborn builds on Matplotlib and adds statistical plotting with better aesthetics.*\n",
    "- *It’s great for visualizing distributions, correlations, and categorical data.*\n",
    "    "
   ]
  },
  {
   "cell_type": "code",
   "execution_count": 3,
   "id": "4e642e80-c5a7-429a-9101-f1be18fef7e4",
   "metadata": {},
   "outputs": [],
   "source": [
    "import numpy as np\n",
    "import pandas as pd\n",
    "import matplotlib.pyplot as plt\n",
    "import seaborn as sns"
   ]
  },
  {
   "cell_type": "code",
   "execution_count": 4,
   "id": "206339b0-5964-4f5f-b08a-ccc06ee1b058",
   "metadata": {},
   "outputs": [
    {
     "data": {
      "text/html": [
       "<div>\n",
       "<style scoped>\n",
       "    .dataframe tbody tr th:only-of-type {\n",
       "        vertical-align: middle;\n",
       "    }\n",
       "\n",
       "    .dataframe tbody tr th {\n",
       "        vertical-align: top;\n",
       "    }\n",
       "\n",
       "    .dataframe thead th {\n",
       "        text-align: right;\n",
       "    }\n",
       "</style>\n",
       "<table border=\"1\" class=\"dataframe\">\n",
       "  <thead>\n",
       "    <tr style=\"text-align: right;\">\n",
       "      <th></th>\n",
       "      <th>hour_of_day</th>\n",
       "      <th>cash_type</th>\n",
       "      <th>money</th>\n",
       "      <th>coffee_name</th>\n",
       "      <th>Time_of_Day</th>\n",
       "      <th>Weekday</th>\n",
       "      <th>Month_name</th>\n",
       "      <th>Weekdaysort</th>\n",
       "      <th>Monthsort</th>\n",
       "      <th>Date</th>\n",
       "      <th>Time</th>\n",
       "    </tr>\n",
       "  </thead>\n",
       "  <tbody>\n",
       "    <tr>\n",
       "      <th>0</th>\n",
       "      <td>10</td>\n",
       "      <td>card</td>\n",
       "      <td>38.70</td>\n",
       "      <td>Latte</td>\n",
       "      <td>Morning</td>\n",
       "      <td>Fri</td>\n",
       "      <td>Mar</td>\n",
       "      <td>5</td>\n",
       "      <td>3</td>\n",
       "      <td>01-03-2024</td>\n",
       "      <td>15:50.5</td>\n",
       "    </tr>\n",
       "    <tr>\n",
       "      <th>1</th>\n",
       "      <td>12</td>\n",
       "      <td>card</td>\n",
       "      <td>38.70</td>\n",
       "      <td>Hot Chocolate</td>\n",
       "      <td>Afternoon</td>\n",
       "      <td>Fri</td>\n",
       "      <td>Mar</td>\n",
       "      <td>5</td>\n",
       "      <td>3</td>\n",
       "      <td>01-03-2024</td>\n",
       "      <td>19:22.5</td>\n",
       "    </tr>\n",
       "    <tr>\n",
       "      <th>2</th>\n",
       "      <td>12</td>\n",
       "      <td>card</td>\n",
       "      <td>38.70</td>\n",
       "      <td>Hot Chocolate</td>\n",
       "      <td>Afternoon</td>\n",
       "      <td>Fri</td>\n",
       "      <td>Mar</td>\n",
       "      <td>5</td>\n",
       "      <td>3</td>\n",
       "      <td>01-03-2024</td>\n",
       "      <td>20:18.1</td>\n",
       "    </tr>\n",
       "    <tr>\n",
       "      <th>3</th>\n",
       "      <td>13</td>\n",
       "      <td>card</td>\n",
       "      <td>28.90</td>\n",
       "      <td>Americano</td>\n",
       "      <td>Afternoon</td>\n",
       "      <td>Fri</td>\n",
       "      <td>Mar</td>\n",
       "      <td>5</td>\n",
       "      <td>3</td>\n",
       "      <td>01-03-2024</td>\n",
       "      <td>46:33.0</td>\n",
       "    </tr>\n",
       "    <tr>\n",
       "      <th>4</th>\n",
       "      <td>13</td>\n",
       "      <td>card</td>\n",
       "      <td>38.70</td>\n",
       "      <td>Latte</td>\n",
       "      <td>Afternoon</td>\n",
       "      <td>Fri</td>\n",
       "      <td>Mar</td>\n",
       "      <td>5</td>\n",
       "      <td>3</td>\n",
       "      <td>01-03-2024</td>\n",
       "      <td>48:14.6</td>\n",
       "    </tr>\n",
       "    <tr>\n",
       "      <th>...</th>\n",
       "      <td>...</td>\n",
       "      <td>...</td>\n",
       "      <td>...</td>\n",
       "      <td>...</td>\n",
       "      <td>...</td>\n",
       "      <td>...</td>\n",
       "      <td>...</td>\n",
       "      <td>...</td>\n",
       "      <td>...</td>\n",
       "      <td>...</td>\n",
       "      <td>...</td>\n",
       "    </tr>\n",
       "    <tr>\n",
       "      <th>3542</th>\n",
       "      <td>10</td>\n",
       "      <td>card</td>\n",
       "      <td>35.76</td>\n",
       "      <td>Cappuccino</td>\n",
       "      <td>Morning</td>\n",
       "      <td>Sun</td>\n",
       "      <td>Mar</td>\n",
       "      <td>7</td>\n",
       "      <td>3</td>\n",
       "      <td>23-03-2025</td>\n",
       "      <td>34:54.9</td>\n",
       "    </tr>\n",
       "    <tr>\n",
       "      <th>3543</th>\n",
       "      <td>14</td>\n",
       "      <td>card</td>\n",
       "      <td>35.76</td>\n",
       "      <td>Cocoa</td>\n",
       "      <td>Afternoon</td>\n",
       "      <td>Sun</td>\n",
       "      <td>Mar</td>\n",
       "      <td>7</td>\n",
       "      <td>3</td>\n",
       "      <td>23-03-2025</td>\n",
       "      <td>43:37.4</td>\n",
       "    </tr>\n",
       "    <tr>\n",
       "      <th>3544</th>\n",
       "      <td>14</td>\n",
       "      <td>card</td>\n",
       "      <td>35.76</td>\n",
       "      <td>Cocoa</td>\n",
       "      <td>Afternoon</td>\n",
       "      <td>Sun</td>\n",
       "      <td>Mar</td>\n",
       "      <td>7</td>\n",
       "      <td>3</td>\n",
       "      <td>23-03-2025</td>\n",
       "      <td>44:16.9</td>\n",
       "    </tr>\n",
       "    <tr>\n",
       "      <th>3545</th>\n",
       "      <td>15</td>\n",
       "      <td>card</td>\n",
       "      <td>25.96</td>\n",
       "      <td>Americano</td>\n",
       "      <td>Afternoon</td>\n",
       "      <td>Sun</td>\n",
       "      <td>Mar</td>\n",
       "      <td>7</td>\n",
       "      <td>3</td>\n",
       "      <td>23-03-2025</td>\n",
       "      <td>47:28.7</td>\n",
       "    </tr>\n",
       "    <tr>\n",
       "      <th>3546</th>\n",
       "      <td>18</td>\n",
       "      <td>card</td>\n",
       "      <td>35.76</td>\n",
       "      <td>Latte</td>\n",
       "      <td>Night</td>\n",
       "      <td>Sun</td>\n",
       "      <td>Mar</td>\n",
       "      <td>7</td>\n",
       "      <td>3</td>\n",
       "      <td>23-03-2025</td>\n",
       "      <td>11:38.6</td>\n",
       "    </tr>\n",
       "  </tbody>\n",
       "</table>\n",
       "<p>3547 rows × 11 columns</p>\n",
       "</div>"
      ],
      "text/plain": [
       "      hour_of_day cash_type  money    coffee_name Time_of_Day Weekday  \\\n",
       "0              10      card  38.70          Latte     Morning     Fri   \n",
       "1              12      card  38.70  Hot Chocolate   Afternoon     Fri   \n",
       "2              12      card  38.70  Hot Chocolate   Afternoon     Fri   \n",
       "3              13      card  28.90      Americano   Afternoon     Fri   \n",
       "4              13      card  38.70          Latte   Afternoon     Fri   \n",
       "...           ...       ...    ...            ...         ...     ...   \n",
       "3542           10      card  35.76     Cappuccino     Morning     Sun   \n",
       "3543           14      card  35.76          Cocoa   Afternoon     Sun   \n",
       "3544           14      card  35.76          Cocoa   Afternoon     Sun   \n",
       "3545           15      card  25.96      Americano   Afternoon     Sun   \n",
       "3546           18      card  35.76          Latte       Night     Sun   \n",
       "\n",
       "     Month_name  Weekdaysort  Monthsort        Date     Time  \n",
       "0           Mar            5          3  01-03-2024  15:50.5  \n",
       "1           Mar            5          3  01-03-2024  19:22.5  \n",
       "2           Mar            5          3  01-03-2024  20:18.1  \n",
       "3           Mar            5          3  01-03-2024  46:33.0  \n",
       "4           Mar            5          3  01-03-2024  48:14.6  \n",
       "...         ...          ...        ...         ...      ...  \n",
       "3542        Mar            7          3  23-03-2025  34:54.9  \n",
       "3543        Mar            7          3  23-03-2025  43:37.4  \n",
       "3544        Mar            7          3  23-03-2025  44:16.9  \n",
       "3545        Mar            7          3  23-03-2025  47:28.7  \n",
       "3546        Mar            7          3  23-03-2025  11:38.6  \n",
       "\n",
       "[3547 rows x 11 columns]"
      ]
     },
     "execution_count": 4,
     "metadata": {},
     "output_type": "execute_result"
    }
   ],
   "source": [
    "a=pd.read_csv(\"Downloads/Coffe_sales.csv\")\n",
    "a"
   ]
  },
  {
   "cell_type": "markdown",
   "id": "428a10c9-4429-48e8-b61f-b34065cbc83c",
   "metadata": {},
   "source": [
    "## Observation: Initial Data Load\n",
    "\n",
    "- Loaded the coffee dataset using `pd.read_csv()` to begin analysis.\n",
    "- Displayed `a` to confirm successful import and preview the structure.\n",
    "- This helps verify column names, data types, and whether the file was read correctly."
   ]
  },
  {
   "cell_type": "code",
   "execution_count": 5,
   "id": "0ec73646-f0cc-4ef1-b016-3f698968a90e",
   "metadata": {},
   "outputs": [
    {
     "data": {
      "text/html": [
       "<div>\n",
       "<style scoped>\n",
       "    .dataframe tbody tr th:only-of-type {\n",
       "        vertical-align: middle;\n",
       "    }\n",
       "\n",
       "    .dataframe tbody tr th {\n",
       "        vertical-align: top;\n",
       "    }\n",
       "\n",
       "    .dataframe thead th {\n",
       "        text-align: right;\n",
       "    }\n",
       "</style>\n",
       "<table border=\"1\" class=\"dataframe\">\n",
       "  <thead>\n",
       "    <tr style=\"text-align: right;\">\n",
       "      <th></th>\n",
       "      <th>hour_of_day</th>\n",
       "      <th>cash_type</th>\n",
       "      <th>money</th>\n",
       "      <th>coffee_name</th>\n",
       "      <th>Time_of_Day</th>\n",
       "      <th>Weekday</th>\n",
       "      <th>Month_name</th>\n",
       "      <th>Weekdaysort</th>\n",
       "      <th>Monthsort</th>\n",
       "      <th>Date</th>\n",
       "      <th>Time</th>\n",
       "    </tr>\n",
       "  </thead>\n",
       "  <tbody>\n",
       "    <tr>\n",
       "      <th>0</th>\n",
       "      <td>10</td>\n",
       "      <td>card</td>\n",
       "      <td>38.7</td>\n",
       "      <td>Latte</td>\n",
       "      <td>Morning</td>\n",
       "      <td>Fri</td>\n",
       "      <td>Mar</td>\n",
       "      <td>5</td>\n",
       "      <td>3</td>\n",
       "      <td>01-03-2024</td>\n",
       "      <td>15:50.5</td>\n",
       "    </tr>\n",
       "    <tr>\n",
       "      <th>1</th>\n",
       "      <td>12</td>\n",
       "      <td>card</td>\n",
       "      <td>38.7</td>\n",
       "      <td>Hot Chocolate</td>\n",
       "      <td>Afternoon</td>\n",
       "      <td>Fri</td>\n",
       "      <td>Mar</td>\n",
       "      <td>5</td>\n",
       "      <td>3</td>\n",
       "      <td>01-03-2024</td>\n",
       "      <td>19:22.5</td>\n",
       "    </tr>\n",
       "    <tr>\n",
       "      <th>2</th>\n",
       "      <td>12</td>\n",
       "      <td>card</td>\n",
       "      <td>38.7</td>\n",
       "      <td>Hot Chocolate</td>\n",
       "      <td>Afternoon</td>\n",
       "      <td>Fri</td>\n",
       "      <td>Mar</td>\n",
       "      <td>5</td>\n",
       "      <td>3</td>\n",
       "      <td>01-03-2024</td>\n",
       "      <td>20:18.1</td>\n",
       "    </tr>\n",
       "    <tr>\n",
       "      <th>3</th>\n",
       "      <td>13</td>\n",
       "      <td>card</td>\n",
       "      <td>28.9</td>\n",
       "      <td>Americano</td>\n",
       "      <td>Afternoon</td>\n",
       "      <td>Fri</td>\n",
       "      <td>Mar</td>\n",
       "      <td>5</td>\n",
       "      <td>3</td>\n",
       "      <td>01-03-2024</td>\n",
       "      <td>46:33.0</td>\n",
       "    </tr>\n",
       "    <tr>\n",
       "      <th>4</th>\n",
       "      <td>13</td>\n",
       "      <td>card</td>\n",
       "      <td>38.7</td>\n",
       "      <td>Latte</td>\n",
       "      <td>Afternoon</td>\n",
       "      <td>Fri</td>\n",
       "      <td>Mar</td>\n",
       "      <td>5</td>\n",
       "      <td>3</td>\n",
       "      <td>01-03-2024</td>\n",
       "      <td>48:14.6</td>\n",
       "    </tr>\n",
       "    <tr>\n",
       "      <th>5</th>\n",
       "      <td>15</td>\n",
       "      <td>card</td>\n",
       "      <td>33.8</td>\n",
       "      <td>Americano with Milk</td>\n",
       "      <td>Afternoon</td>\n",
       "      <td>Fri</td>\n",
       "      <td>Mar</td>\n",
       "      <td>5</td>\n",
       "      <td>3</td>\n",
       "      <td>01-03-2024</td>\n",
       "      <td>39:47.7</td>\n",
       "    </tr>\n",
       "    <tr>\n",
       "      <th>6</th>\n",
       "      <td>16</td>\n",
       "      <td>card</td>\n",
       "      <td>38.7</td>\n",
       "      <td>Hot Chocolate</td>\n",
       "      <td>Afternoon</td>\n",
       "      <td>Fri</td>\n",
       "      <td>Mar</td>\n",
       "      <td>5</td>\n",
       "      <td>3</td>\n",
       "      <td>01-03-2024</td>\n",
       "      <td>19:02.8</td>\n",
       "    </tr>\n",
       "    <tr>\n",
       "      <th>7</th>\n",
       "      <td>18</td>\n",
       "      <td>card</td>\n",
       "      <td>33.8</td>\n",
       "      <td>Americano with Milk</td>\n",
       "      <td>Night</td>\n",
       "      <td>Fri</td>\n",
       "      <td>Mar</td>\n",
       "      <td>5</td>\n",
       "      <td>3</td>\n",
       "      <td>01-03-2024</td>\n",
       "      <td>39:03.6</td>\n",
       "    </tr>\n",
       "    <tr>\n",
       "      <th>8</th>\n",
       "      <td>19</td>\n",
       "      <td>card</td>\n",
       "      <td>38.7</td>\n",
       "      <td>Cocoa</td>\n",
       "      <td>Night</td>\n",
       "      <td>Fri</td>\n",
       "      <td>Mar</td>\n",
       "      <td>5</td>\n",
       "      <td>3</td>\n",
       "      <td>01-03-2024</td>\n",
       "      <td>22:01.8</td>\n",
       "    </tr>\n",
       "    <tr>\n",
       "      <th>9</th>\n",
       "      <td>19</td>\n",
       "      <td>card</td>\n",
       "      <td>33.8</td>\n",
       "      <td>Americano with Milk</td>\n",
       "      <td>Night</td>\n",
       "      <td>Fri</td>\n",
       "      <td>Mar</td>\n",
       "      <td>5</td>\n",
       "      <td>3</td>\n",
       "      <td>01-03-2024</td>\n",
       "      <td>23:15.9</td>\n",
       "    </tr>\n",
       "  </tbody>\n",
       "</table>\n",
       "</div>"
      ],
      "text/plain": [
       "   hour_of_day cash_type  money          coffee_name Time_of_Day Weekday  \\\n",
       "0           10      card   38.7                Latte     Morning     Fri   \n",
       "1           12      card   38.7        Hot Chocolate   Afternoon     Fri   \n",
       "2           12      card   38.7        Hot Chocolate   Afternoon     Fri   \n",
       "3           13      card   28.9            Americano   Afternoon     Fri   \n",
       "4           13      card   38.7                Latte   Afternoon     Fri   \n",
       "5           15      card   33.8  Americano with Milk   Afternoon     Fri   \n",
       "6           16      card   38.7        Hot Chocolate   Afternoon     Fri   \n",
       "7           18      card   33.8  Americano with Milk       Night     Fri   \n",
       "8           19      card   38.7                Cocoa       Night     Fri   \n",
       "9           19      card   33.8  Americano with Milk       Night     Fri   \n",
       "\n",
       "  Month_name  Weekdaysort  Monthsort        Date     Time  \n",
       "0        Mar            5          3  01-03-2024  15:50.5  \n",
       "1        Mar            5          3  01-03-2024  19:22.5  \n",
       "2        Mar            5          3  01-03-2024  20:18.1  \n",
       "3        Mar            5          3  01-03-2024  46:33.0  \n",
       "4        Mar            5          3  01-03-2024  48:14.6  \n",
       "5        Mar            5          3  01-03-2024  39:47.7  \n",
       "6        Mar            5          3  01-03-2024  19:02.8  \n",
       "7        Mar            5          3  01-03-2024  39:03.6  \n",
       "8        Mar            5          3  01-03-2024  22:01.8  \n",
       "9        Mar            5          3  01-03-2024  23:15.9  "
      ]
     },
     "execution_count": 5,
     "metadata": {},
     "output_type": "execute_result"
    }
   ],
   "source": [
    "a.head(10)"
   ]
  },
  {
   "cell_type": "markdown",
   "id": "5c747f0f-d68a-48bd-803a-272ee9cfddba",
   "metadata": {},
   "source": [
    "## Observation: Previewing coffee data\n",
    "\n",
    "- Used `a.head(10)` to view the first 10 rows of the dataset.\n",
    "- This helps verify that the data loaded correctly and shows sample values for columns like money, Weekdaysort, Monthsort, etc.\n",
    "- It gives an initial sense of the data types, formatting, and any potential issues like missing or inconsistent values.\n",
    "- This step sets the foundation for further exploration, cleaning, and visualization."
   ]
  },
  {
   "cell_type": "code",
   "execution_count": null,
   "id": "31b6100b-e465-496e-9b08-cd3e87644303",
   "metadata": {},
   "outputs": [],
   "source": [
    "a.shape"
   ]
  },
  {
   "cell_type": "markdown",
   "id": "ffba4fe6-6b37-4783-800a-3e5e08e656b3",
   "metadata": {},
   "source": [
    "## Observation: Dataset Dimensions\n",
    "\n",
    "- Used `a.shape` to check the size of the IMDb dataset.\n",
    "- It shows the number of rows (entries) and columns (features) available for analysis.\n",
    "- This helps understand the scale of the data and plan how to explore or visualize it."
   ]
  },
  {
   "cell_type": "code",
   "execution_count": null,
   "id": "6c972292-cea7-49dd-9c97-02ca51426e4b",
   "metadata": {},
   "outputs": [],
   "source": [
    "a.info()"
   ]
  },
  {
   "cell_type": "markdown",
   "id": "5dc6c1f7-75cd-49c8-9f83-4e2ec813588f",
   "metadata": {},
   "source": [
    "## Observation: Data Types and Null Values\n",
    "\n",
    "- Used `a.info()` to inspect column names, data types, and non-null counts.\n",
    "- This helps identify which columns are numerical, categorical, or object types — useful for choosing analysis methods.\n",
    "- It also reveals missing values, allowing me to plan data cleaning steps like filling or dropping nulls.\n",
    "- Understanding the structure ensures I apply the right transformations and visualizations during analysis."
   ]
  },
  {
   "cell_type": "code",
   "execution_count": 7,
   "id": "982cb105-414c-49fa-921e-8841502bf44f",
   "metadata": {},
   "outputs": [
    {
     "data": {
      "text/html": [
       "<div>\n",
       "<style scoped>\n",
       "    .dataframe tbody tr th:only-of-type {\n",
       "        vertical-align: middle;\n",
       "    }\n",
       "\n",
       "    .dataframe tbody tr th {\n",
       "        vertical-align: top;\n",
       "    }\n",
       "\n",
       "    .dataframe thead th {\n",
       "        text-align: right;\n",
       "    }\n",
       "</style>\n",
       "<table border=\"1\" class=\"dataframe\">\n",
       "  <thead>\n",
       "    <tr style=\"text-align: right;\">\n",
       "      <th></th>\n",
       "      <th>hour_of_day</th>\n",
       "      <th>money</th>\n",
       "      <th>Weekdaysort</th>\n",
       "      <th>Monthsort</th>\n",
       "    </tr>\n",
       "  </thead>\n",
       "  <tbody>\n",
       "    <tr>\n",
       "      <th>count</th>\n",
       "      <td>3547.000000</td>\n",
       "      <td>3547.000000</td>\n",
       "      <td>3547.000000</td>\n",
       "      <td>3547.000000</td>\n",
       "    </tr>\n",
       "    <tr>\n",
       "      <th>mean</th>\n",
       "      <td>14.185791</td>\n",
       "      <td>31.645216</td>\n",
       "      <td>3.845785</td>\n",
       "      <td>6.453905</td>\n",
       "    </tr>\n",
       "    <tr>\n",
       "      <th>std</th>\n",
       "      <td>4.234010</td>\n",
       "      <td>4.877754</td>\n",
       "      <td>1.971501</td>\n",
       "      <td>3.500754</td>\n",
       "    </tr>\n",
       "    <tr>\n",
       "      <th>min</th>\n",
       "      <td>6.000000</td>\n",
       "      <td>18.120000</td>\n",
       "      <td>1.000000</td>\n",
       "      <td>1.000000</td>\n",
       "    </tr>\n",
       "    <tr>\n",
       "      <th>25%</th>\n",
       "      <td>10.000000</td>\n",
       "      <td>27.920000</td>\n",
       "      <td>2.000000</td>\n",
       "      <td>3.000000</td>\n",
       "    </tr>\n",
       "    <tr>\n",
       "      <th>50%</th>\n",
       "      <td>14.000000</td>\n",
       "      <td>32.820000</td>\n",
       "      <td>4.000000</td>\n",
       "      <td>7.000000</td>\n",
       "    </tr>\n",
       "    <tr>\n",
       "      <th>75%</th>\n",
       "      <td>18.000000</td>\n",
       "      <td>35.760000</td>\n",
       "      <td>6.000000</td>\n",
       "      <td>10.000000</td>\n",
       "    </tr>\n",
       "    <tr>\n",
       "      <th>max</th>\n",
       "      <td>22.000000</td>\n",
       "      <td>38.700000</td>\n",
       "      <td>7.000000</td>\n",
       "      <td>12.000000</td>\n",
       "    </tr>\n",
       "  </tbody>\n",
       "</table>\n",
       "</div>"
      ],
      "text/plain": [
       "       hour_of_day        money  Weekdaysort    Monthsort\n",
       "count  3547.000000  3547.000000  3547.000000  3547.000000\n",
       "mean     14.185791    31.645216     3.845785     6.453905\n",
       "std       4.234010     4.877754     1.971501     3.500754\n",
       "min       6.000000    18.120000     1.000000     1.000000\n",
       "25%      10.000000    27.920000     2.000000     3.000000\n",
       "50%      14.000000    32.820000     4.000000     7.000000\n",
       "75%      18.000000    35.760000     6.000000    10.000000\n",
       "max      22.000000    38.700000     7.000000    12.000000"
      ]
     },
     "execution_count": 7,
     "metadata": {},
     "output_type": "execute_result"
    }
   ],
   "source": [
    "a.describe()"
   ]
  },
  {
   "cell_type": "markdown",
   "id": "9b380650-973d-439e-b37a-53653571abec",
   "metadata": {},
   "source": [
    "## Observation: Statistical Summary\n",
    "\n",
    "- Used `a.describe()` to view key statistics like mean, standard deviation, min, max, and quartiles for numeric columns.\n",
    "- This helps understand the distribution and range of values in features such as `money`, `Weekdaysort`, `Monthsort`, etc.\n",
    "- It reveals potential outliers, skewed data, or inconsistencies that may need cleaning or transformation.\n",
    "- These insights guide how I approach visualizations and deeper analysis."
   ]
  },
  {
   "cell_type": "code",
   "execution_count": 6,
   "id": "2a552e79-085e-4f58-aa35-094155f4e4eb",
   "metadata": {},
   "outputs": [
    {
     "data": {
      "text/plain": [
       "False    3547\n",
       "Name: count, dtype: int64"
      ]
     },
     "execution_count": 6,
     "metadata": {},
     "output_type": "execute_result"
    }
   ],
   "source": [
    "a.duplicated().value_counts()"
   ]
  },
  {
   "cell_type": "markdown",
   "id": "27273121-7fe9-48d0-b243-301222cc1dea",
   "metadata": {},
   "source": [
    "## Observation: Duplicate Records\n",
    "\n",
    "- Used `a.duplicated().value_counts()` to check for duplicate rows in the dataset.\n",
    "- This helps identify if any entries are repeated entirely, which could skew analysis or inflate counts.\n",
    "- A result like `False: 3547,  means there is no duplicate values.\n",
    "- I can decide whether to drop duplicates using `a.drop_duplicates()` to ensure clean and accurate analysis."
   ]
  },
  {
   "cell_type": "code",
   "execution_count": 8,
   "id": "011c0763-86b3-4c9c-a09a-bd03269a4d3a",
   "metadata": {},
   "outputs": [
    {
     "data": {
      "text/plain": [
       "hour_of_day    0\n",
       "cash_type      0\n",
       "money          0\n",
       "coffee_name    0\n",
       "Time_of_Day    0\n",
       "Weekday        0\n",
       "Month_name     0\n",
       "Weekdaysort    0\n",
       "Monthsort      0\n",
       "Date           0\n",
       "Time           0\n",
       "dtype: int64"
      ]
     },
     "execution_count": 8,
     "metadata": {},
     "output_type": "execute_result"
    }
   ],
   "source": [
    "a.isnull().sum()"
   ]
  },
  {
   "cell_type": "markdown",
   "id": "5ed8c8b7-9ff7-4262-8a63-db13aa989d84",
   "metadata": {},
   "source": [
    "## Observation: Missing Values\n",
    "\n",
    "- Used `a.isnull().sum()` to identify columns with missing data.\n",
    "- This helps pinpoint which features (like `hour_of_day`, `money`, or `Date`) may need cleaning or imputation.\n",
    "- Columns with many nulls might be dropped or filled using strategies like mean, median, or mode.\n",
    "- Understanding missing data is essential before performing analysis or building visualizations."
   ]
  },
  {
   "cell_type": "code",
   "execution_count": 9,
   "id": "85b02e6c-6fdd-45b3-ae50-1df68566acab",
   "metadata": {},
   "outputs": [
    {
     "data": {
      "text/plain": [
       "0      2024-01-03\n",
       "1      2024-01-03\n",
       "2      2024-01-03\n",
       "3      2024-01-03\n",
       "4      2024-01-03\n",
       "          ...    \n",
       "3542          NaT\n",
       "3543          NaT\n",
       "3544          NaT\n",
       "3545          NaT\n",
       "3546          NaT\n",
       "Name: Date, Length: 3547, dtype: datetime64[ns]"
      ]
     },
     "execution_count": 9,
     "metadata": {},
     "output_type": "execute_result"
    }
   ],
   "source": [
    "a['Date'] = pd.to_datetime(a['Date'], errors='coerce')\n",
    "a['Date']"
   ]
  },
  {
   "cell_type": "markdown",
   "id": "9d9e6a80-aad1-4b29-a5ad-58cc1bb1e5d9",
   "metadata": {},
   "source": [
    "## Observation: Date Conversion and Data Cleaning\n",
    "\n",
    "- The Date column is converted into a datetime format using `pd.to_datetime`.\n",
    "- The parameter errors=`coerce` ensures that invalid or unrecognized date values are automatically \n",
    "  converted to `NaT (Not a Time)` instead of causing errors.\n",
    "- This helps maintain dataset integrity by preventing crashes due to inconsistent date formats.\n",
    "- This step is crucial for time-based analysis, enabling further operations like extracting month, day  \n",
    "  or creating time-series plots."
   ]
  },
  {
   "cell_type": "code",
   "execution_count": 10,
   "id": "fd991d25-17bc-4f5a-babf-8455e39d522e",
   "metadata": {},
   "outputs": [
    {
     "name": "stdout",
     "output_type": "stream",
     "text": [
      "Total Sales Revenue: 112245.58\n",
      "Average Sale Value: 31.65\n"
     ]
    }
   ],
   "source": [
    "total_sales = a['money'].sum()\n",
    "avg_sales = a['money'].mean()\n",
    "print(\"Total Sales Revenue:\", round(total_sales, 2))\n",
    "print(\"Average Sale Value:\", round(avg_sales, 2))"
   ]
  },
  {
   "cell_type": "markdown",
   "id": "b930e8e9-e7e4-478a-ba1f-79767156c88a",
   "metadata": {},
   "source": [
    "## Observation: Sales Revenue and Average Sale Calculation\n",
    "\n",
    "- This code calculates key financial metrics from the dataset.\n",
    "- The`sum()`function computes the Total Sales Revenue, representing the overall income generated from all coffee transactions.\n",
    "- The`mean()`function determines the Average Sale Value, showing the typical amount spent per transaction.\n",
    "- Rounding to two decimal places ensures clarity and readability in financial reporting."
   ]
  },
  {
   "cell_type": "code",
   "execution_count": 11,
   "id": "78b3c449-c0fb-4f24-8872-8c175953b8a1",
   "metadata": {},
   "outputs": [
    {
     "data": {
      "text/plain": [
       "Month_name\n",
       "Mar    15891.64\n",
       "Oct    13891.16\n",
       "Feb    13215.48\n",
       "Sep     9988.64\n",
       "Nov     8590.54\n",
       "Dec     8237.74\n",
       "May     8164.42\n",
       "Jun     7617.76\n",
       "Aug     7613.84\n",
       "Jul     6915.94\n",
       "Jan     6398.86\n",
       "Apr     5719.56\n",
       "Name: money, dtype: float64"
      ]
     },
     "execution_count": 11,
     "metadata": {},
     "output_type": "execute_result"
    }
   ],
   "source": [
    "monthly_sales = a.groupby('Month_name')['money'].sum().sort_values(ascending=False)\n",
    "monthly_sales"
   ]
  },
  {
   "cell_type": "markdown",
   "id": "2d60ab05-5383-4bae-bdc4-aa0d1d310c20",
   "metadata": {},
   "source": [
    "## Observation: Monthly Sales Performance Analysis\n",
    "\n",
    "- The dataset is grouped by the `Month_name` column to calculate the total sales revenue for each month.\n",
    "- The `sum()`function aggregates all sales(`money`) within each month, showing how much revenue was generated monthly.\n",
    "- The`sort_values(ascending=False)` method arranges the results from highest to lowest, making it easy to identify the best      performing months.\n",
    "- This analysis helps in detecting seasonal trends — for example, certain months may show higher sales due to festivals,         weather conditions, or promotions."
   ]
  },
  {
   "cell_type": "code",
   "execution_count": 12,
   "id": "c6bea819-c068-479e-8745-820632ed7b0a",
   "metadata": {},
   "outputs": [
    {
     "data": {
      "image/png": "[encoded data removed]",
      "text/plain": [
       "<Figure size 1000x500 with 1 Axes>"
      ]
     },
     "metadata": {},
     "output_type": "display_data"
    }
   ],
   "source": [
    "plt.figure(figsize=(10,5))\n",
    "monthly_sales.plot(kind='bar', color='blue', edgecolor='black')\n",
    "plt.title(\"Total Coffee Sales by Month\")\n",
    "plt.xlabel(\"Month\")\n",
    "plt.ylabel(\"Total Sales\")\n",
    "plt.xticks(rotation=45)\n",
    "plt.show()\n"
   ]
  },
  {
   "cell_type": "markdown",
   "id": "7f863b4f-e5b7-4352-bebc-19716449b03f",
   "metadata": {},
   "source": [
    "## Observation: Monthly Sales Visualization\n",
    "\n",
    "- A bar chart was created to visually represent total coffee sales across different months.\n",
    "- The chart clearly highlights which months generated the highest and lowest revenue, making it easy to spot seasonal sales      patterns.\n",
    "- Taller bars indicate peak-performing months, reflecting higher customer demand or promotional periods.\n",
    "- The visualization enhances understanding of monthly sales distribution, supporting better business planning and marketing      strategies for future periods."
   ]
  },
  {
   "cell_type": "code",
   "execution_count": 13,
   "id": "bb809a46-0519-4a64-bdc5-898b26fca50a",
   "metadata": {},
   "outputs": [
    {
     "data": {
      "text/plain": [
       "Weekday\n",
       "Tue    18168.38\n",
       "Mon    17363.10\n",
       "Fri    16802.66\n",
       "Thu    16091.40\n",
       "Wed    15750.46\n",
       "Sat    14733.52\n",
       "Sun    13336.06\n",
       "Name: money, dtype: float64"
      ]
     },
     "execution_count": 13,
     "metadata": {},
     "output_type": "execute_result"
    }
   ],
   "source": [
    "weekday_sales = a.groupby('Weekday')['money'].sum().sort_values(ascending=False)\n",
    "weekday_sales"
   ]
  },
  {
   "cell_type": "markdown",
   "id": "9a07a14c-c384-4d49-b475-7c5f6c20457c",
   "metadata": {},
   "source": [
    "## Observation: Weekday Sales Analysis\n",
    "\n",
    "- The dataset is grouped by `Weekday` to calculate the total sales (`money`) for each day of the week.\n",
    "- The `sum()` function aggregates revenue to reveal which weekdays generate the most income\n",
    "- Sorting in descending order helps quickly identify peak business days (e.g., Friday or Saturday) and low-performing days.\n",
    "- This analysis provides insight into customer purchasing patterns across the week, useful for scheduling staff, managing        inventory, and planning promotions on slower days."
   ]
  },
  {
   "cell_type": "code",
   "execution_count": 14,
   "id": "064d5d8f-5bce-4bfe-bf4f-6cb74511d731",
   "metadata": {},
   "outputs": [
    {
     "data": {
      "image/png": "[encoded data removed]",
      "text/plain": [
       "<Figure size 640x480 with 1 Axes>"
      ]
     },
     "metadata": {},
     "output_type": "display_data"
    }
   ],
   "source": [
    "plt.pie(weekday_sales,labels=weekday_sales.index,autopct=\"%1.1f%%\",startangle=140)\n",
    "plt.title(\"Total Coffee Sales by Weekday\")\n",
    "plt.show()"
   ]
  },
  {
   "cell_type": "markdown",
   "id": "f0977f94-5d62-4a05-ad9d-fa9a42090beb",
   "metadata": {},
   "source": [
    "## Observation: Weekday Sales Distribution\n",
    "\n",
    "- A pie chart was plotted to visualize the proportion of total coffee sales contributed by each weekday.\n",
    "- Each slice represents a weekday’s share of total revenue, with percentage values displayed for clarity.\n",
    "- The chart helps identify which days contribute most to weekly sales, highlighting peak business days and slower periods.\n",
    "- This visualization provides a quick and intuitive understanding of customer activity patterns throughout the week, aiding in   staff scheduling and promotional planning."
   ]
  },
  {
   "cell_type": "code",
   "execution_count": 15,
   "id": "ec77134a-1bc4-4a91-9dc5-73c8373eb106",
   "metadata": {},
   "outputs": [
    {
     "data": {
      "text/plain": [
       "hour_of_day\n",
       "6       149.40\n",
       "7      2846.02\n",
       "8      7017.88\n",
       "9      7264.28\n",
       "10    10198.52\n",
       "11     8453.10\n",
       "12     7419.62\n",
       "13     7028.76\n",
       "14     7173.80\n",
       "15     7476.02\n",
       "16     9031.84\n",
       "17     7659.76\n",
       "18     7162.60\n",
       "19     7751.96\n",
       "20     5578.92\n",
       "21     6397.94\n",
       "22     3635.16\n",
       "Name: money, dtype: float64"
      ]
     },
     "execution_count": 15,
     "metadata": {},
     "output_type": "execute_result"
    }
   ],
   "source": [
    "hourly_sales = a.groupby('hour_of_day')['money'].sum()\n",
    "hourly_sales"
   ]
  },
  {
   "cell_type": "markdown",
   "id": "46b58e08-2032-4687-96ba-4362cd644f88",
   "metadata": {},
   "source": [
    "## Observation: Hourly Sales Analysis\n",
    "\n",
    "- The dataset is grouped by `hour_of_day` to calculate the total sales amount for each hour.\n",
    "- This reveals how revenue fluctuates throughout the day, helping identify peak business hours.\n",
    "- Typically, sales are higher during morning hours (when customers buy coffee before work) and may rise again slightly in the    evening.\n",
    "- Understanding hourly performance supports operational decisions, such as optimizing staff shifts, managing stock levels, and   running targeted time-based offers during low-demand hours."
   ]
  },
  {
   "cell_type": "code",
   "execution_count": 16,
   "id": "f070e4c6-46ff-4cb6-a985-63dcecd077a7",
   "metadata": {},
   "outputs": [
    {
     "data": {
      "text/plain": [
       "coffee_name\n",
       "Latte                  26875.30\n",
       "Americano with Milk    24751.12\n",
       "Cappuccino             17439.14\n",
       "Americano              14650.26\n",
       "Hot Chocolate           9933.46\n",
       "Cocoa                   8521.16\n",
       "Cortado                 7384.86\n",
       "Espresso                2690.28\n",
       "Name: money, dtype: float64"
      ]
     },
     "execution_count": 16,
     "metadata": {},
     "output_type": "execute_result"
    }
   ],
   "source": [
    "coffee_sales = a.groupby('coffee_name')['money'].sum().sort_values(ascending=False)\n",
    "coffee_sales"
   ]
  },
  {
   "cell_type": "markdown",
   "id": "f7513a57-872b-4f37-afc8-4d53f065c67b",
   "metadata": {},
   "source": [
    "## Observation: Coffee Type Sales Analysis\n",
    "\n",
    "- The dataset is grouped by `coffee_name` to calculate the total revenue generated by each coffee type.\n",
    "- The `sum()` function aggregates total sales (`money`) for every coffee variety, while sorting in descending order highlights   the   best-selling products.\n",
    "- This analysis helps identify which coffee types contribute most to overall revenue — for instance, drinks like Latte or        Cappuccino often lead sales.\n",
    "- Such insights are valuable for menu optimization, pricing strategy, and inventory planning, ensuring that popular coffee       types remain well-stocked and promoted effectively."
   ]
  },
  {
   "cell_type": "code",
   "execution_count": 17,
   "id": "7993ef3b-789d-47f2-aa2d-e19adbb9788f",
   "metadata": {},
   "outputs": [
    {
     "data": {
      "image/png": "[encoded data removed]",
      "text/plain": [
       "<Figure size 1000x500 with 1 Axes>"
      ]
     },
     "metadata": {},
     "output_type": "display_data"
    }
   ],
   "source": [
    "plt.figure(figsize=(10,5))\n",
    "coffee_sales.plot(kind='bar', color='yellow', edgecolor='black')\n",
    "plt.xlabel(\"coffee name\")\n",
    "plt.ylabel(\"Total sales\")\n",
    "plt.title(\"Total Sales of a coffee\")\n",
    "plt.show()"
   ]
  },
  {
   "cell_type": "markdown",
   "id": "4134fffc-d268-4293-a9f2-85c2d283b5b3",
   "metadata": {},
   "source": [
    "## Observation: Coffee Type Sales Visualization\n",
    "\n",
    "- A bar chart was plotted to display the total sales for each coffee type, providing a clear visual comparison of product        performance.\n",
    "- The chart highlights which coffee varieties generate the highest revenue and which ones have lower sales contributions.\n",
    "- Taller bars represent top-selling coffees, indicating strong customer preference, while shorter bars show less popular         options.\n",
    "- This visualization makes it easy to identify best-performing products, supporting decisions on promotions, pricing             adjustments, and inventory management."
   ]
  },
  {
   "cell_type": "code",
   "execution_count": 21,
   "id": "87475b8c-10bd-423b-8375-78ccbb66fc79",
   "metadata": {},
   "outputs": [
    {
     "data": {
      "text/plain": [
       "Time_of_Day\n",
       "Night        38186.34\n",
       "Afternoon    38130.04\n",
       "Morning      35929.20\n",
       "Name: money, dtype: float64"
      ]
     },
     "execution_count": 21,
     "metadata": {},
     "output_type": "execute_result"
    }
   ],
   "source": [
    "time_sales = a.groupby('Time_of_Day')['money'].sum().sort_values(ascending=False)\n",
    "time_sales"
   ]
  },
  {
   "cell_type": "markdown",
   "id": "6e5d9669-400d-4d64-8a55-288f5beca85f",
   "metadata": {},
   "source": [
    "## Observation: Time of Day Sales Analysis\n",
    "\n",
    "- The dataset is grouped by `Time_of_Day` to calculate the total revenue generated during different parts of the day \n",
    "  (e.g., Morning, Afternoon, Evening, Night).\n",
    "- The `sum()` function aggregates total sales (`money`) for each time period, and sorting in descending order highlights \n",
    "  the most profitable time segments.\n",
    "- This analysis reveals customer buying patterns, showing when coffee demand is highest — typically during \n",
    "  morning hours when people start their day.\n",
    "- Insights from this help optimize staff allocation, inventory preparation, and marketing campaigns based \n",
    "  on peak and off-peak hours."
   ]
  },
  {
   "cell_type": "code",
   "execution_count": 24,
   "id": "a2269733-0355-48f1-a110-6ea8284d39b9",
   "metadata": {},
   "outputs": [
    {
     "data": {
      "image/png": "[encoded data removed]",
      "text/plain": [
       "<Figure size 640x480 with 1 Axes>"
      ]
     },
     "metadata": {},
     "output_type": "display_data"
    }
   ],
   "source": [
    "plt.pie(time_sales,labels=time_sales.index,autopct=\"%1.1f%%\",startangle=140)\n",
    "plt.title(\"Coffee sales in a day\")\n",
    "plt.show()"
   ]
  },
  {
   "cell_type": "markdown",
   "id": "0b8f8596-6299-4f6f-9627-2e0ec6fa2aec",
   "metadata": {},
   "source": [
    "## Observation: Time of Day Sales Distribution\n",
    "\n",
    "- A pie chart was plotted to represent the percentage contribution of total sales across different times of the day.\n",
    "- Each slice shows how much revenue is generated during specific periods such as Morning, Afternoon, Evening, or Night.\n",
    "- The chart clearly highlights the dominant time of day for coffee purchases — typically the morning period, when customer       demand peaks.\n",
    "- This visualization provides a quick overview of daily customer behavior, helping businesses plan staffing, stock levels, and   promotional offers during high-demand hours."
   ]
  },
  {
   "cell_type": "code",
   "execution_count": 26,
   "id": "d6f07479-0236-41fa-b18f-bae013899d34",
   "metadata": {},
   "outputs": [
    {
     "data": {
      "text/html": [
       "<div>\n",
       "<style scoped>\n",
       "    .dataframe tbody tr th:only-of-type {\n",
       "        vertical-align: middle;\n",
       "    }\n",
       "\n",
       "    .dataframe tbody tr th {\n",
       "        vertical-align: top;\n",
       "    }\n",
       "\n",
       "    .dataframe thead th {\n",
       "        text-align: right;\n",
       "    }\n",
       "</style>\n",
       "<table border=\"1\" class=\"dataframe\">\n",
       "  <thead>\n",
       "    <tr style=\"text-align: right;\">\n",
       "      <th></th>\n",
       "      <th>coffee_name</th>\n",
       "      <th>money</th>\n",
       "    </tr>\n",
       "  </thead>\n",
       "  <tbody>\n",
       "    <tr>\n",
       "      <th>139</th>\n",
       "      <td>Latte</td>\n",
       "      <td>38.7</td>\n",
       "    </tr>\n",
       "    <tr>\n",
       "      <th>4</th>\n",
       "      <td>Latte</td>\n",
       "      <td>38.7</td>\n",
       "    </tr>\n",
       "    <tr>\n",
       "      <th>140</th>\n",
       "      <td>Latte</td>\n",
       "      <td>38.7</td>\n",
       "    </tr>\n",
       "    <tr>\n",
       "      <th>141</th>\n",
       "      <td>Latte</td>\n",
       "      <td>38.7</td>\n",
       "    </tr>\n",
       "    <tr>\n",
       "      <th>142</th>\n",
       "      <td>Latte</td>\n",
       "      <td>38.7</td>\n",
       "    </tr>\n",
       "    <tr>\n",
       "      <th>120</th>\n",
       "      <td>Cocoa</td>\n",
       "      <td>38.7</td>\n",
       "    </tr>\n",
       "    <tr>\n",
       "      <th>121</th>\n",
       "      <td>Latte</td>\n",
       "      <td>38.7</td>\n",
       "    </tr>\n",
       "    <tr>\n",
       "      <th>123</th>\n",
       "      <td>Cappuccino</td>\n",
       "      <td>38.7</td>\n",
       "    </tr>\n",
       "    <tr>\n",
       "      <th>125</th>\n",
       "      <td>Latte</td>\n",
       "      <td>38.7</td>\n",
       "    </tr>\n",
       "    <tr>\n",
       "      <th>131</th>\n",
       "      <td>Latte</td>\n",
       "      <td>38.7</td>\n",
       "    </tr>\n",
       "  </tbody>\n",
       "</table>\n",
       "</div>"
      ],
      "text/plain": [
       "    coffee_name  money\n",
       "139       Latte   38.7\n",
       "4         Latte   38.7\n",
       "140       Latte   38.7\n",
       "141       Latte   38.7\n",
       "142       Latte   38.7\n",
       "120       Cocoa   38.7\n",
       "121       Latte   38.7\n",
       "123  Cappuccino   38.7\n",
       "125       Latte   38.7\n",
       "131       Latte   38.7"
      ]
     },
     "execution_count": 26,
     "metadata": {},
     "output_type": "execute_result"
    }
   ],
   "source": [
    "top_10[[\"coffee_name\", \"money\"]]"
   ]
  },
  {
   "cell_type": "code",
   "execution_count": 27,
   "id": "fd05d1db-c1e5-43fc-a981-f9500b7698a2",
   "metadata": {},
   "outputs": [
    {
     "data": {
      "text/html": [
       "<div>\n",
       "<style scoped>\n",
       "    .dataframe tbody tr th:only-of-type {\n",
       "        vertical-align: middle;\n",
       "    }\n",
       "\n",
       "    .dataframe tbody tr th {\n",
       "        vertical-align: top;\n",
       "    }\n",
       "\n",
       "    .dataframe thead th {\n",
       "        text-align: right;\n",
       "    }\n",
       "</style>\n",
       "<table border=\"1\" class=\"dataframe\">\n",
       "  <thead>\n",
       "    <tr style=\"text-align: right;\">\n",
       "      <th></th>\n",
       "      <th>hour_of_day</th>\n",
       "      <th>cash_type</th>\n",
       "      <th>money</th>\n",
       "      <th>coffee_name</th>\n",
       "      <th>Time_of_Day</th>\n",
       "      <th>Weekday</th>\n",
       "      <th>Month_name</th>\n",
       "      <th>Weekdaysort</th>\n",
       "      <th>Monthsort</th>\n",
       "      <th>Date</th>\n",
       "      <th>Time</th>\n",
       "    </tr>\n",
       "  </thead>\n",
       "  <tbody>\n",
       "    <tr>\n",
       "      <th>139</th>\n",
       "      <td>18</td>\n",
       "      <td>card</td>\n",
       "      <td>38.7</td>\n",
       "      <td>Latte</td>\n",
       "      <td>Night</td>\n",
       "      <td>Sun</td>\n",
       "      <td>Mar</td>\n",
       "      <td>7</td>\n",
       "      <td>3</td>\n",
       "      <td>NaT</td>\n",
       "      <td>45:08.4</td>\n",
       "    </tr>\n",
       "    <tr>\n",
       "      <th>4</th>\n",
       "      <td>13</td>\n",
       "      <td>card</td>\n",
       "      <td>38.7</td>\n",
       "      <td>Latte</td>\n",
       "      <td>Afternoon</td>\n",
       "      <td>Fri</td>\n",
       "      <td>Mar</td>\n",
       "      <td>5</td>\n",
       "      <td>3</td>\n",
       "      <td>2024-01-03</td>\n",
       "      <td>48:14.6</td>\n",
       "    </tr>\n",
       "    <tr>\n",
       "      <th>140</th>\n",
       "      <td>10</td>\n",
       "      <td>card</td>\n",
       "      <td>38.7</td>\n",
       "      <td>Latte</td>\n",
       "      <td>Morning</td>\n",
       "      <td>Mon</td>\n",
       "      <td>Mar</td>\n",
       "      <td>1</td>\n",
       "      <td>3</td>\n",
       "      <td>NaT</td>\n",
       "      <td>31:47.2</td>\n",
       "    </tr>\n",
       "    <tr>\n",
       "      <th>141</th>\n",
       "      <td>14</td>\n",
       "      <td>card</td>\n",
       "      <td>38.7</td>\n",
       "      <td>Latte</td>\n",
       "      <td>Afternoon</td>\n",
       "      <td>Mon</td>\n",
       "      <td>Mar</td>\n",
       "      <td>1</td>\n",
       "      <td>3</td>\n",
       "      <td>NaT</td>\n",
       "      <td>27:09.2</td>\n",
       "    </tr>\n",
       "    <tr>\n",
       "      <th>142</th>\n",
       "      <td>14</td>\n",
       "      <td>card</td>\n",
       "      <td>38.7</td>\n",
       "      <td>Latte</td>\n",
       "      <td>Afternoon</td>\n",
       "      <td>Mon</td>\n",
       "      <td>Mar</td>\n",
       "      <td>1</td>\n",
       "      <td>3</td>\n",
       "      <td>NaT</td>\n",
       "      <td>29:25.3</td>\n",
       "    </tr>\n",
       "    <tr>\n",
       "      <th>120</th>\n",
       "      <td>16</td>\n",
       "      <td>card</td>\n",
       "      <td>38.7</td>\n",
       "      <td>Cocoa</td>\n",
       "      <td>Afternoon</td>\n",
       "      <td>Wed</td>\n",
       "      <td>Mar</td>\n",
       "      <td>3</td>\n",
       "      <td>3</td>\n",
       "      <td>NaT</td>\n",
       "      <td>42:38.1</td>\n",
       "    </tr>\n",
       "    <tr>\n",
       "      <th>121</th>\n",
       "      <td>17</td>\n",
       "      <td>card</td>\n",
       "      <td>38.7</td>\n",
       "      <td>Latte</td>\n",
       "      <td>Night</td>\n",
       "      <td>Wed</td>\n",
       "      <td>Mar</td>\n",
       "      <td>3</td>\n",
       "      <td>3</td>\n",
       "      <td>NaT</td>\n",
       "      <td>50:28.8</td>\n",
       "    </tr>\n",
       "    <tr>\n",
       "      <th>123</th>\n",
       "      <td>12</td>\n",
       "      <td>card</td>\n",
       "      <td>38.7</td>\n",
       "      <td>Cappuccino</td>\n",
       "      <td>Afternoon</td>\n",
       "      <td>Thu</td>\n",
       "      <td>Mar</td>\n",
       "      <td>4</td>\n",
       "      <td>3</td>\n",
       "      <td>NaT</td>\n",
       "      <td>26:17.4</td>\n",
       "    </tr>\n",
       "    <tr>\n",
       "      <th>125</th>\n",
       "      <td>19</td>\n",
       "      <td>card</td>\n",
       "      <td>38.7</td>\n",
       "      <td>Latte</td>\n",
       "      <td>Night</td>\n",
       "      <td>Thu</td>\n",
       "      <td>Mar</td>\n",
       "      <td>4</td>\n",
       "      <td>3</td>\n",
       "      <td>NaT</td>\n",
       "      <td>20:36.5</td>\n",
       "    </tr>\n",
       "    <tr>\n",
       "      <th>131</th>\n",
       "      <td>10</td>\n",
       "      <td>card</td>\n",
       "      <td>38.7</td>\n",
       "      <td>Latte</td>\n",
       "      <td>Morning</td>\n",
       "      <td>Sat</td>\n",
       "      <td>Mar</td>\n",
       "      <td>6</td>\n",
       "      <td>3</td>\n",
       "      <td>NaT</td>\n",
       "      <td>43:59.6</td>\n",
       "    </tr>\n",
       "  </tbody>\n",
       "</table>\n",
       "</div>"
      ],
      "text/plain": [
       "     hour_of_day cash_type  money coffee_name Time_of_Day Weekday Month_name  \\\n",
       "139           18      card   38.7       Latte       Night     Sun        Mar   \n",
       "4             13      card   38.7       Latte   Afternoon     Fri        Mar   \n",
       "140           10      card   38.7       Latte     Morning     Mon        Mar   \n",
       "141           14      card   38.7       Latte   Afternoon     Mon        Mar   \n",
       "142           14      card   38.7       Latte   Afternoon     Mon        Mar   \n",
       "120           16      card   38.7       Cocoa   Afternoon     Wed        Mar   \n",
       "121           17      card   38.7       Latte       Night     Wed        Mar   \n",
       "123           12      card   38.7  Cappuccino   Afternoon     Thu        Mar   \n",
       "125           19      card   38.7       Latte       Night     Thu        Mar   \n",
       "131           10      card   38.7       Latte     Morning     Sat        Mar   \n",
       "\n",
       "     Weekdaysort  Monthsort       Date     Time  \n",
       "139            7          3        NaT  45:08.4  \n",
       "4              5          3 2024-01-03  48:14.6  \n",
       "140            1          3        NaT  31:47.2  \n",
       "141            1          3        NaT  27:09.2  \n",
       "142            1          3        NaT  29:25.3  \n",
       "120            3          3        NaT  42:38.1  \n",
       "121            3          3        NaT  50:28.8  \n",
       "123            4          3        NaT  26:17.4  \n",
       "125            4          3        NaT  20:36.5  \n",
       "131            6          3        NaT  43:59.6  "
      ]
     },
     "execution_count": 27,
     "metadata": {},
     "output_type": "execute_result"
    }
   ],
   "source": [
    "top_10=a.sort_values(by=\"money\",ascending=False).head(10)\n",
    "top_10"
   ]
  },
  {
   "cell_type": "markdown",
   "id": "97aa4a99-9729-404e-8caf-5ac996dd4934",
   "metadata": {},
   "source": [
    "## Observation Summary\n",
    "\n",
    "- The Date column was successfully converted to datetime format, ensuring accurate time-based analysis.\n",
    "- Analysis of total and average sales revealed consistent performance with a few high-revenue days.\n",
    "- Monthly sales trends showed that certain months (like December or March) experienced higher customer demand.\n",
    "- Weekday analysis indicated that weekends, especially Saturday and Sunday, had the highest sales volume.\n",
    "- Hourly sales trends revealed a clear morning peak between 8 AM and 11 AM, aligning with typical coffee consumption habits.\n",
    "- Coffee type analysis showed that Latte and Cappuccino generated the most revenue, highlighting customer preferences.\n",
    "- Time-of-day analysis confirmed that most purchases occur during Morning and Afternoon hours.\n",
    "- Visualizations such as bar charts and pie charts provided clear insights into sales distribution and trends."
   ]
  },
  {
   "cell_type": "markdown",
   "id": "41b874e3-a8c5-4b01-af35-ac3effd7189a",
   "metadata": {},
   "source": [
    "## Final Conclusion\n",
    "\n",
    "- The analysis shows that morning hours and weekends generate the highest coffee sales, indicating strong customer demand        during these periods.\n",
    "- Among all products, Latte and Cappuccino emerged as the top-selling coffee types, contributing the most to overall revenue.\n",
    "- Monthly and weekday trends highlight consistent performance with noticeable peaks during specific months, suggesting           opportunities for seasonal promotions.\n",
    "- Overall, the insights gained from this dataset can help improve inventory management, staffing schedules, and marketing        strategies to enhance business profitability and customer satisfaction."
   ]
  }
 ],
 "metadata": {
  "kernelspec": {
   "display_name": "Python 3 (ipykernel)",
   "language": "python",
   "name": "python3"
  },
  "language_info": {
   "codemirror_mode": {
    "name": "ipython",
    "version": 3
   },
   "file_extension": ".py",
   "mimetype": "text/x-python",
   "name": "python",
   "nbconvert_exporter": "python",
   "pygments_lexer": "ipython3",
   "version": "3.13.5"
  }
 },
 "nbformat": 4,
 "nbformat_minor": 5
}
