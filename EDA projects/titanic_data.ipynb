{
 "cells": [
  {
   "cell_type": "markdown",
   "id": "60350bd1-b92d-4d5f-839b-f2c25b34729c",
   "metadata": {},
   "source": [
    "<h1 style=\"text-align: center;\"> Titanic Survival Analysis Using Python</h1>\n",
    "<em>The <strong>TITANIC</strong> was one of the largest and most luxurious ships of its time. It carried over two thousand passengers and crew members on its maiden voyage from <strong>Southampton to New York</strong>. Tragically, the ship struck an iceberg and sank, leading to <strong>one of the deadliest maritime disasters in history</strong>.</em>"
   ]
  },
  {
   "cell_type": "markdown",
   "id": "8d8192b6-7153-4959-9d70-117cf4d05f66",
   "metadata": {},
   "source": [
    "<h1><u>IMPORTING</u></h1>\n",
    "\n",
    "\n"
   ]
  },
  {
   "cell_type": "code",
   "execution_count": 1,
   "id": "399807dc-f747-43c9-884d-43703377f9bd",
   "metadata": {},
   "outputs": [],
   "source": [
    "import numpy as np\n",
    "import pandas as pd\n",
    "import matplotlib.pyplot as plt\n",
    "import seaborn as sns\n"
   ]
  },
  {
   "cell_type": "markdown",
   "id": "5a746c57-8c98-4e86-8a00-74c8e9bdb04f",
   "metadata": {},
   "source": [
    "<u><strong>data = pd.read_csv(\"Downloads/titanic.csv\")</strong></u>\n",
    "\n",
    "This line reads the Titanic dataset from a CSV file located in the **Downloads** folder and stores it in a pandas DataFrame named `data`.  \n",
    "- `pd.read_csv()` is a pandas function used to load data from a CSV file.  \n",
    "- `\"Downloads/titanic.csv\"` is the relative path to the file.  \n",
    "- The resulting `data` object allows you to explore, analyze, and manipulate the dataset using pandas tools."
   ]
  },
  {
   "cell_type": "markdown",
   "id": "575e3320-5a5a-4eae-8fc4-a3162dff06ed",
   "metadata": {},
   "source": [
    "This table contains detailed information about Titanic passengers, including demographics, ticketing, and survival status.\n",
    "- **PassengerId**: A unique identifier assigned to each passenger.\n",
    "- **Survived**: Indicates survival status — `0` means the passenger did not survive, `1` means they did.\n",
    "- **Pclass**: Passenger class — `1` for First Class, `2` for Second Class, and `3` for Third Class.\n",
    "- **Name**: Full name of the passenger, often includes titles like Mr., Mrs., Miss.\n",
    "- **Sex**: Gender of the passenger — either `male` or `female`.\n",
    "- **Age**: Age of the passenger in years.\n",
    "- **SibSp**: Number of siblings or spouses aboard the Titanic with the passenger.\n",
    "- **Parch**: Number of parents or children aboard the Titanic with the passenger.\n",
    "- **Ticket**: Ticket number. May be shared among passengers traveling together.\n",
    "- **Fare**: Amount paid for the ticket. Can reflect socioeconomic status.\n",
    "- **Cabin**: Cabin number where the passenger stayed. \n",
    "- **Embarked**: Port of embarkation — `C` for Cherbourg, `Q` for Queenstown, `S` for Southampton."
   ]
  },
  {
   "cell_type": "code",
   "execution_count": 2,
   "id": "8a03f85c-15f4-4d70-b2fb-8cc461535e1b",
   "metadata": {},
   "outputs": [
    {
     "data": {
      "text/html": [
       "<div>\n",
       "<style scoped>\n",
       "    .dataframe tbody tr th:only-of-type {\n",
       "        vertical-align: middle;\n",
       "    }\n",
       "\n",
       "    .dataframe tbody tr th {\n",
       "        vertical-align: top;\n",
       "    }\n",
       "\n",
       "    .dataframe thead th {\n",
       "        text-align: right;\n",
       "    }\n",
       "</style>\n",
       "<table border=\"1\" class=\"dataframe\">\n",
       "  <thead>\n",
       "    <tr style=\"text-align: right;\">\n",
       "      <th></th>\n",
       "      <th>PassengerId</th>\n",
       "      <th>Survived</th>\n",
       "      <th>Pclass</th>\n",
       "      <th>Name</th>\n",
       "      <th>Sex</th>\n",
       "      <th>Age</th>\n",
       "      <th>SibSp</th>\n",
       "      <th>Parch</th>\n",
       "      <th>Ticket</th>\n",
       "      <th>Fare</th>\n",
       "      <th>Cabin</th>\n",
       "      <th>Embarked</th>\n",
       "    </tr>\n",
       "  </thead>\n",
       "  <tbody>\n",
       "    <tr>\n",
       "      <th>0</th>\n",
       "      <td>1</td>\n",
       "      <td>0</td>\n",
       "      <td>3</td>\n",
       "      <td>Braund, Mr. Owen Harris</td>\n",
       "      <td>male</td>\n",
       "      <td>22.0</td>\n",
       "      <td>1</td>\n",
       "      <td>0</td>\n",
       "      <td>A/5 21171</td>\n",
       "      <td>7.2500</td>\n",
       "      <td>NaN</td>\n",
       "      <td>S</td>\n",
       "    </tr>\n",
       "    <tr>\n",
       "      <th>1</th>\n",
       "      <td>2</td>\n",
       "      <td>1</td>\n",
       "      <td>1</td>\n",
       "      <td>Cumings, Mrs. John Bradley (Florence Briggs Th...</td>\n",
       "      <td>female</td>\n",
       "      <td>38.0</td>\n",
       "      <td>1</td>\n",
       "      <td>0</td>\n",
       "      <td>PC 17599</td>\n",
       "      <td>71.2833</td>\n",
       "      <td>C85</td>\n",
       "      <td>C</td>\n",
       "    </tr>\n",
       "    <tr>\n",
       "      <th>2</th>\n",
       "      <td>3</td>\n",
       "      <td>1</td>\n",
       "      <td>3</td>\n",
       "      <td>Heikkinen, Miss. Laina</td>\n",
       "      <td>female</td>\n",
       "      <td>26.0</td>\n",
       "      <td>0</td>\n",
       "      <td>0</td>\n",
       "      <td>STON/O2. 3101282</td>\n",
       "      <td>7.9250</td>\n",
       "      <td>NaN</td>\n",
       "      <td>S</td>\n",
       "    </tr>\n",
       "    <tr>\n",
       "      <th>3</th>\n",
       "      <td>4</td>\n",
       "      <td>1</td>\n",
       "      <td>1</td>\n",
       "      <td>Futrelle, Mrs. Jacques Heath (Lily May Peel)</td>\n",
       "      <td>female</td>\n",
       "      <td>35.0</td>\n",
       "      <td>1</td>\n",
       "      <td>0</td>\n",
       "      <td>113803</td>\n",
       "      <td>53.1000</td>\n",
       "      <td>C123</td>\n",
       "      <td>S</td>\n",
       "    </tr>\n",
       "    <tr>\n",
       "      <th>4</th>\n",
       "      <td>5</td>\n",
       "      <td>0</td>\n",
       "      <td>3</td>\n",
       "      <td>Allen, Mr. William Henry</td>\n",
       "      <td>male</td>\n",
       "      <td>35.0</td>\n",
       "      <td>0</td>\n",
       "      <td>0</td>\n",
       "      <td>373450</td>\n",
       "      <td>8.0500</td>\n",
       "      <td>NaN</td>\n",
       "      <td>S</td>\n",
       "    </tr>\n",
       "    <tr>\n",
       "      <th>...</th>\n",
       "      <td>...</td>\n",
       "      <td>...</td>\n",
       "      <td>...</td>\n",
       "      <td>...</td>\n",
       "      <td>...</td>\n",
       "      <td>...</td>\n",
       "      <td>...</td>\n",
       "      <td>...</td>\n",
       "      <td>...</td>\n",
       "      <td>...</td>\n",
       "      <td>...</td>\n",
       "      <td>...</td>\n",
       "    </tr>\n",
       "    <tr>\n",
       "      <th>886</th>\n",
       "      <td>887</td>\n",
       "      <td>0</td>\n",
       "      <td>2</td>\n",
       "      <td>Montvila, Rev. Juozas</td>\n",
       "      <td>male</td>\n",
       "      <td>27.0</td>\n",
       "      <td>0</td>\n",
       "      <td>0</td>\n",
       "      <td>211536</td>\n",
       "      <td>13.0000</td>\n",
       "      <td>NaN</td>\n",
       "      <td>S</td>\n",
       "    </tr>\n",
       "    <tr>\n",
       "      <th>887</th>\n",
       "      <td>888</td>\n",
       "      <td>1</td>\n",
       "      <td>1</td>\n",
       "      <td>Graham, Miss. Margaret Edith</td>\n",
       "      <td>female</td>\n",
       "      <td>19.0</td>\n",
       "      <td>0</td>\n",
       "      <td>0</td>\n",
       "      <td>112053</td>\n",
       "      <td>30.0000</td>\n",
       "      <td>B42</td>\n",
       "      <td>S</td>\n",
       "    </tr>\n",
       "    <tr>\n",
       "      <th>888</th>\n",
       "      <td>889</td>\n",
       "      <td>0</td>\n",
       "      <td>3</td>\n",
       "      <td>Johnston, Miss. Catherine Helen \"Carrie\"</td>\n",
       "      <td>female</td>\n",
       "      <td>NaN</td>\n",
       "      <td>1</td>\n",
       "      <td>2</td>\n",
       "      <td>W./C. 6607</td>\n",
       "      <td>23.4500</td>\n",
       "      <td>NaN</td>\n",
       "      <td>S</td>\n",
       "    </tr>\n",
       "    <tr>\n",
       "      <th>889</th>\n",
       "      <td>890</td>\n",
       "      <td>1</td>\n",
       "      <td>1</td>\n",
       "      <td>Behr, Mr. Karl Howell</td>\n",
       "      <td>male</td>\n",
       "      <td>26.0</td>\n",
       "      <td>0</td>\n",
       "      <td>0</td>\n",
       "      <td>111369</td>\n",
       "      <td>30.0000</td>\n",
       "      <td>C148</td>\n",
       "      <td>C</td>\n",
       "    </tr>\n",
       "    <tr>\n",
       "      <th>890</th>\n",
       "      <td>891</td>\n",
       "      <td>0</td>\n",
       "      <td>3</td>\n",
       "      <td>Dooley, Mr. Patrick</td>\n",
       "      <td>male</td>\n",
       "      <td>32.0</td>\n",
       "      <td>0</td>\n",
       "      <td>0</td>\n",
       "      <td>370376</td>\n",
       "      <td>7.7500</td>\n",
       "      <td>NaN</td>\n",
       "      <td>Q</td>\n",
       "    </tr>\n",
       "  </tbody>\n",
       "</table>\n",
       "<p>891 rows × 12 columns</p>\n",
       "</div>"
      ],
      "text/plain": [
       "     PassengerId  Survived  Pclass  \\\n",
       "0              1         0       3   \n",
       "1              2         1       1   \n",
       "2              3         1       3   \n",
       "3              4         1       1   \n",
       "4              5         0       3   \n",
       "..           ...       ...     ...   \n",
       "886          887         0       2   \n",
       "887          888         1       1   \n",
       "888          889         0       3   \n",
       "889          890         1       1   \n",
       "890          891         0       3   \n",
       "\n",
       "                                                  Name     Sex   Age  SibSp  \\\n",
       "0                              Braund, Mr. Owen Harris    male  22.0      1   \n",
       "1    Cumings, Mrs. John Bradley (Florence Briggs Th...  female  38.0      1   \n",
       "2                               Heikkinen, Miss. Laina  female  26.0      0   \n",
       "3         Futrelle, Mrs. Jacques Heath (Lily May Peel)  female  35.0      1   \n",
       "4                             Allen, Mr. William Henry    male  35.0      0   \n",
       "..                                                 ...     ...   ...    ...   \n",
       "886                              Montvila, Rev. Juozas    male  27.0      0   \n",
       "887                       Graham, Miss. Margaret Edith  female  19.0      0   \n",
       "888           Johnston, Miss. Catherine Helen \"Carrie\"  female   NaN      1   \n",
       "889                              Behr, Mr. Karl Howell    male  26.0      0   \n",
       "890                                Dooley, Mr. Patrick    male  32.0      0   \n",
       "\n",
       "     Parch            Ticket     Fare Cabin Embarked  \n",
       "0        0         A/5 21171   7.2500   NaN        S  \n",
       "1        0          PC 17599  71.2833   C85        C  \n",
       "2        0  STON/O2. 3101282   7.9250   NaN        S  \n",
       "3        0            113803  53.1000  C123        S  \n",
       "4        0            373450   8.0500   NaN        S  \n",
       "..     ...               ...      ...   ...      ...  \n",
       "886      0            211536  13.0000   NaN        S  \n",
       "887      0            112053  30.0000   B42        S  \n",
       "888      2        W./C. 6607  23.4500   NaN        S  \n",
       "889      0            111369  30.0000  C148        C  \n",
       "890      0            370376   7.7500   NaN        Q  \n",
       "\n",
       "[891 rows x 12 columns]"
      ]
     },
     "execution_count": 2,
     "metadata": {},
     "output_type": "execute_result"
    }
   ],
   "source": [
    "data=pd.read_csv(\"Downloads/titanic.csv\")\n",
    "data"
   ]
  },
  {
   "cell_type": "markdown",
   "id": "f88012e7-79b5-43f2-b08d-bca5a0c778bb",
   "metadata": {},
   "source": [
    "## Observation: Reading the Dataset\n",
    "\n",
    "- Used `pd.read_csv(\"Downloads/titanic.csv\")` to load the Titanic dataset into a pandas DataFrame.\n",
    "- This step imports the data into memory, making it accessible for analysis.\n",
    "- It confirms that the file path is correct and the dataset is ready for inspection.\n",
    "\n"
   ]
  },
  {
   "cell_type": "code",
   "execution_count": 3,
   "id": "c160c2dd-6561-4b66-9743-22a919a57d5e",
   "metadata": {},
   "outputs": [
    {
     "data": {
      "text/plain": [
       "(891, 12)"
      ]
     },
     "execution_count": 3,
     "metadata": {},
     "output_type": "execute_result"
    }
   ],
   "source": [
    "data.shape"
   ]
  },
  {
   "cell_type": "markdown",
   "id": "2cfd8af3-bff1-4de5-b3e6-ec972cdbef70",
   "metadata": {},
   "source": [
    "## Observation: Checking Dataset Dimensions\n",
    "\n",
    "- Used `data.shape` to find the number of rows and columns in the dataset.\n",
    "- Helps understand the scale of the data (e.g., 891 rows and 12 columns).\n",
    "- Useful for estimating memory usage and planning preprocessing steps.\n",
    "\n"
   ]
  },
  {
   "cell_type": "code",
   "execution_count": 4,
   "id": "dab96502-e2d1-4d7c-bb67-3196449bedcf",
   "metadata": {},
   "outputs": [
    {
     "name": "stdout",
     "output_type": "stream",
     "text": [
      "<class 'pandas.core.frame.DataFrame'>\n",
      "RangeIndex: 891 entries, 0 to 890\n",
      "Data columns (total 12 columns):\n",
      " #   Column       Non-Null Count  Dtype  \n",
      "---  ------       --------------  -----  \n",
      " 0   PassengerId  891 non-null    int64  \n",
      " 1   Survived     891 non-null    int64  \n",
      " 2   Pclass       891 non-null    int64  \n",
      " 3   Name         891 non-null    object \n",
      " 4   Sex          891 non-null    object \n",
      " 5   Age          714 non-null    float64\n",
      " 6   SibSp        891 non-null    int64  \n",
      " 7   Parch        891 non-null    int64  \n",
      " 8   Ticket       891 non-null    object \n",
      " 9   Fare         891 non-null    float64\n",
      " 10  Cabin        204 non-null    object \n",
      " 11  Embarked     889 non-null    object \n",
      "dtypes: float64(2), int64(5), object(5)\n",
      "memory usage: 83.7+ KB\n"
     ]
    }
   ],
   "source": [
    "data.info()"
   ]
  },
  {
   "cell_type": "markdown",
   "id": "ae731073-26dc-4f06-b463-83f54acc9f43",
   "metadata": {},
   "source": [
    "## Observation: Viewing Dataset Summary\n",
    "\n",
    "- Used `data.info()` to get a concise overview of the dataset.\n",
    "- Reveals column names, data types, and non-null counts.\n",
    "- Helps identify missing values and understand the structure of each column.\n",
    "\n"
   ]
  },
  {
   "cell_type": "code",
   "execution_count": 5,
   "id": "4886922f-adcf-4f1a-8c02-1d08c1c339d9",
   "metadata": {},
   "outputs": [
    {
     "data": {
      "text/plain": [
       "PassengerId      int64\n",
       "Survived         int64\n",
       "Pclass           int64\n",
       "Name            object\n",
       "Sex             object\n",
       "Age            float64\n",
       "SibSp            int64\n",
       "Parch            int64\n",
       "Ticket          object\n",
       "Fare           float64\n",
       "Cabin           object\n",
       "Embarked        object\n",
       "dtype: object"
      ]
     },
     "execution_count": 5,
     "metadata": {},
     "output_type": "execute_result"
    }
   ],
   "source": [
    "data.dtypes"
   ]
  },
  {
   "cell_type": "markdown",
   "id": "016e7b7f-f07f-4230-9d6d-15963bcecc48",
   "metadata": {},
   "source": [
    "## Observation: Inspecting Data Types\n",
    "\n",
    "- Used `data.dtypes` to check the type of data in each column.\n",
    "- Distinguishes between numerical (`int64`, `float64`) and categorical (`object`) features.\n",
    "- Guides how each column should be processed (e.g., encoding, scaling).\n"
   ]
  },
  {
   "cell_type": "code",
   "execution_count": 6,
   "id": "4d664ce4-2bf8-4566-9f18-566f47c3e23a",
   "metadata": {},
   "outputs": [
    {
     "data": {
      "text/html": [
       "<div>\n",
       "<style scoped>\n",
       "    .dataframe tbody tr th:only-of-type {\n",
       "        vertical-align: middle;\n",
       "    }\n",
       "\n",
       "    .dataframe tbody tr th {\n",
       "        vertical-align: top;\n",
       "    }\n",
       "\n",
       "    .dataframe thead th {\n",
       "        text-align: right;\n",
       "    }\n",
       "</style>\n",
       "<table border=\"1\" class=\"dataframe\">\n",
       "  <thead>\n",
       "    <tr style=\"text-align: right;\">\n",
       "      <th></th>\n",
       "      <th>PassengerId</th>\n",
       "      <th>Survived</th>\n",
       "      <th>Pclass</th>\n",
       "      <th>Name</th>\n",
       "      <th>Sex</th>\n",
       "      <th>Age</th>\n",
       "      <th>SibSp</th>\n",
       "      <th>Parch</th>\n",
       "      <th>Ticket</th>\n",
       "      <th>Fare</th>\n",
       "      <th>Cabin</th>\n",
       "      <th>Embarked</th>\n",
       "    </tr>\n",
       "  </thead>\n",
       "  <tbody>\n",
       "    <tr>\n",
       "      <th>0</th>\n",
       "      <td>1</td>\n",
       "      <td>0</td>\n",
       "      <td>3</td>\n",
       "      <td>Braund, Mr. Owen Harris</td>\n",
       "      <td>male</td>\n",
       "      <td>22.0</td>\n",
       "      <td>1</td>\n",
       "      <td>0</td>\n",
       "      <td>A/5 21171</td>\n",
       "      <td>7.2500</td>\n",
       "      <td>NaN</td>\n",
       "      <td>S</td>\n",
       "    </tr>\n",
       "    <tr>\n",
       "      <th>1</th>\n",
       "      <td>2</td>\n",
       "      <td>1</td>\n",
       "      <td>1</td>\n",
       "      <td>Cumings, Mrs. John Bradley (Florence Briggs Th...</td>\n",
       "      <td>female</td>\n",
       "      <td>38.0</td>\n",
       "      <td>1</td>\n",
       "      <td>0</td>\n",
       "      <td>PC 17599</td>\n",
       "      <td>71.2833</td>\n",
       "      <td>C85</td>\n",
       "      <td>C</td>\n",
       "    </tr>\n",
       "    <tr>\n",
       "      <th>2</th>\n",
       "      <td>3</td>\n",
       "      <td>1</td>\n",
       "      <td>3</td>\n",
       "      <td>Heikkinen, Miss. Laina</td>\n",
       "      <td>female</td>\n",
       "      <td>26.0</td>\n",
       "      <td>0</td>\n",
       "      <td>0</td>\n",
       "      <td>STON/O2. 3101282</td>\n",
       "      <td>7.9250</td>\n",
       "      <td>NaN</td>\n",
       "      <td>S</td>\n",
       "    </tr>\n",
       "    <tr>\n",
       "      <th>3</th>\n",
       "      <td>4</td>\n",
       "      <td>1</td>\n",
       "      <td>1</td>\n",
       "      <td>Futrelle, Mrs. Jacques Heath (Lily May Peel)</td>\n",
       "      <td>female</td>\n",
       "      <td>35.0</td>\n",
       "      <td>1</td>\n",
       "      <td>0</td>\n",
       "      <td>113803</td>\n",
       "      <td>53.1000</td>\n",
       "      <td>C123</td>\n",
       "      <td>S</td>\n",
       "    </tr>\n",
       "    <tr>\n",
       "      <th>4</th>\n",
       "      <td>5</td>\n",
       "      <td>0</td>\n",
       "      <td>3</td>\n",
       "      <td>Allen, Mr. William Henry</td>\n",
       "      <td>male</td>\n",
       "      <td>35.0</td>\n",
       "      <td>0</td>\n",
       "      <td>0</td>\n",
       "      <td>373450</td>\n",
       "      <td>8.0500</td>\n",
       "      <td>NaN</td>\n",
       "      <td>S</td>\n",
       "    </tr>\n",
       "  </tbody>\n",
       "</table>\n",
       "</div>"
      ],
      "text/plain": [
       "   PassengerId  Survived  Pclass  \\\n",
       "0            1         0       3   \n",
       "1            2         1       1   \n",
       "2            3         1       3   \n",
       "3            4         1       1   \n",
       "4            5         0       3   \n",
       "\n",
       "                                                Name     Sex   Age  SibSp  \\\n",
       "0                            Braund, Mr. Owen Harris    male  22.0      1   \n",
       "1  Cumings, Mrs. John Bradley (Florence Briggs Th...  female  38.0      1   \n",
       "2                             Heikkinen, Miss. Laina  female  26.0      0   \n",
       "3       Futrelle, Mrs. Jacques Heath (Lily May Peel)  female  35.0      1   \n",
       "4                           Allen, Mr. William Henry    male  35.0      0   \n",
       "\n",
       "   Parch            Ticket     Fare Cabin Embarked  \n",
       "0      0         A/5 21171   7.2500   NaN        S  \n",
       "1      0          PC 17599  71.2833   C85        C  \n",
       "2      0  STON/O2. 3101282   7.9250   NaN        S  \n",
       "3      0            113803  53.1000  C123        S  \n",
       "4      0            373450   8.0500   NaN        S  "
      ]
     },
     "execution_count": 6,
     "metadata": {},
     "output_type": "execute_result"
    }
   ],
   "source": [
    "data.head(5)"
   ]
  },
  {
   "cell_type": "markdown",
   "id": "c75782ca-fc73-4bef-b7b4-63caa8b5c94f",
   "metadata": {},
   "source": [
    "## Observation: Previewing Sample Data\n",
    "\n",
    "- Used `data.head(5)` to view the first five rows of the dataset.\n",
    "- Confirms that the data loaded correctly and shows sample values.\n",
    "- Helps spot formatting issues, missing values, or unusual entries early on.\n"
   ]
  },
  {
   "cell_type": "code",
   "execution_count": 7,
   "id": "a6d2b30c-98fa-485e-91f6-a5538519bcd7",
   "metadata": {},
   "outputs": [
    {
     "data": {
      "text/plain": [
       "False    891\n",
       "Name: count, dtype: int64"
      ]
     },
     "execution_count": 7,
     "metadata": {},
     "output_type": "execute_result"
    }
   ],
   "source": [
    "data.duplicated().value_counts()"
   ]
  },
  {
   "cell_type": "markdown",
   "id": "771cdfd5-b5b4-4420-9a80-ee892c10be07",
   "metadata": {},
   "source": [
    "## Observation: Checking Duplicate Rows\n",
    "\n",
    "- Used `data.duplicated().value_counts()` to count how many rows in the dataset are duplicates.\n",
    "- Returns a count of `True` (duplicate rows) and `False` (unique rows).\n",
    "- Helps identify data quality issues — if duplicates exist, they may need to be removed before analysis."
   ]
  },
  {
   "cell_type": "code",
   "execution_count": 8,
   "id": "c6634401-520a-48ad-924c-86d87ea3e291",
   "metadata": {},
   "outputs": [
    {
     "data": {
      "text/plain": [
       "PassengerId      0\n",
       "Survived         0\n",
       "Pclass           0\n",
       "Name             0\n",
       "Sex              0\n",
       "Age            177\n",
       "SibSp            0\n",
       "Parch            0\n",
       "Ticket           0\n",
       "Fare             0\n",
       "Cabin          687\n",
       "Embarked         2\n",
       "dtype: int64"
      ]
     },
     "execution_count": 8,
     "metadata": {},
     "output_type": "execute_result"
    }
   ],
   "source": [
    "missing=data.isnull().sum()\n",
    "missing"
   ]
  },
  {
   "cell_type": "markdown",
   "id": "4e4ba1fb-c315-4e23-8f7c-a88cbbc45852",
   "metadata": {},
   "source": [
    "## Observation: Identifying Missing Values\n",
    "\n",
    "- Used `data.isnull().sum()` to calculate the total number of missing (null) values in each column.\n",
    "- Assigned the result to a variable named `missing`, then printed it to view the count.\n",
    "- Helps identify which columns need attention for data cleaning, such as imputation or removal."
   ]
  },
  {
   "cell_type": "code",
   "execution_count": 11,
   "id": "ae28cc72-9366-4b82-9cce-bc453903851c",
   "metadata": {},
   "outputs": [
    {
     "data": {
      "image/png": "[encoded data removed]",
      "text/plain": [
       "<Figure size 640x480 with 1 Axes>"
      ]
     },
     "metadata": {},
     "output_type": "display_data"
    }
   ],
   "source": [
    "x=missing.plot(kind=\"bar\",color=\"blue\")\n",
    "plt.xlabel(\"COLUMNS\")\n",
    "plt.ylabel(\"PLOTTING MISSING VALUES\")\n",
    "plt.title(\"MISSING COUNT\")\n",
    "plt.xticks(rotation=45)\n",
    "for index,value in enumerate(missing):\n",
    "    plt.text(index,value+5,str(value),ha=\"center\",va=\"bottom\",fontsize=10,fontweight=\"bold\")\n",
    "plt.show()"
   ]
  },
  {
   "cell_type": "markdown",
   "id": "20eb918b-431d-40c6-bd8e-cffc2af363bf",
   "metadata": {},
   "source": [
    "## Observation: Visualizing Missing Values\n",
    "\n",
    "- Plotted a bar chart using `missing.plot(kind=\"bar\", color=\"red\")` to show the count of missing values per column.\n",
    "- Added axis labels, title, and rotated x-axis ticks for better readability.\n",
    "- Annotated each bar with the exact missing count using `plt.text()` to make the chart more informative."
   ]
  },
  {
   "cell_type": "code",
   "execution_count": 10,
   "id": "4e7437b3-f5ae-4425-9cdc-fae9844dbe39",
   "metadata": {},
   "outputs": [
    {
     "data": {
      "text/html": [
       "<div>\n",
       "<style scoped>\n",
       "    .dataframe tbody tr th:only-of-type {\n",
       "        vertical-align: middle;\n",
       "    }\n",
       "\n",
       "    .dataframe tbody tr th {\n",
       "        vertical-align: top;\n",
       "    }\n",
       "\n",
       "    .dataframe thead th {\n",
       "        text-align: right;\n",
       "    }\n",
       "</style>\n",
       "<table border=\"1\" class=\"dataframe\">\n",
       "  <thead>\n",
       "    <tr style=\"text-align: right;\">\n",
       "      <th></th>\n",
       "      <th>PassengerId</th>\n",
       "      <th>Survived</th>\n",
       "      <th>Pclass</th>\n",
       "      <th>Name</th>\n",
       "      <th>Sex</th>\n",
       "      <th>Age</th>\n",
       "      <th>SibSp</th>\n",
       "      <th>Parch</th>\n",
       "      <th>Ticket</th>\n",
       "      <th>Fare</th>\n",
       "      <th>Embarked</th>\n",
       "    </tr>\n",
       "  </thead>\n",
       "  <tbody>\n",
       "    <tr>\n",
       "      <th>0</th>\n",
       "      <td>1</td>\n",
       "      <td>0</td>\n",
       "      <td>3</td>\n",
       "      <td>Braund, Mr. Owen Harris</td>\n",
       "      <td>male</td>\n",
       "      <td>22.0</td>\n",
       "      <td>1</td>\n",
       "      <td>0</td>\n",
       "      <td>A/5 21171</td>\n",
       "      <td>7.2500</td>\n",
       "      <td>S</td>\n",
       "    </tr>\n",
       "    <tr>\n",
       "      <th>1</th>\n",
       "      <td>2</td>\n",
       "      <td>1</td>\n",
       "      <td>1</td>\n",
       "      <td>Cumings, Mrs. John Bradley (Florence Briggs Th...</td>\n",
       "      <td>female</td>\n",
       "      <td>38.0</td>\n",
       "      <td>1</td>\n",
       "      <td>0</td>\n",
       "      <td>PC 17599</td>\n",
       "      <td>71.2833</td>\n",
       "      <td>C</td>\n",
       "    </tr>\n",
       "    <tr>\n",
       "      <th>2</th>\n",
       "      <td>3</td>\n",
       "      <td>1</td>\n",
       "      <td>3</td>\n",
       "      <td>Heikkinen, Miss. Laina</td>\n",
       "      <td>female</td>\n",
       "      <td>26.0</td>\n",
       "      <td>0</td>\n",
       "      <td>0</td>\n",
       "      <td>STON/O2. 3101282</td>\n",
       "      <td>7.9250</td>\n",
       "      <td>S</td>\n",
       "    </tr>\n",
       "    <tr>\n",
       "      <th>3</th>\n",
       "      <td>4</td>\n",
       "      <td>1</td>\n",
       "      <td>1</td>\n",
       "      <td>Futrelle, Mrs. Jacques Heath (Lily May Peel)</td>\n",
       "      <td>female</td>\n",
       "      <td>35.0</td>\n",
       "      <td>1</td>\n",
       "      <td>0</td>\n",
       "      <td>113803</td>\n",
       "      <td>53.1000</td>\n",
       "      <td>S</td>\n",
       "    </tr>\n",
       "    <tr>\n",
       "      <th>4</th>\n",
       "      <td>5</td>\n",
       "      <td>0</td>\n",
       "      <td>3</td>\n",
       "      <td>Allen, Mr. William Henry</td>\n",
       "      <td>male</td>\n",
       "      <td>35.0</td>\n",
       "      <td>0</td>\n",
       "      <td>0</td>\n",
       "      <td>373450</td>\n",
       "      <td>8.0500</td>\n",
       "      <td>S</td>\n",
       "    </tr>\n",
       "    <tr>\n",
       "      <th>...</th>\n",
       "      <td>...</td>\n",
       "      <td>...</td>\n",
       "      <td>...</td>\n",
       "      <td>...</td>\n",
       "      <td>...</td>\n",
       "      <td>...</td>\n",
       "      <td>...</td>\n",
       "      <td>...</td>\n",
       "      <td>...</td>\n",
       "      <td>...</td>\n",
       "      <td>...</td>\n",
       "    </tr>\n",
       "    <tr>\n",
       "      <th>886</th>\n",
       "      <td>887</td>\n",
       "      <td>0</td>\n",
       "      <td>2</td>\n",
       "      <td>Montvila, Rev. Juozas</td>\n",
       "      <td>male</td>\n",
       "      <td>27.0</td>\n",
       "      <td>0</td>\n",
       "      <td>0</td>\n",
       "      <td>211536</td>\n",
       "      <td>13.0000</td>\n",
       "      <td>S</td>\n",
       "    </tr>\n",
       "    <tr>\n",
       "      <th>887</th>\n",
       "      <td>888</td>\n",
       "      <td>1</td>\n",
       "      <td>1</td>\n",
       "      <td>Graham, Miss. Margaret Edith</td>\n",
       "      <td>female</td>\n",
       "      <td>19.0</td>\n",
       "      <td>0</td>\n",
       "      <td>0</td>\n",
       "      <td>112053</td>\n",
       "      <td>30.0000</td>\n",
       "      <td>S</td>\n",
       "    </tr>\n",
       "    <tr>\n",
       "      <th>888</th>\n",
       "      <td>889</td>\n",
       "      <td>0</td>\n",
       "      <td>3</td>\n",
       "      <td>Johnston, Miss. Catherine Helen \"Carrie\"</td>\n",
       "      <td>female</td>\n",
       "      <td>NaN</td>\n",
       "      <td>1</td>\n",
       "      <td>2</td>\n",
       "      <td>W./C. 6607</td>\n",
       "      <td>23.4500</td>\n",
       "      <td>S</td>\n",
       "    </tr>\n",
       "    <tr>\n",
       "      <th>889</th>\n",
       "      <td>890</td>\n",
       "      <td>1</td>\n",
       "      <td>1</td>\n",
       "      <td>Behr, Mr. Karl Howell</td>\n",
       "      <td>male</td>\n",
       "      <td>26.0</td>\n",
       "      <td>0</td>\n",
       "      <td>0</td>\n",
       "      <td>111369</td>\n",
       "      <td>30.0000</td>\n",
       "      <td>C</td>\n",
       "    </tr>\n",
       "    <tr>\n",
       "      <th>890</th>\n",
       "      <td>891</td>\n",
       "      <td>0</td>\n",
       "      <td>3</td>\n",
       "      <td>Dooley, Mr. Patrick</td>\n",
       "      <td>male</td>\n",
       "      <td>32.0</td>\n",
       "      <td>0</td>\n",
       "      <td>0</td>\n",
       "      <td>370376</td>\n",
       "      <td>7.7500</td>\n",
       "      <td>Q</td>\n",
       "    </tr>\n",
       "  </tbody>\n",
       "</table>\n",
       "<p>891 rows × 11 columns</p>\n",
       "</div>"
      ],
      "text/plain": [
       "     PassengerId  Survived  Pclass  \\\n",
       "0              1         0       3   \n",
       "1              2         1       1   \n",
       "2              3         1       3   \n",
       "3              4         1       1   \n",
       "4              5         0       3   \n",
       "..           ...       ...     ...   \n",
       "886          887         0       2   \n",
       "887          888         1       1   \n",
       "888          889         0       3   \n",
       "889          890         1       1   \n",
       "890          891         0       3   \n",
       "\n",
       "                                                  Name     Sex   Age  SibSp  \\\n",
       "0                              Braund, Mr. Owen Harris    male  22.0      1   \n",
       "1    Cumings, Mrs. John Bradley (Florence Briggs Th...  female  38.0      1   \n",
       "2                               Heikkinen, Miss. Laina  female  26.0      0   \n",
       "3         Futrelle, Mrs. Jacques Heath (Lily May Peel)  female  35.0      1   \n",
       "4                             Allen, Mr. William Henry    male  35.0      0   \n",
       "..                                                 ...     ...   ...    ...   \n",
       "886                              Montvila, Rev. Juozas    male  27.0      0   \n",
       "887                       Graham, Miss. Margaret Edith  female  19.0      0   \n",
       "888           Johnston, Miss. Catherine Helen \"Carrie\"  female   NaN      1   \n",
       "889                              Behr, Mr. Karl Howell    male  26.0      0   \n",
       "890                                Dooley, Mr. Patrick    male  32.0      0   \n",
       "\n",
       "     Parch            Ticket     Fare Embarked  \n",
       "0        0         A/5 21171   7.2500        S  \n",
       "1        0          PC 17599  71.2833        C  \n",
       "2        0  STON/O2. 3101282   7.9250        S  \n",
       "3        0            113803  53.1000        S  \n",
       "4        0            373450   8.0500        S  \n",
       "..     ...               ...      ...      ...  \n",
       "886      0            211536  13.0000        S  \n",
       "887      0            112053  30.0000        S  \n",
       "888      2        W./C. 6607  23.4500        S  \n",
       "889      0            111369  30.0000        C  \n",
       "890      0            370376   7.7500        Q  \n",
       "\n",
       "[891 rows x 11 columns]"
      ]
     },
     "execution_count": 10,
     "metadata": {},
     "output_type": "execute_result"
    }
   ],
   "source": [
    "data=data.drop(columns=\"Cabin\")\n",
    "data"
   ]
  },
  {
   "cell_type": "markdown",
   "id": "4e2138ca-8c69-4634-8083-7a628175f4a9",
   "metadata": {},
   "source": [
    "## Observation: Dropping the 'Cabin' Column\n",
    "\n",
    "- Used `data.drop(columns=\"Cabin\")` to remove the 'Cabin' column from the dataset.\n",
    "- Assigned the result back to `data`, updating the DataFrame without the dropped column.\n",
    "- This step is useful when a column has too many missing values or is not relevant for analysis."
   ]
  },
  {
   "cell_type": "code",
   "execution_count": 12,
   "id": "20f4d61d-dafc-4523-adbb-e4fbc4a49d0e",
   "metadata": {},
   "outputs": [
    {
     "data": {
      "text/plain": [
       "0      22.0\n",
       "1      38.0\n",
       "2      26.0\n",
       "3      35.0\n",
       "4      35.0\n",
       "       ... \n",
       "886    27.0\n",
       "887    19.0\n",
       "888    28.0\n",
       "889    26.0\n",
       "890    32.0\n",
       "Name: Age, Length: 891, dtype: float64"
      ]
     },
     "execution_count": 12,
     "metadata": {},
     "output_type": "execute_result"
    }
   ],
   "source": [
    "Age=data[\"Age\"]=data[\"Age\"].fillna(data[\"Age\"].median())\n",
    "Age"
   ]
  },
  {
   "cell_type": "markdown",
   "id": "2ce3af94-78f5-4ed7-8b33-5a5fa4c7076e",
   "metadata": {},
   "source": [
    "## Observation: Handling Missing Values in 'Age' Column\n",
    "\n",
    "- Used `data[\"Age\"].fillna(data[\"Age\"].median())` to replace missing values in the 'Age' column with the median age.\n",
    "- Assigned the cleaned column back to both `data[\"Age\"]` and a variable named `Age`.\n",
    "- This approach preserves the distribution of the data and avoids distortion caused by extreme values (compared to using mean)."
   ]
  },
  {
   "cell_type": "code",
   "execution_count": 13,
   "id": "7fe1a2c6-679a-44c0-b593-f2a99c8cff05",
   "metadata": {},
   "outputs": [
    {
     "data": {
      "text/plain": [
       "0      S\n",
       "1      C\n",
       "2      S\n",
       "3      S\n",
       "4      S\n",
       "      ..\n",
       "886    S\n",
       "887    S\n",
       "888    S\n",
       "889    C\n",
       "890    Q\n",
       "Name: Embarked, Length: 891, dtype: object"
      ]
     },
     "execution_count": 13,
     "metadata": {},
     "output_type": "execute_result"
    }
   ],
   "source": [
    "Embarked=data[\"Embarked\"]=data[\"Embarked\"].fillna(data[\"Embarked\"].mode()[0])\n",
    "Embarked"
   ]
  },
  {
   "cell_type": "markdown",
   "id": "639a4da8-204e-4fe8-9a00-15eca8d40b71",
   "metadata": {},
   "source": [
    "## Observation: Handling Missing Values in 'Embarked' Column\n",
    "\n",
    "- Used `data[\"Embarked\"].fillna(data[\"Embarked\"].mode()[0])` to fill missing values with the most frequent category (mode).\n",
    "- Assigned the cleaned column back to both `data[\"Embarked\"]` and a variable named `Embarked`.\n",
    "- This method preserves the dominant category and avoids introducing bias from rare or unknown values."
   ]
  },
  {
   "cell_type": "code",
   "execution_count": 14,
   "id": "790a9390-44e2-4bfa-8afd-3778cd5acc56",
   "metadata": {},
   "outputs": [
    {
     "data": {
      "text/plain": [
       "PassengerId    0\n",
       "Survived       0\n",
       "Pclass         0\n",
       "Name           0\n",
       "Sex            0\n",
       "Age            0\n",
       "SibSp          0\n",
       "Parch          0\n",
       "Ticket         0\n",
       "Fare           0\n",
       "Embarked       0\n",
       "dtype: int64"
      ]
     },
     "execution_count": 14,
     "metadata": {},
     "output_type": "execute_result"
    }
   ],
   "source": [
    "data.isnull().sum()"
   ]
  },
  {
   "cell_type": "markdown",
   "id": "1bb6d560-342c-44ed-a85f-f1790d7f2a9d",
   "metadata": {},
   "source": [
    "## Observation: Rechecking Missing Values\n",
    "\n",
    "- Used `data.isnull().sum()` to count missing values in each column after handling 'Age' and 'Embarked'.\n",
    "- Confirms whether any columns still contain null entries.\n",
    "- Helps verify that previous cleaning steps were successful and identify if further action is needed."
   ]
  },
  {
   "cell_type": "code",
   "execution_count": 15,
   "id": "93c718f1-38cc-410c-91c7-185a71a1ac82",
   "metadata": {},
   "outputs": [
    {
     "data": {
      "text/html": [
       "<div>\n",
       "<style scoped>\n",
       "    .dataframe tbody tr th:only-of-type {\n",
       "        vertical-align: middle;\n",
       "    }\n",
       "\n",
       "    .dataframe tbody tr th {\n",
       "        vertical-align: top;\n",
       "    }\n",
       "\n",
       "    .dataframe thead th {\n",
       "        text-align: right;\n",
       "    }\n",
       "</style>\n",
       "<table border=\"1\" class=\"dataframe\">\n",
       "  <thead>\n",
       "    <tr style=\"text-align: right;\">\n",
       "      <th></th>\n",
       "      <th>PassengerId</th>\n",
       "      <th>Survived</th>\n",
       "      <th>Pclass</th>\n",
       "      <th>Name</th>\n",
       "      <th>Sex</th>\n",
       "      <th>Age</th>\n",
       "      <th>SibSp</th>\n",
       "      <th>Parch</th>\n",
       "      <th>Ticket</th>\n",
       "      <th>Fare</th>\n",
       "      <th>Embarked</th>\n",
       "    </tr>\n",
       "  </thead>\n",
       "  <tbody>\n",
       "    <tr>\n",
       "      <th>0</th>\n",
       "      <td>1</td>\n",
       "      <td>0</td>\n",
       "      <td>3</td>\n",
       "      <td>Braund, Mr. Owen Harris</td>\n",
       "      <td>male</td>\n",
       "      <td>22.0</td>\n",
       "      <td>1</td>\n",
       "      <td>0</td>\n",
       "      <td>A/5 21171</td>\n",
       "      <td>7.2500</td>\n",
       "      <td>S</td>\n",
       "    </tr>\n",
       "    <tr>\n",
       "      <th>1</th>\n",
       "      <td>2</td>\n",
       "      <td>1</td>\n",
       "      <td>1</td>\n",
       "      <td>Cumings, Mrs. John Bradley (Florence Briggs Th...</td>\n",
       "      <td>female</td>\n",
       "      <td>38.0</td>\n",
       "      <td>1</td>\n",
       "      <td>0</td>\n",
       "      <td>PC 17599</td>\n",
       "      <td>71.2833</td>\n",
       "      <td>C</td>\n",
       "    </tr>\n",
       "    <tr>\n",
       "      <th>2</th>\n",
       "      <td>3</td>\n",
       "      <td>1</td>\n",
       "      <td>3</td>\n",
       "      <td>Heikkinen, Miss. Laina</td>\n",
       "      <td>female</td>\n",
       "      <td>26.0</td>\n",
       "      <td>0</td>\n",
       "      <td>0</td>\n",
       "      <td>STON/O2. 3101282</td>\n",
       "      <td>7.9250</td>\n",
       "      <td>S</td>\n",
       "    </tr>\n",
       "    <tr>\n",
       "      <th>3</th>\n",
       "      <td>4</td>\n",
       "      <td>1</td>\n",
       "      <td>1</td>\n",
       "      <td>Futrelle, Mrs. Jacques Heath (Lily May Peel)</td>\n",
       "      <td>female</td>\n",
       "      <td>35.0</td>\n",
       "      <td>1</td>\n",
       "      <td>0</td>\n",
       "      <td>113803</td>\n",
       "      <td>53.1000</td>\n",
       "      <td>S</td>\n",
       "    </tr>\n",
       "    <tr>\n",
       "      <th>4</th>\n",
       "      <td>5</td>\n",
       "      <td>0</td>\n",
       "      <td>3</td>\n",
       "      <td>Allen, Mr. William Henry</td>\n",
       "      <td>male</td>\n",
       "      <td>35.0</td>\n",
       "      <td>0</td>\n",
       "      <td>0</td>\n",
       "      <td>373450</td>\n",
       "      <td>8.0500</td>\n",
       "      <td>S</td>\n",
       "    </tr>\n",
       "    <tr>\n",
       "      <th>...</th>\n",
       "      <td>...</td>\n",
       "      <td>...</td>\n",
       "      <td>...</td>\n",
       "      <td>...</td>\n",
       "      <td>...</td>\n",
       "      <td>...</td>\n",
       "      <td>...</td>\n",
       "      <td>...</td>\n",
       "      <td>...</td>\n",
       "      <td>...</td>\n",
       "      <td>...</td>\n",
       "    </tr>\n",
       "    <tr>\n",
       "      <th>886</th>\n",
       "      <td>887</td>\n",
       "      <td>0</td>\n",
       "      <td>2</td>\n",
       "      <td>Montvila, Rev. Juozas</td>\n",
       "      <td>male</td>\n",
       "      <td>27.0</td>\n",
       "      <td>0</td>\n",
       "      <td>0</td>\n",
       "      <td>211536</td>\n",
       "      <td>13.0000</td>\n",
       "      <td>S</td>\n",
       "    </tr>\n",
       "    <tr>\n",
       "      <th>887</th>\n",
       "      <td>888</td>\n",
       "      <td>1</td>\n",
       "      <td>1</td>\n",
       "      <td>Graham, Miss. Margaret Edith</td>\n",
       "      <td>female</td>\n",
       "      <td>19.0</td>\n",
       "      <td>0</td>\n",
       "      <td>0</td>\n",
       "      <td>112053</td>\n",
       "      <td>30.0000</td>\n",
       "      <td>S</td>\n",
       "    </tr>\n",
       "    <tr>\n",
       "      <th>888</th>\n",
       "      <td>889</td>\n",
       "      <td>0</td>\n",
       "      <td>3</td>\n",
       "      <td>Johnston, Miss. Catherine Helen \"Carrie\"</td>\n",
       "      <td>female</td>\n",
       "      <td>28.0</td>\n",
       "      <td>1</td>\n",
       "      <td>2</td>\n",
       "      <td>W./C. 6607</td>\n",
       "      <td>23.4500</td>\n",
       "      <td>S</td>\n",
       "    </tr>\n",
       "    <tr>\n",
       "      <th>889</th>\n",
       "      <td>890</td>\n",
       "      <td>1</td>\n",
       "      <td>1</td>\n",
       "      <td>Behr, Mr. Karl Howell</td>\n",
       "      <td>male</td>\n",
       "      <td>26.0</td>\n",
       "      <td>0</td>\n",
       "      <td>0</td>\n",
       "      <td>111369</td>\n",
       "      <td>30.0000</td>\n",
       "      <td>C</td>\n",
       "    </tr>\n",
       "    <tr>\n",
       "      <th>890</th>\n",
       "      <td>891</td>\n",
       "      <td>0</td>\n",
       "      <td>3</td>\n",
       "      <td>Dooley, Mr. Patrick</td>\n",
       "      <td>male</td>\n",
       "      <td>32.0</td>\n",
       "      <td>0</td>\n",
       "      <td>0</td>\n",
       "      <td>370376</td>\n",
       "      <td>7.7500</td>\n",
       "      <td>Q</td>\n",
       "    </tr>\n",
       "  </tbody>\n",
       "</table>\n",
       "<p>891 rows × 11 columns</p>\n",
       "</div>"
      ],
      "text/plain": [
       "     PassengerId  Survived  Pclass  \\\n",
       "0              1         0       3   \n",
       "1              2         1       1   \n",
       "2              3         1       3   \n",
       "3              4         1       1   \n",
       "4              5         0       3   \n",
       "..           ...       ...     ...   \n",
       "886          887         0       2   \n",
       "887          888         1       1   \n",
       "888          889         0       3   \n",
       "889          890         1       1   \n",
       "890          891         0       3   \n",
       "\n",
       "                                                  Name     Sex   Age  SibSp  \\\n",
       "0                              Braund, Mr. Owen Harris    male  22.0      1   \n",
       "1    Cumings, Mrs. John Bradley (Florence Briggs Th...  female  38.0      1   \n",
       "2                               Heikkinen, Miss. Laina  female  26.0      0   \n",
       "3         Futrelle, Mrs. Jacques Heath (Lily May Peel)  female  35.0      1   \n",
       "4                             Allen, Mr. William Henry    male  35.0      0   \n",
       "..                                                 ...     ...   ...    ...   \n",
       "886                              Montvila, Rev. Juozas    male  27.0      0   \n",
       "887                       Graham, Miss. Margaret Edith  female  19.0      0   \n",
       "888           Johnston, Miss. Catherine Helen \"Carrie\"  female  28.0      1   \n",
       "889                              Behr, Mr. Karl Howell    male  26.0      0   \n",
       "890                                Dooley, Mr. Patrick    male  32.0      0   \n",
       "\n",
       "     Parch            Ticket     Fare Embarked  \n",
       "0        0         A/5 21171   7.2500        S  \n",
       "1        0          PC 17599  71.2833        C  \n",
       "2        0  STON/O2. 3101282   7.9250        S  \n",
       "3        0            113803  53.1000        S  \n",
       "4        0            373450   8.0500        S  \n",
       "..     ...               ...      ...      ...  \n",
       "886      0            211536  13.0000        S  \n",
       "887      0            112053  30.0000        S  \n",
       "888      2        W./C. 6607  23.4500        S  \n",
       "889      0            111369  30.0000        C  \n",
       "890      0            370376   7.7500        Q  \n",
       "\n",
       "[891 rows x 11 columns]"
      ]
     },
     "execution_count": 15,
     "metadata": {},
     "output_type": "execute_result"
    }
   ],
   "source": [
    "data"
   ]
  },
  {
   "cell_type": "markdown",
   "id": "95c23132-5543-4a56-9659-1609e34e39fb",
   "metadata": {},
   "source": [
    "## Observation: Displaying the Cleaned Dataset\n",
    "\n",
    "- Used `data` to print the current state of the DataFrame after cleaning steps.\n",
    "- Shows updated columns with missing values handled and 'Cabin' column removed.\n",
    "- Helps verify that previous transformations (like filling 'Age' and 'Embarked') were applied correctly."
   ]
  },
  {
   "cell_type": "code",
   "execution_count": 16,
   "id": "293e9d7b-94b3-4cff-b36a-cf6a2443d011",
   "metadata": {},
   "outputs": [
    {
     "data": {
      "text/plain": [
       "Sex\n",
       "female    233\n",
       "male      109\n",
       "Name: Survived, dtype: int64"
      ]
     },
     "execution_count": 16,
     "metadata": {},
     "output_type": "execute_result"
    }
   ],
   "source": [
    "Survived=data.groupby(\"Sex\")[\"Survived\"].sum()\n",
    "Survived"
   ]
  },
  {
   "cell_type": "markdown",
   "id": "9ea60672-0481-4f38-a276-ec41a9201235",
   "metadata": {},
   "source": [
    "## Observation: Survival Count by Gender\n",
    "\n",
    "- Used `data.groupby(\"Sex\")[\"Survived\"].sum()` to calculate the total number of survivors grouped by gender.\n",
    "- Assigned the result to a variable named `Survived` and displayed it to compare male vs female survival counts.\n",
    "- Helps reveal gender-based survival patterns — typically showing higher survival rates among females in the Titanic dataset."
   ]
  },
  {
   "cell_type": "code",
   "execution_count": 17,
   "id": "a8206232-19f5-48a7-93f1-11f5e0ae7a4d",
   "metadata": {},
   "outputs": [
    {
     "data": {
      "image/png": "[encoded data removed]",
      "text/plain": [
       "<Figure size 640x480 with 1 Axes>"
      ]
     },
     "metadata": {},
     "output_type": "display_data"
    }
   ],
   "source": [
    "a=Survived.plot(kind=\"bar\",color=\"pink\")\n",
    "plt.xlabel(\"Gender \")\n",
    "plt.ylabel(\"Survival rate\")\n",
    "plt.title(\"Survive\")\n",
    "for index,value in enumerate(Survived):\n",
    "    plt.text(index,value,str(value),ha=\"center\",va=\"bottom\",fontsize=10,fontweight=\"bold\")\n",
    "plt.show()"
   ]
  },
  {
   "cell_type": "markdown",
   "id": "1c5fa3b6-75f6-482a-8c82-2ef8461c4cd3",
   "metadata": {},
   "source": [
    "## Observation: Visualizing Survival by Gender\n",
    "\n",
    "- Plotted a bar chart using `Survived.plot(kind=\"bar\", color=\"pink\")` to compare total survivors between males and females.\n",
    "- Added axis labels and a title to clearly communicate the chart's meaning.\n",
    "- Annotated each bar with the exact survival count using `plt.text()` for better readability and presentation."
   ]
  },
  {
   "cell_type": "code",
   "execution_count": 18,
   "id": "282d04ef-3d8e-4297-ab09-df1a409b53a2",
   "metadata": {},
   "outputs": [
    {
     "data": {
      "text/plain": [
       "Sex     Survived\n",
       "female  1           233\n",
       "        0            81\n",
       "male    0           468\n",
       "        1           109\n",
       "Name: count, dtype: int64"
      ]
     },
     "execution_count": 18,
     "metadata": {},
     "output_type": "execute_result"
    }
   ],
   "source": [
    "Survive_death=data.groupby(\"Sex\")[\"Survived\"].value_counts()\n",
    "Survive_death"
   ]
  },
  {
   "cell_type": "markdown",
   "id": "b0940966-d90c-4f47-a20c-6df338876cb7",
   "metadata": {},
   "source": [
    "## Observation: Survival Breakdown by Gender\n",
    "\n",
    "- Used `data.groupby(\"Sex\")[\"Survived\"].value_counts()` to count how many males and females survived (`Survived = 1`) or died (`Survived = 0`).\n",
    "- Assigned the result to `Survive_death` and displayed it to show both survival and death counts per gender.\n",
    "- This breakdown helps compare survival rates and mortality across genders, revealing patterns in passenger outcomes."
   ]
  },
  {
   "cell_type": "code",
   "execution_count": 19,
   "id": "579fb0af-aba9-4345-8aed-aa6c054fb619",
   "metadata": {},
   "outputs": [
    {
     "data": {
      "image/png": "[encoded data removed]",
      "text/plain": [
       "<Figure size 640x480 with 1 Axes>"
      ]
     },
     "metadata": {},
     "output_type": "display_data"
    }
   ],
   "source": [
    "sns.countplot(x=\"Sex\", hue=\"Survived\", data=data, palette=\"Set2\")\n",
    "plt.xlabel(\"Gender\")\n",
    "plt.ylabel(\"Survival and Death Count\") \n",
    "plt.title(\"Survived vs. Death by Gender\")\n",
    "plt.show()\n",
    "\n"
   ]
  },
  {
   "cell_type": "markdown",
   "id": "0bcf384b-5c93-4b96-b7d4-86dc004f739c",
   "metadata": {},
   "source": [
    "## Observation: Countplot of Survival by Gender\n",
    "\n",
    "- Used `sns.countplot()` with `x=\"Sex\"` and `hue=\"Survived\"` to visualize the number of survivors and deaths for each gender.\n",
    "- Applied `palette=\"Set2\"` for a clean color scheme and labeled axes and title for clarity.\n",
    "- This plot shows both survival (`Survived = 1`) and death (`Survived = 0`) counts side-by-side, making gender-based outcome comparisons easy to interpret."
   ]
  },
  {
   "cell_type": "code",
   "execution_count": 20,
   "id": "9b0862f4-8bdd-4755-b37c-a6f28665c2b7",
   "metadata": {},
   "outputs": [
    {
     "data": {
      "text/plain": [
       "Pclass\n",
       "3    491\n",
       "1    216\n",
       "2    184\n",
       "Name: count, dtype: int64"
      ]
     },
     "execution_count": 20,
     "metadata": {},
     "output_type": "execute_result"
    }
   ],
   "source": [
    "pclass=data[\"Pclass\"].value_counts()\n",
    "pclass"
   ]
  },
  {
   "cell_type": "markdown",
   "id": "4a310f93-8485-49dd-a041-788e4ec145a9",
   "metadata": {},
   "source": [
    "## Observation: Passenger Class Distribution\n",
    "\n",
    "- Used `data[\"Pclass\"].value_counts()` to count how many passengers belong to each class (1st, 2nd, 3rd).\n",
    "- Assigned the result to a variable named `pclass` and displayed it to observe class-wise distribution.\n",
    "- Helps understand the socioeconomic makeup of the passengers — typically more people traveled in 3rd class."
   ]
  },
  {
   "cell_type": "code",
   "execution_count": 21,
   "id": "30fadc25-c22b-4659-a07e-038cbb1a5da7",
   "metadata": {},
   "outputs": [
    {
     "data": {
      "image/png": "[encoded data removed]",
      "text/plain": [
       "<Figure size 640x480 with 1 Axes>"
      ]
     },
     "metadata": {},
     "output_type": "display_data"
    }
   ],
   "source": [
    "labels=[\"Class1(upper)\",\"Class2(middle)\",\"Class3(lower)\"]\n",
    "plt.pie(pclass,labels=labels,autopct=\"%1.1f%%\",startangle=90)\n",
    "plt.show()"
   ]
  },
  {
   "cell_type": "markdown",
   "id": "cd1f344e-8c79-47d9-ae65-8ffaf4d7dd36",
   "metadata": {},
   "source": [
    "## Observation: Pie Chart of Passenger Class Distribution\n",
    "\n",
    "- Used `plt.pie()` to visualize the proportion of passengers in each class (1st, 2nd, 3rd) with custom labels.\n",
    "- Applied `autopct=\"%1.1f%%\"` to display percentage values and `startangle=90` for a rotated layout.\n",
    "- This chart helps highlight that the majority of passengers traveled in 3rd class, reflecting socioeconomic diversity aboard the Titanic."
   ]
  },
  {
   "cell_type": "code",
   "execution_count": 22,
   "id": "33051517-f26c-4900-8190-244e7c1bbb09",
   "metadata": {},
   "outputs": [
    {
     "data": {
      "image/png": "[encoded data removed]",
      "text/plain": [
       "<Figure size 640x480 with 1 Axes>"
      ]
     },
     "metadata": {},
     "output_type": "display_data"
    }
   ],
   "source": [
    "sns.kdeplot(data[\"Age\"],fill=True,color=\"orange\")\n",
    "plt.title(\"Age distribution\")\n",
    "plt.xlabel(\"Age\")\n",
    "plt.ylabel(\"Age distribution in density\")\n",
    "plt.show()"
   ]
  },
  {
   "cell_type": "markdown",
   "id": "f3f7c37c-a503-4c5f-a6af-d23afcbc837a",
   "metadata": {},
   "source": [
    "## Observation: Age Distribution Using KDE Plot\n",
    "\n",
    "- Used `sns.kdeplot()` with `fill=True` to create a smooth density curve showing how passenger ages are distributed.\n",
    "- Set `color=\"orange\"` for visual appeal and added axis labels and a title for clarity.\n",
    "- This plot helps identify age concentration patterns, such as peaks around young adults or children, and reveals the overall shape of the age distribution."
   ]
  },
  {
   "cell_type": "code",
   "execution_count": 23,
   "id": "645b5816-7ee2-4e08-9fda-2b776e517f26",
   "metadata": {},
   "outputs": [
    {
     "data": {
      "image/png": "[encoded data removed]",
      "text/plain": [
       "<Figure size 640x480 with 1 Axes>"
      ]
     },
     "metadata": {},
     "output_type": "display_data"
    }
   ],
   "source": [
    "sns.histplot(data=data,x=\"Age\",hue=\"Survived\",bins=20,multiple=\"stack\",palette=\"Set2\")\n",
    "plt.show()"
   ]
  },
  {
   "cell_type": "markdown",
   "id": "ad9ba060-7c3a-4826-be1e-7226d683da48",
   "metadata": {},
   "source": [
    "## Observation: Age Distribution by Survival Status\n",
    "\n",
    "- Used `sns.histplot()` with `hue=\"Survived\"` and `multiple=\"stack\"` to visualize how age is distributed among survivors and non-survivors.\n",
    "- Set `bins=20` for granularity and applied `palette=\"Set2\"` for clear color separation.\n",
    "- This plot reveals age-based survival patterns — for example, higher survival among children or young adults compared to older passengers."
   ]
  },
  {
   "cell_type": "code",
   "execution_count": 24,
   "id": "c2de9029-b578-4fa3-8680-1c9a467c176f",
   "metadata": {},
   "outputs": [
    {
     "data": {
      "image/png": "[encoded data removed]",
      "text/plain": [
       "<Figure size 640x480 with 1 Axes>"
      ]
     },
     "metadata": {},
     "output_type": "display_data"
    }
   ],
   "source": [
    "data[\"AgeGroup\"]=pd.cut(data[\"Age\"],bins=(0,12,19,29,55,90),labels=[\"Child\",\"Teen\",\"Adult\",\"AgedADult\",\"AGED PERSON\"])\n",
    "sns.countplot(x=\"AgeGroup\",hue=\"Survived\",data=data)\n",
    "plt.show()"
   ]
  },
  {
   "cell_type": "markdown",
   "id": "421bc6c5-ff79-4693-a3d9-bf41bea5172e",
   "metadata": {},
   "source": [
    "## Observation: Survival by Age Group\n",
    "\n",
    "- Created a new column `AgeGroup` using `pd.cut()` to categorize ages into bins: Child, Teen, Adult, AgedAdult, and AGED PERSON.\n",
    "- Used `sns.countplot()` with `x=\"AgeGroup\"` and `hue=\"Survived\"` to visualize survival and death counts across age categories.\n",
    "- This plot helps reveal which age groups had higher survival rates — often showing better outcomes for children and young adults."
   ]
  },
  {
   "cell_type": "markdown",
   "id": "d668f49a-ab77-4a63-bda5-af3d4989cef2",
   "metadata": {},
   "source": [
    "## Observation Summary\n",
    "\n",
    "- **Missing Values**: Identified and visualized missing data using a red bar chart. Dropped the 'Cabin' column due to excessive nulls. Filled missing values in 'Age' with the median and in 'Embarked' with the mode.\n",
    "- **Survival Analysis**:\n",
    "  - Grouped and visualized survival counts by gender using bar charts and countplots.\n",
    "  - Found that females had a higher survival count than males.\n",
    "- **Class Distribution**:\n",
    "  - Analyzed passenger class using `value_counts()` and a pie chart.\n",
    "  - Majority of passengers were in 3rd class, indicating a lower socioeconomic group.\n",
    "- **Age Distribution**:\n",
    "  - Used KDE and stacked histograms to explore age patterns.\n",
    "  - Created age bins (Child, Teen, Adult, AgedAdult, AGED PERSON) and visualized survival across these groups.\n",
    "  - Children and young adults showed higher survival rates.\n",
    "\n",
    "## Final Conclusion\n",
    "\n",
    "- **Gender Impact**: Females had significantly higher survival rates, suggesting prioritization during evacuation.\n",
    "- **Class Influence**: Passengers in 1st class had better survival outcomes, highlighting class-based disparities.\n",
    "- **Age Factor**: Younger passengers, especially children, had better chances of survival.\n",
    "- **Data Cleaning**: Missing values were handled effectively, ensuring reliable analysis.\n",
    "\n",
    "This analysis reveals how survival on the Titanic was influenced by **gender, class, and age**, with clear patterns emerging from the visualizations and grouped summaries."
   ]
  },
  {
   "cell_type": "code",
   "execution_count": null,
   "id": "0789f6ba-3718-4e47-94fc-4ac7ae3a48a4",
   "metadata": {},
   "outputs": [],
   "source": []
  }
 ],
 "metadata": {
  "kernelspec": {
   "display_name": "Python 3 (ipykernel)",
   "language": "python",
   "name": "python3"
  },
  "language_info": {
   "codemirror_mode": {
    "name": "ipython",
    "version": 3
   },
   "file_extension": ".py",
   "mimetype": "text/x-python",
   "name": "python",
   "nbconvert_exporter": "python",
   "pygments_lexer": "ipython3",
   "version": "3.13.5"
  }
 },
 "nbformat": 4,
 "nbformat_minor": 5
}
