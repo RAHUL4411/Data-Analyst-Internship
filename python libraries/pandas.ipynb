{
 "cells": [
  {
   "cell_type": "code",
   "execution_count": 1,
   "id": "d5c8ef2c-8b89-445e-8417-08a44aab257d",
   "metadata": {},
   "outputs": [
    {
     "name": "stdout",
     "output_type": "stream",
     "text": [
      "0     2\n",
      "1     4\n",
      "2     6\n",
      "3     8\n",
      "4    10\n",
      "dtype: int64\n"
     ]
    }
   ],
   "source": [
    "import pandas as pd\n",
    "number_series=pd.Series([2,4,6,8,10])\n",
    "print(number_series)"
   ]
  },
  {
   "cell_type": "code",
   "execution_count": 2,
   "id": "5fe21bd6-b0f8-4c2d-8c2a-9b6b50a9debb",
   "metadata": {},
   "outputs": [
    {
     "name": "stdout",
     "output_type": "stream",
     "text": [
      "a     2\n",
      "b     4\n",
      "c     6\n",
      "d     8\n",
      "e    10\n",
      "Name: number, dtype: int64\n",
      "2\n",
      "2\n"
     ]
    },
    {
     "name": "stderr",
     "output_type": "stream",
     "text": [
      "C:\\Users\\Raghul\\AppData\\Local\\Temp\\ipykernel_38472\\3945596326.py:4: FutureWarning: Series.__getitem__ treating keys as positions is deprecated. In a future version, integer keys will always be treated as labels (consistent with DataFrame behavior). To access a value by position, use `ser.iloc[pos]`\n",
      "  print(number_series[0])\n"
     ]
    }
   ],
   "source": [
    "number_series=pd.Series([2,4,6,8,10],index=['a','b','c','d','e'],name=\"number\")\n",
    "print(number_series)\n",
    "print(number_series['a'])\n",
    "print(number_series[0])\n",
    "                                        "
   ]
  },
  {
   "cell_type": "code",
   "execution_count": 3,
   "id": "094ee903-cccd-42b0-bad8-fee490b3d6f0",
   "metadata": {},
   "outputs": [
    {
     "name": "stdout",
     "output_type": "stream",
     "text": [
      "[[1 2 1 1]\n",
      " [1 1 2 1]\n",
      " [1 1 1 1]]\n",
      "        A  B  C  D\n",
      "First   1  2  1  1\n",
      "Second  1  1  2  1\n",
      "Third   1  1  1  1\n"
     ]
    }
   ],
   "source": [
    "import numpy as np\n",
    "dataframe=np.random.randint(1,3,(3,4))\n",
    "print(dataframe)\n",
    "another_dataframe=pd.DataFrame(dataframe,columns=['A','B','C','D'],index=[\"First\",\"Second\",\"Third\"])\n",
    "print(another_dataframe)\n"
   ]
  },
  {
   "cell_type": "code",
   "execution_count": 40,
   "id": "45e1851c-5946-4d85-9a72-9cb7d8b774af",
   "metadata": {},
   "outputs": [
    {
     "name": "stdout",
     "output_type": "stream",
     "text": [
      "      Name  Age\n",
      "0   Raghul   21\n",
      "1  Prajith   22\n",
      "2    Rahul   23\n"
     ]
    }
   ],
   "source": [
    "value=[[\"Raghul\",21],[\"Prajith\",22],[\"Rahul\",23]]\n",
    "df=pd.DataFrame(value,columns=[\"Name\",\"Age\"])\n",
    "print(df)"
   ]
  },
  {
   "cell_type": "code",
   "execution_count": 41,
   "id": "24ab63e0-c2af-4309-9d03-6b4a2272d9c8",
   "metadata": {},
   "outputs": [
    {
     "name": "stdout",
     "output_type": "stream",
     "text": [
      "  Employee_Name  Income\n",
      "0        Raghul   20000\n",
      "1       Prajith   30000\n",
      "2         Rahul   40000\n",
      "3         Roman   45000\n"
     ]
    }
   ],
   "source": [
    "details={\"Employee_Name\":[\"Raghul\",\"Prajith\",\"Rahul\",\"Roman\"],\"Income\":[20000,30000,40000,45000]}\n",
    "df=pd.DataFrame(details)\n",
    "print(df)"
   ]
  },
  {
   "cell_type": "code",
   "execution_count": 42,
   "id": "3f170687-6c7a-4801-a4f4-ceb3f3cdca13",
   "metadata": {},
   "outputs": [
    {
     "name": "stdout",
     "output_type": "stream",
     "text": [
      "   a  b  c\n",
      "0  1  2  3\n",
      "1  4  5  6\n"
     ]
    }
   ],
   "source": [
    "values=[{\"a\":1,\"b\":2,\"c\":3},{\"a\":4,\"b\":5,\"c\":6}]\n",
    "df=pd.DataFrame(values)\n",
    "print(df)"
   ]
  },
  {
   "cell_type": "code",
   "execution_count": 43,
   "id": "9157caef-34ac-4191-b800-edf391c462a7",
   "metadata": {},
   "outputs": [
    {
     "name": "stdout",
     "output_type": "stream",
     "text": [
      "   a  c    b\n",
      "0  1  3  NaN\n",
      "1  4  6  5.0\n"
     ]
    }
   ],
   "source": [
    "a=[{\"a\":1,\"c\":3},{\"a\":4,\"b\":5,\"c\":6}]\n",
    "df=pd.DataFrame(a)\n",
    "print(df)"
   ]
  },
  {
   "cell_type": "code",
   "execution_count": 45,
   "id": "dc8070e8-913c-495e-b148-8d27d2d9f8ba",
   "metadata": {},
   "outputs": [
    {
     "name": "stdout",
     "output_type": "stream",
     "text": [
      "      Name   Age\n",
      "0    vijay  50.0\n",
      "1    ajith  49.0\n",
      "2   suriya  48.0\n",
      "3  dhanush   NaN\n"
     ]
    }
   ],
   "source": [
    "actor_name=[\"vijay\",\"ajith\",\"suriya\",\"dhanush\"]\n",
    "actor_age=[50,49,48,np.nan]\n",
    "data=zip(actor_name,actor_age)\n",
    "df=pd.DataFrame(data,columns=[\"Name\",\"Age\"])\n",
    "print(df)\n"
   ]
  },
  {
   "cell_type": "code",
   "execution_count": 48,
   "id": "b1aa1c13-8f71-4e50-b9c9-75e7abffb6ac",
   "metadata": {},
   "outputs": [
    {
     "name": "stdout",
     "output_type": "stream",
     "text": [
      "      Name  Tamil  English  Science  Maths  social\n",
      "1   raghul    100       78      100     77     100\n",
      "2  prajith     97       39       97     45      97\n",
      "3    rahul     68      100       68     67      68\n",
      "4     jith     89       97       89     89      89\n",
      "5     siva     80       68       80    100      67\n",
      "6   siddiq     78       89       78     97      45\n",
      "7     mani     67       45       67     68      90\n",
      "8    simma     65       56       65     89      67\n"
     ]
    }
   ],
   "source": [
    "student_name=['raghul','prajith','rahul','jith','siva','siddiq','mani','simma']\n",
    "tamil=[100,97,68,89,80,78,67,65]\n",
    "english=[78,39,100,97,68,89,45,56]\n",
    "science=[100,97,68,89,80,78,67,65]\n",
    "maths=[77,45,67,89,100,97,68,89]\n",
    "social=[100,97,68,89,67,45,90,67]\n",
    "details=zip(student_name,tamil,english,science,maths,social)\n",
    "df=pd.DataFrame(details,columns=['Name','Tamil','English','Science','Maths','social'],index=[1,2,3,4,5,6,7,8])\n",
    "print(df)\n",
    "\n",
    "\n"
   ]
  },
  {
   "cell_type": "code",
   "execution_count": 47,
   "id": "7461c14c-b617-4030-9c7d-f018818e6ab2",
   "metadata": {},
   "outputs": [
    {
     "name": "stdout",
     "output_type": "stream",
     "text": [
      "         Math  Science  English  History  Computer\n",
      "vijay      75       53       70       85        69\n",
      "ajith      54       91       53       97        65\n",
      "suriya     99       85       98       71        70\n",
      "dhanush    76       89       71       96        67\n",
      "Raghul     76       74       86       91        75\n",
      "Prajith    81       58       86       84        95\n",
      "Rahul      72       70       85       68        97\n",
      "Roman      91       75       72       80        79\n",
      "Ronie      55       78       51       75        70\n",
      "Cbum       98       56       78       81        88\n"
     ]
    }
   ],
   "source": [
    "import pandas as pd\n",
    "import numpy as np\n",
    "\n",
    "# Student names\n",
    "student_names = [\"vijay\", \"ajith\", \"suriya\", \"dhanush\", \"Raghul\", \"Prajith\", \"Rahul\", \"Roman\", \"Ronie\", \"Cbum\"]\n",
    "\n",
    "# Subjects\n",
    "subjects = [\"Math\", \"Science\", \"English\", \"History\", \"Computer\"]\n",
    "\n",
    "# Create a DataFrame with random marks (between 50 and 100)\n",
    "marks = pd.DataFrame(\n",
    "    data=np.random.randint(50, 101, size=(len(student_names), len(subjects))),\n",
    "    index=student_names,\n",
    "    columns=subjects\n",
    ")\n",
    "\n",
    "# Display the DataFrame\n",
    "print(marks)"
   ]
  },
  {
   "cell_type": "code",
   "execution_count": 5,
   "id": "5daee804-9e9c-4444-8482-5f9de2f84dae",
   "metadata": {},
   "outputs": [
    {
     "name": "stdout",
     "output_type": "stream",
     "text": [
      "           A         B         C         D         E\n",
      "0   0.588570  0.171009 -1.115469  0.053284 -0.192562\n",
      "1  -0.931136  2.088872  0.000324 -1.337716 -1.083088\n",
      "2   0.659942 -2.431305 -0.831835 -0.733340  0.753076\n",
      "3   0.410553 -0.921969  1.398447 -1.504562 -0.064992\n",
      "4   0.593904 -0.181611 -1.237686 -0.316546 -3.186819\n",
      "..       ...       ...       ...       ...       ...\n",
      "95  1.486091 -0.199217  0.336043  0.404430 -0.947940\n",
      "96 -1.139577 -1.475255  2.158662 -0.342877  0.907676\n",
      "97  0.060352 -0.582413 -0.532449  0.978324 -0.597615\n",
      "98 -1.332571 -0.082502  0.451455 -1.782218 -0.572735\n",
      "99 -0.040374  1.412028 -0.055922 -0.805089  0.237123\n",
      "\n",
      "[100 rows x 5 columns]\n"
     ]
    }
   ],
   "source": [
    "import pandas as pd\n",
    "import numpy as np\n",
    "a=np.random.randn(100,5)\n",
    "df=pd.DataFrame(a,columns=[\"A\",\"B\",\"C\",\"D\",\"E\"])\n",
    "print(df)"
   ]
  },
  {
   "cell_type": "code",
   "execution_count": 6,
   "id": "48d979b8-185e-4991-ad2f-19110f9f0359",
   "metadata": {},
   "outputs": [
    {
     "name": "stdout",
     "output_type": "stream",
     "text": [
      "(100, 5)\n"
     ]
    }
   ],
   "source": [
    "print(df.shape)"
   ]
  },
  {
   "cell_type": "code",
   "execution_count": 10,
   "id": "07072845-9c07-4cc5-bc15-3b7eb794aa5b",
   "metadata": {},
   "outputs": [
    {
     "name": "stdout",
     "output_type": "stream",
     "text": [
      "          A         B         C         D         E\n",
      "0  0.588570  0.171009 -1.115469  0.053284 -0.192562\n",
      "1 -0.931136  2.088872  0.000324 -1.337716 -1.083088\n",
      "2  0.659942 -2.431305 -0.831835 -0.733340  0.753076\n",
      "3  0.410553 -0.921969  1.398447 -1.504562 -0.064992\n",
      "4  0.593904 -0.181611 -1.237686 -0.316546 -3.186819\n",
      "          A         B         C         D         E\n",
      "0  0.588570  0.171009 -1.115469  0.053284 -0.192562\n",
      "1 -0.931136  2.088872  0.000324 -1.337716 -1.083088\n",
      "2  0.659942 -2.431305 -0.831835 -0.733340  0.753076\n",
      "3  0.410553 -0.921969  1.398447 -1.504562 -0.064992\n",
      "4  0.593904 -0.181611 -1.237686 -0.316546 -3.186819\n",
      "5 -1.081679  0.882220 -0.273300 -1.223538  1.967778\n",
      "6  1.055410  0.450432  0.668683 -0.971580  0.535078\n",
      "7  1.377741  0.302091 -0.883584  0.811074  1.023597\n",
      "8 -0.695037 -0.835368  0.071003 -1.134940  1.107120\n",
      "9  1.330059 -0.572180  0.210594 -0.658837 -0.370318\n",
      "           A         B         C         D         E\n",
      "40 -0.857922  1.926696 -1.712669 -2.003664  2.204847\n",
      "41 -0.132963 -1.423991 -1.217857 -0.497412 -0.615967\n",
      "42  0.912135 -0.687113  1.122109 -0.460764  0.137281\n",
      "43  0.291894  0.950040 -1.525748  1.314021 -0.134944\n",
      "44  0.733136  0.612453  2.661733 -2.776047  0.134691\n",
      "45 -0.414024 -0.416697  1.010685  0.389135 -0.216311\n",
      "46  0.105632 -1.252463  0.968249  0.407461 -0.353811\n",
      "47 -0.380764  0.029081  1.226739  1.593456 -0.686737\n",
      "48 -1.238887  0.671348 -0.549630  0.032208  1.137300\n",
      "49  1.600328  2.364861  0.570735  0.042216 -0.512622\n",
      "50 -1.509939 -0.781421  1.072041 -0.156654 -0.007938\n"
     ]
    }
   ],
   "source": [
    "print(df.head())\n",
    "print(df.head(10))\n",
    "print(df[40:51])"
   ]
  },
  {
   "cell_type": "code",
   "execution_count": 20,
   "id": "b1675d8f-d193-42ef-9df8-d356ca55a807",
   "metadata": {},
   "outputs": [
    {
     "name": "stdout",
     "output_type": "stream",
     "text": [
      "           A         B         C         D         E\n",
      "95  1.486091 -0.199217  0.336043  0.404430 -0.947940\n",
      "96 -1.139577 -1.475255  2.158662 -0.342877  0.907676\n",
      "97  0.060352 -0.582413 -0.532449  0.978324 -0.597615\n",
      "98 -1.332571 -0.082502  0.451455 -1.782218 -0.572735\n",
      "99 -0.040374  1.412028 -0.055922 -0.805089  0.237123\n",
      "           A         B         C         D         E\n",
      "90  0.778571 -0.889111 -1.966222 -0.329487  1.920544\n",
      "91  0.240460 -0.014864 -2.340852 -0.276214  1.398495\n",
      "92 -1.189785 -1.531236 -0.052661 -0.696896 -1.361116\n",
      "93 -0.975753 -1.638325  1.409302  0.367221 -1.630588\n",
      "94 -0.762594 -0.132692 -1.598056  1.413973 -0.389224\n",
      "95  1.486091 -0.199217  0.336043  0.404430 -0.947940\n",
      "96 -1.139577 -1.475255  2.158662 -0.342877  0.907676\n",
      "97  0.060352 -0.582413 -0.532449  0.978324 -0.597615\n",
      "98 -1.332571 -0.082502  0.451455 -1.782218 -0.572735\n",
      "99 -0.040374  1.412028 -0.055922 -0.805089  0.237123\n",
      "           A         B         C         D         E\n",
      "98 -1.332571 -0.082502  0.451455 -1.782218 -0.572735\n",
      "97  0.060352 -0.582413 -0.532449  0.978324 -0.597615\n",
      "96 -1.139577 -1.475255  2.158662 -0.342877  0.907676\n",
      "95  1.486091 -0.199217  0.336043  0.404430 -0.947940\n",
      "94 -0.762594 -0.132692 -1.598056  1.413973 -0.389224\n",
      "93 -0.975753 -1.638325  1.409302  0.367221 -1.630588\n",
      "92 -1.189785 -1.531236 -0.052661 -0.696896 -1.361116\n",
      "91  0.240460 -0.014864 -2.340852 -0.276214  1.398495\n",
      "90  0.778571 -0.889111 -1.966222 -0.329487  1.920544\n"
     ]
    }
   ],
   "source": [
    "print(df.tail())\n",
    "print(df.tail(10))\n",
    "print(df[-10:-1][::-1])"
   ]
  },
  {
   "cell_type": "code",
   "execution_count": 18,
   "id": "07de0606-0a5b-4037-a3ee-c170c86fbcdd",
   "metadata": {},
   "outputs": [
    {
     "name": "stdout",
     "output_type": "stream",
     "text": [
      "['A', 'B', 'C', 'D', 'E']\n"
     ]
    }
   ],
   "source": [
    "print(list(df.columns))"
   ]
  },
  {
   "cell_type": "code",
   "execution_count": 21,
   "id": "abf61388-dfd7-4415-b4dc-7eb780abc2e3",
   "metadata": {},
   "outputs": [
    {
     "name": "stdout",
     "output_type": "stream",
     "text": [
      "<class 'pandas.core.frame.DataFrame'>\n",
      "RangeIndex: 100 entries, 0 to 99\n",
      "Data columns (total 5 columns):\n",
      " #   Column  Non-Null Count  Dtype  \n",
      "---  ------  --------------  -----  \n",
      " 0   A       100 non-null    float64\n",
      " 1   B       100 non-null    float64\n",
      " 2   C       100 non-null    float64\n",
      " 3   D       100 non-null    float64\n",
      " 4   E       100 non-null    float64\n",
      "dtypes: float64(5)\n",
      "memory usage: 4.0 KB\n",
      "None\n"
     ]
    }
   ],
   "source": [
    "print(df.info())"
   ]
  },
  {
   "cell_type": "code",
   "execution_count": null,
   "id": "0ead9885-c9c0-466e-965a-201732f550a8",
   "metadata": {},
   "outputs": [],
   "source": []
  }
 ],
 "metadata": {
  "kernelspec": {
   "display_name": "Python [conda env:base] *",
   "language": "python",
   "name": "conda-base-py"
  },
  "language_info": {
   "codemirror_mode": {
    "name": "ipython",
    "version": 3
   },
   "file_extension": ".py",
   "mimetype": "text/x-python",
   "name": "python",
   "nbconvert_exporter": "python",
   "pygments_lexer": "ipython3",
   "version": "3.13.5"
  }
 },
 "nbformat": 4,
 "nbformat_minor": 5
}
