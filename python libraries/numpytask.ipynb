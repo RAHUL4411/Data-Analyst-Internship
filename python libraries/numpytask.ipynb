{
 "cells": [
  {
   "cell_type": "code",
   "execution_count": 1,
   "id": "bf58c206-c93e-42e9-9901-b3cf357a428a",
   "metadata": {},
   "outputs": [
    {
     "name": "stdout",
     "output_type": "stream",
     "text": [
      "[ 1  2  3  4  5  6  7  8  9 10]\n"
     ]
    }
   ],
   "source": [
    "#1\n",
    "import numpy as np\n",
    "a=np.arange(1,11)\n",
    "print(a)"
   ]
  },
  {
   "cell_type": "code",
   "execution_count": 5,
   "id": "0dd45377-5ce9-4cc4-a0be-11bfdf6763c3",
   "metadata": {},
   "outputs": [
    {
     "name": "stdout",
     "output_type": "stream",
     "text": [
      "[0 0 0 0 0]\n"
     ]
    }
   ],
   "source": [
    "#2\n",
    "a=np.zeros(5,dtype=int)\n",
    "print(a)"
   ]
  },
  {
   "cell_type": "code",
   "execution_count": 12,
   "id": "501260b5-9f50-4053-a569-127218bd7807",
   "metadata": {},
   "outputs": [
    {
     "name": "stdout",
     "output_type": "stream",
     "text": [
      "[[1 1 1 1]\n",
      " [1 1 1 1]\n",
      " [1 1 1 1]\n",
      " [1 1 1 1]]\n"
     ]
    }
   ],
   "source": [
    "#3\n",
    "a=np.ones((4,4),dtype=int)\n",
    "print(a)"
   ]
  },
  {
   "cell_type": "code",
   "execution_count": 13,
   "id": "cf47c10d-f6ac-4dff-aad4-46dc7be03edf",
   "metadata": {},
   "outputs": [
    {
     "name": "stdout",
     "output_type": "stream",
     "text": [
      "[ 2  4  6  8 10 12 14 16 18 20]\n"
     ]
    }
   ],
   "source": [
    "#4\n",
    "a=np.arange(2,21,2)\n",
    "print(a)"
   ]
  },
  {
   "cell_type": "code",
   "execution_count": 14,
   "id": "c4592614-cebc-4889-ad26-15fac3d766a6",
   "metadata": {},
   "outputs": [
    {
     "name": "stdout",
     "output_type": "stream",
     "text": [
      "[10 15 20 25 30 35 40 45 50]\n"
     ]
    }
   ],
   "source": [
    "#5\n",
    "a=np.arange(10,51,5)\n",
    "print(a)"
   ]
  },
  {
   "cell_type": "code",
   "execution_count": 15,
   "id": "af03e101-4674-4e8a-9b49-186116499e0c",
   "metadata": {},
   "outputs": [
    {
     "name": "stdout",
     "output_type": "stream",
     "text": [
      "[3 6 9]\n"
     ]
    }
   ],
   "source": [
    "#6\n",
    "a=np.array([1,2,3])*3\n",
    "print(a)"
   ]
  },
  {
   "cell_type": "code",
   "execution_count": 18,
   "id": "696435a8-a012-4e98-ae05-d60c5b7a6fc9",
   "metadata": {},
   "outputs": [
    {
     "name": "stdout",
     "output_type": "stream",
     "text": [
      "[5 7 9]\n"
     ]
    }
   ],
   "source": [
    "#7\n",
    "a=np.array([1,2,3])\n",
    "b=np.array([4,5,6])\n",
    "print(a+b)"
   ]
  },
  {
   "cell_type": "code",
   "execution_count": 24,
   "id": "20301526-880b-439f-8085-8b049701a384",
   "metadata": {},
   "outputs": [
    {
     "name": "stdout",
     "output_type": "stream",
     "text": [
      "[2. 3. 4. 5.]\n"
     ]
    }
   ],
   "source": [
    "#8\n",
    "a=np.array([4,9,16,25])\n",
    "print(np.sqrt(a))"
   ]
  },
  {
   "cell_type": "code",
   "execution_count": 21,
   "id": "87dfb9ee-d682-4646-89e8-f399e6d65ee3",
   "metadata": {},
   "outputs": [
    {
     "name": "stdout",
     "output_type": "stream",
     "text": [
      "25.0\n"
     ]
    }
   ],
   "source": [
    "#9\n",
    "a=np.array([10,20,30,40])\n",
    "print(np.mean(a))"
   ]
  },
  {
   "cell_type": "code",
   "execution_count": 30,
   "id": "a0e45a70-096b-402a-8f6a-24e1986be9b5",
   "metadata": {},
   "outputs": [
    {
     "name": "stdout",
     "output_type": "stream",
     "text": [
      "[4 3 3 4 2]\n",
      "16\n"
     ]
    }
   ],
   "source": [
    "#10\n",
    "a=np.random.randint(1,5,5)\n",
    "print(a)\n",
    "print(np.sum(a))"
   ]
  },
  {
   "cell_type": "code",
   "execution_count": 35,
   "id": "cf9d31c7-3d69-430e-a390-e1928154fc8a",
   "metadata": {},
   "outputs": [
    {
     "name": "stdout",
     "output_type": "stream",
     "text": [
      "[ 1  2  3  4  5  6  7  8  9 10]\n",
      "[1 2 3 4 5]\n"
     ]
    }
   ],
   "source": [
    "#11\n",
    "a=np.arange(1,11)\n",
    "print(a)\n",
    "print(a[0:5])"
   ]
  },
  {
   "cell_type": "code",
   "execution_count": 4,
   "id": "0b952b3e-070e-432a-8f06-90136a3d8129",
   "metadata": {},
   "outputs": [
    {
     "name": "stdout",
     "output_type": "stream",
     "text": [
      "[40 50]\n"
     ]
    }
   ],
   "source": [
    "#12\n",
    "import numpy as np\n",
    "a=np.array([10,20,30,40,50])\n",
    "print(a[-2::])"
   ]
  },
  {
   "cell_type": "code",
   "execution_count": 9,
   "id": "5774e3f1-ae89-479d-9cda-e9d05cec45f6",
   "metadata": {},
   "outputs": [
    {
     "name": "stdout",
     "output_type": "stream",
     "text": [
      "[ 1  2 99  4  5]\n"
     ]
    }
   ],
   "source": [
    "#13\n",
    "a=np.array([1,2,3,4,5])\n",
    "a[2]=99\n",
    "print(a)"
   ]
  },
  {
   "cell_type": "code",
   "execution_count": 6,
   "id": "2e49e491-87eb-4fc8-bcd9-4995a7f988e5",
   "metadata": {},
   "outputs": [
    {
     "name": "stdout",
     "output_type": "stream",
     "text": [
      "[[1 2 3]\n",
      " [4 5 6]\n",
      " [7 8 9]]\n",
      "6\n"
     ]
    }
   ],
   "source": [
    "#14\n",
    "a=np.array([[1,2,3],[4,5,6],[7,8,9]])\n",
    "print(a)\n",
    "print(a[1,2])"
   ]
  },
  {
   "cell_type": "code",
   "execution_count": 28,
   "id": "289df716-80a2-461b-bbe4-e17b761c6e5d",
   "metadata": {},
   "outputs": [
    {
     "name": "stdout",
     "output_type": "stream",
     "text": [
      "[ 1  2  3  4  5  6  7  8  9 10]\n",
      "[10  9  8  7  6  5  4  3  2  1]\n",
      "[10  9  8  7  6  5  4  3  2  1]\n"
     ]
    }
   ],
   "source": [
    "#15\n",
    "a=np.arange(1,11)\n",
    "print(a)\n",
    "print(a[-1:-11:-1])\n",
    "print(a[::-1])\n"
   ]
  },
  {
   "cell_type": "code",
   "execution_count": 39,
   "id": "2292dace-7e5d-4051-997c-26d9a93ce5f6",
   "metadata": {},
   "outputs": [
    {
     "name": "stdout",
     "output_type": "stream",
     "text": [
      "43\n",
      "[[[44 36 48]\n",
      "  [86 75 12]\n",
      "  [56 44 37]]\n",
      "\n",
      " [[12 36 70]\n",
      "  [70 41  5]\n",
      "  [22 42 29]]]\n"
     ]
    }
   ],
   "source": [
    "#16\n",
    "a=np.random.randint(1,100)\n",
    "print(a)\n",
    "b=np.random.randint(1,100,(2,3,3))\n",
    "print(b)"
   ]
  },
  {
   "cell_type": "code",
   "execution_count": 40,
   "id": "225aba76-ab16-491b-8e0b-ebad1c5ba533",
   "metadata": {},
   "outputs": [
    {
     "name": "stdout",
     "output_type": "stream",
     "text": [
      "[[33 33 22]\n",
      " [43  1 41]\n",
      " [ 3 38 18]]\n"
     ]
    }
   ],
   "source": [
    "#17\n",
    "a=np.random.randint(1,50,(3,3))\n",
    "print(a)"
   ]
  },
  {
   "cell_type": "code",
   "execution_count": 8,
   "id": "0319a5ca-859b-419b-bbd5-551aaecc7dc8",
   "metadata": {},
   "outputs": [
    {
     "name": "stdout",
     "output_type": "stream",
     "text": [
      "[-0.13961038  0.51952471  0.26855941 -0.08589841  1.08406679]\n"
     ]
    }
   ],
   "source": [
    "# Generate 5 random numbers from a normal distribution(doubt)\n",
    "#18\n",
    "import numpy as np\n",
    "random_numbers = np.random.randn(5)\n",
    "print(random_numbers)"
   ]
  },
  {
   "cell_type": "code",
   "execution_count": 42,
   "id": "b9a1863a-cb8a-416a-b09e-cacff11506fc",
   "metadata": {},
   "outputs": [
    {
     "name": "stdout",
     "output_type": "stream",
     "text": [
      "[0.66525213 0.85687462 0.304471   0.63681542 0.10938546]\n"
     ]
    }
   ],
   "source": [
    "#19\n",
    "a=np.random.random(5)\n",
    "print(a)\n"
   ]
  },
  {
   "cell_type": "code",
   "execution_count": 48,
   "id": "7cfba479-3915-40b5-8922-3d7b78bf9db1",
   "metadata": {},
   "outputs": [
    {
     "name": "stdout",
     "output_type": "stream",
     "text": [
      "[2 4 1 3 5]\n"
     ]
    }
   ],
   "source": [
    "#20\n",
    "a=np.array([1,2,3,4,5])\n",
    "np.random.shuffle(a)\n",
    "print(a)"
   ]
  },
  {
   "cell_type": "code",
   "execution_count": 56,
   "id": "1888b7ff-6b62-45c4-9475-656f5296497c",
   "metadata": {},
   "outputs": [
    {
     "name": "stdout",
     "output_type": "stream",
     "text": [
      "[[1 4]\n",
      " [2 5]\n",
      " [3 6]]\n"
     ]
    }
   ],
   "source": [
    "#21\n",
    "a=np.array([[1,2,3],[4,5,6]])\n",
    "print(np.transpose(a))"
   ]
  },
  {
   "cell_type": "code",
   "execution_count": 7,
   "id": "d151b29e-012a-4ebb-b180-cdc8a1cbe106",
   "metadata": {},
   "outputs": [
    {
     "name": "stdout",
     "output_type": "stream",
     "text": [
      "[ 1  2  3  4  5  6  7  8  9 10 11 12]\n",
      "[[ 1  2  3  4]\n",
      " [ 5  6  7  8]\n",
      " [ 9 10 11 12]]\n"
     ]
    }
   ],
   "source": [
    "#22\n",
    "a=np.arange(1,13)\n",
    "print(a)\n",
    "print(a.reshape(3,4))"
   ]
  },
  {
   "cell_type": "code",
   "execution_count": 66,
   "id": "0219ff7c-120d-45fc-a252-adbcd72a7a14",
   "metadata": {},
   "outputs": [
    {
     "name": "stdout",
     "output_type": "stream",
     "text": [
      "[0 1 2 3 4]\n",
      "[[0 1 2]\n",
      " [3 4 0]\n",
      " [1 2 3]]\n"
     ]
    }
   ],
   "source": [
    "#23\n",
    "a=np.arange(5)\n",
    "print(a)\n",
    "resize=np.resize(a,(3,3))\n",
    "print(resize)"
   ]
  },
  {
   "cell_type": "code",
   "execution_count": 71,
   "id": "a570d80b-145e-4c2e-94af-f1c976ea5ae4",
   "metadata": {},
   "outputs": [
    {
     "name": "stdout",
     "output_type": "stream",
     "text": [
      "[[1 2 3]\n",
      " [4 5 6]]\n",
      "[1 2 3 4 5 6]\n"
     ]
    }
   ],
   "source": [
    "#24\n",
    "a=np.array([[1,2,3],[4,5,6]])\n",
    "print(a)\n",
    "print(a.flatten())"
   ]
  },
  {
   "cell_type": "code",
   "execution_count": 5,
   "id": "efda64aa-1a74-4c8e-8df0-0d1183fab519",
   "metadata": {},
   "outputs": [
    {
     "name": "stdout",
     "output_type": "stream",
     "text": [
      "2nd row: [4 5 6]\n",
      "3rd column: [3 6 9]\n"
     ]
    }
   ],
   "source": [
    "a = np.array([[1, 2, 3],\n",
    "              [4, 5, 6],\n",
    "              [7, 8, 9]])\n",
    "print(\"2nd row:\", a[1])\n",
    "print(\"3rd column:\", a[:, 2])\n",
    "\n"
   ]
  },
  {
   "cell_type": "code",
   "execution_count": 1,
   "id": "68aa5e54-35f0-4f3e-8a1b-45e6ef3da91e",
   "metadata": {},
   "outputs": [
    {
     "name": "stdout",
     "output_type": "stream",
     "text": [
      "[ 1  2  3  4  5  6  7  8  9 10]\n"
     ]
    }
   ],
   "source": [
    "#1\n",
    "import numpy as np\n",
    "a=np.arange(1,11)\n",
    "print(a)\n"
   ]
  },
  {
   "cell_type": "code",
   "execution_count": 2,
   "id": "bb25e8ab-aa82-4983-989c-5ddc470c19ba",
   "metadata": {},
   "outputs": [
    {
     "name": "stdout",
     "output_type": "stream",
     "text": [
      "[0 0 0 0 0]\n"
     ]
    }
   ],
   "source": [
    "#2\n",
    "a=np.zeros(5,dtype=int)\n",
    "print(a)"
   ]
  },
  {
   "cell_type": "code",
   "execution_count": 6,
   "id": "d7b70ac6-6d29-452e-94bb-7f0f18ecbfb3",
   "metadata": {},
   "outputs": [
    {
     "name": "stdout",
     "output_type": "stream",
     "text": [
      "[[1 1 1 1]\n",
      " [1 1 1 1]\n",
      " [1 1 1 1]\n",
      " [1 1 1 1]]\n"
     ]
    }
   ],
   "source": [
    "#3\n",
    "a=np.ones((4,4),dtype=int)\n",
    "print(a)"
   ]
  },
  {
   "cell_type": "code",
   "execution_count": 7,
   "id": "d3e3c46b-e153-42b2-b67a-4356ee95f32b",
   "metadata": {},
   "outputs": [
    {
     "name": "stdout",
     "output_type": "stream",
     "text": [
      "[ 2  4  6  8 10 12 14 16 18 20]\n"
     ]
    }
   ],
   "source": [
    "#4\n",
    "a=np.arange(2,21,2)\n",
    "print(a)"
   ]
  },
  {
   "cell_type": "code",
   "execution_count": 9,
   "id": "1140de45-4e1a-4dc2-9b2a-deda55da2203",
   "metadata": {},
   "outputs": [
    {
     "name": "stdout",
     "output_type": "stream",
     "text": [
      "[10 15 20 25 30 35 40 45 50]\n"
     ]
    }
   ],
   "source": [
    "#5\n",
    "a=np.arange(10,51,5)\n",
    "print(a)\n"
   ]
  },
  {
   "cell_type": "code",
   "execution_count": 10,
   "id": "a3782758-a82f-4850-8beb-d89406bc5eb5",
   "metadata": {},
   "outputs": [
    {
     "name": "stdout",
     "output_type": "stream",
     "text": [
      "[3 6 9]\n"
     ]
    }
   ],
   "source": [
    "#6\n",
    "a=np.array([1,2,3])*3\n",
    "print(a)"
   ]
  },
  {
   "cell_type": "code",
   "execution_count": 12,
   "id": "e56d5534-65af-4b51-ac4b-4f172552f37e",
   "metadata": {},
   "outputs": [
    {
     "name": "stdout",
     "output_type": "stream",
     "text": [
      "[5 7 9]\n"
     ]
    }
   ],
   "source": [
    "#7\n",
    "a=np.array([[1,2,3],[4,5,6]])\n",
    "print(sum(a))"
   ]
  },
  {
   "cell_type": "code",
   "execution_count": 14,
   "id": "58cb1665-edd9-40bc-8e4a-73f691ca18f4",
   "metadata": {},
   "outputs": [
    {
     "name": "stdout",
     "output_type": "stream",
     "text": [
      "25.0\n"
     ]
    }
   ],
   "source": [
    "#8\n",
    "a=np.array([10,20,30,40])\n",
    "print(np.mean(a))"
   ]
  },
  {
   "cell_type": "code",
   "execution_count": 16,
   "id": "d5eddd18-e558-4542-bedd-c01f205dfc97",
   "metadata": {},
   "outputs": [
    {
     "name": "stdout",
     "output_type": "stream",
     "text": [
      "[2. 3. 4. 5.]\n"
     ]
    }
   ],
   "source": [
    "#9\n",
    "a=np.array([4,9,16,25])\n",
    "print(np.sqrt(a))\n"
   ]
  },
  {
   "cell_type": "code",
   "execution_count": 18,
   "id": "fa608afc-fbca-434d-a4ea-1ae50171000f",
   "metadata": {},
   "outputs": [
    {
     "name": "stdout",
     "output_type": "stream",
     "text": [
      "[74 41 69 48 16]\n",
      "248\n"
     ]
    }
   ],
   "source": [
    "#10\n",
    "a=np.random.randint(1,100,(5))\n",
    "print(a)\n",
    "print(sum(a))\n"
   ]
  },
  {
   "cell_type": "code",
   "execution_count": 19,
   "id": "47da175b-20ba-4909-99e1-81162dc2f6f3",
   "metadata": {},
   "outputs": [
    {
     "name": "stdout",
     "output_type": "stream",
     "text": [
      "[1 2 3 4 5]\n"
     ]
    }
   ],
   "source": [
    "#11\n",
    "a=np.arange(1,11)\n",
    "print(a[0:5])"
   ]
  },
  {
   "cell_type": "code",
   "execution_count": 24,
   "id": "39d2a4ce-4f08-42fe-bc0f-f2558f4e370a",
   "metadata": {},
   "outputs": [
    {
     "name": "stdout",
     "output_type": "stream",
     "text": [
      "[50 40]\n"
     ]
    }
   ],
   "source": [
    "#12\n",
    "a=np.array([10,20,30,40,50])\n",
    "print(a[-1:-3:-1])"
   ]
  },
  {
   "cell_type": "code",
   "execution_count": 26,
   "id": "9b44476d-c477-4f42-9290-a6d4747c3c89",
   "metadata": {},
   "outputs": [
    {
     "name": "stdout",
     "output_type": "stream",
     "text": [
      "[ 1  2 99  4  5]\n"
     ]
    }
   ],
   "source": [
    "#13\n",
    "a=np.array([1,2,3,4,5])\n",
    "a[2]=99\n",
    "print(a)\n"
   ]
  },
  {
   "cell_type": "code",
   "execution_count": 36,
   "id": "12240af7-bdf3-4397-b21a-e51c9ac6b171",
   "metadata": {},
   "outputs": [
    {
     "name": "stdout",
     "output_type": "stream",
     "text": [
      "[[8 2 6]\n",
      " [3 9 5]\n",
      " [5 3 7]]\n",
      "5\n"
     ]
    }
   ],
   "source": [
    "#14\n",
    "a=np.random.randint(1,10,size=(3,3))\n",
    "print(a)\n",
    "print(a[1,2])"
   ]
  },
  {
   "cell_type": "code",
   "execution_count": 38,
   "id": "bea36f95-40b4-4743-a4da-2400d163e30a",
   "metadata": {},
   "outputs": [
    {
     "name": "stdout",
     "output_type": "stream",
     "text": [
      "[10  9  8  7  6  5  4  3  2  1]\n"
     ]
    }
   ],
   "source": [
    "#15\n",
    "a=np.arange(1,11)\n",
    "print(a[::-1])"
   ]
  },
  {
   "cell_type": "code",
   "execution_count": 39,
   "id": "e9fc2bb8-27e4-4ee7-a435-9ee356812f6a",
   "metadata": {},
   "outputs": [
    {
     "name": "stdout",
     "output_type": "stream",
     "text": [
      "68\n"
     ]
    }
   ],
   "source": [
    "#16\n",
    "a=np.random.randint(1,100)\n",
    "print(a)"
   ]
  },
  {
   "cell_type": "code",
   "execution_count": 40,
   "id": "e4847883-cb91-4cbe-ab9c-8d1b3c4dc2e8",
   "metadata": {},
   "outputs": [
    {
     "name": "stdout",
     "output_type": "stream",
     "text": [
      "[[ 4 83 91]\n",
      " [25 85 23]\n",
      " [37 39 25]]\n"
     ]
    }
   ],
   "source": [
    "#17\n",
    "a=np.random.randint(1,100,(3,3))\n",
    "print(a)\n"
   ]
  },
  {
   "cell_type": "code",
   "execution_count": 41,
   "id": "a6e344da-4016-496b-9296-17c59fb45ba3",
   "metadata": {},
   "outputs": [
    {
     "name": "stdout",
     "output_type": "stream",
     "text": [
      "[-0.06929313 -0.78303674  1.45963621  0.09287877 -0.61884675]\n"
     ]
    }
   ],
   "source": [
    "#18\n",
    "a=np.random.randn(5)\n",
    "print(a)"
   ]
  },
  {
   "cell_type": "code",
   "execution_count": 42,
   "id": "65087843-6807-434d-bc4c-dab7bad119b7",
   "metadata": {},
   "outputs": [
    {
     "name": "stdout",
     "output_type": "stream",
     "text": [
      "[0.24878336 0.87747383 0.50346154 0.50130331 0.07820035 0.49454064\n",
      " 0.17567435 0.84107351 0.0461536  0.25729985]\n"
     ]
    }
   ],
   "source": [
    "#19\n",
    "a=np.random.random(10)\n",
    "print(a)"
   ]
  },
  {
   "cell_type": "code",
   "execution_count": 48,
   "id": "b3e2532b-77d4-4df1-9eee-588b55be5f5a",
   "metadata": {},
   "outputs": [
    {
     "name": "stdout",
     "output_type": "stream",
     "text": [
      "[5 1 2 4 3]\n"
     ]
    }
   ],
   "source": [
    "#20\n",
    "a=np.array([1,2,3,4,5])\n",
    "np.random.shuffle(a)\n",
    "print(a)"
   ]
  },
  {
   "cell_type": "code",
   "execution_count": 50,
   "id": "3a60505a-25cb-4589-bddd-72b246b824c8",
   "metadata": {},
   "outputs": [
    {
     "name": "stdout",
     "output_type": "stream",
     "text": [
      "[[1 4]\n",
      " [2 5]\n",
      " [3 6]]\n"
     ]
    }
   ],
   "source": [
    "#21\n",
    "a=np.array([[1,2,3],[4,5,6]])\n",
    "print(np.transpose(a))"
   ]
  },
  {
   "cell_type": "code",
   "execution_count": 54,
   "id": "b12dd839-b4c2-4fd1-b849-a16f70682718",
   "metadata": {},
   "outputs": [
    {
     "name": "stdout",
     "output_type": "stream",
     "text": [
      "[ 1  2  3  4  5  6  7  8  9 10 11 12]\n",
      "[[ 1  2  3  4]\n",
      " [ 5  6  7  8]\n",
      " [ 9 10 11 12]]\n"
     ]
    }
   ],
   "source": [
    "#22\n",
    "a=np.arange(1,13)\n",
    "print(a)\n",
    "print(a.reshape(3,4))"
   ]
  },
  {
   "cell_type": "code",
   "execution_count": 63,
   "id": "dfac4b8e-9949-4daa-8155-a01e9883f6b6",
   "metadata": {},
   "outputs": [
    {
     "name": "stdout",
     "output_type": "stream",
     "text": [
      "[1 2 3 4 5]\n",
      "[[1 2 3]\n",
      " [4 5 1]\n",
      " [2 3 4]]\n"
     ]
    }
   ],
   "source": [
    "#23\n",
    "a=np.arange(1,6)\n",
    "print(a)\n",
    "print(np.resize(a,(3,3)))\n"
   ]
  },
  {
   "cell_type": "code",
   "execution_count": null,
   "id": "eedd03b0-58cd-47f4-83c2-538bd69d671d",
   "metadata": {},
   "outputs": [],
   "source": []
  }
 ],
 "metadata": {
  "kernelspec": {
   "display_name": "Python [conda env:base] *",
   "language": "python",
   "name": "conda-base-py"
  },
  "language_info": {
   "codemirror_mode": {
    "name": "ipython",
    "version": 3
   },
   "file_extension": ".py",
   "mimetype": "text/x-python",
   "name": "python",
   "nbconvert_exporter": "python",
   "pygments_lexer": "ipython3",
   "version": "3.13.5"
  }
 },
 "nbformat": 4,
 "nbformat_minor": 5
}
