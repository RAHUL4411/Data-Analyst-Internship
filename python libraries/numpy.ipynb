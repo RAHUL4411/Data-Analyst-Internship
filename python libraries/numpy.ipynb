{
 "cells": [
  {
   "cell_type": "code",
   "execution_count": 2,
   "id": "e679f75c-0eba-4fe2-a64d-eabe923d93c1",
   "metadata": {},
   "outputs": [
    {
     "name": "stdout",
     "output_type": "stream",
     "text": [
      "2.1.3\n"
     ]
    }
   ],
   "source": [
    "#version\n",
    "import numpy as np\n",
    "print(np.__version__)"
   ]
  },
  {
   "cell_type": "code",
   "execution_count": 3,
   "id": "ebfcef05-2952-4f01-b742-27907d318e67",
   "metadata": {},
   "outputs": [
    {
     "name": "stdout",
     "output_type": "stream",
     "text": [
      "[1, 2, 3, 4, 5]\n",
      "<class 'list'>\n"
     ]
    }
   ],
   "source": [
    "#find type\n",
    "a=[1,2,3,4,5]\n",
    "print(a)\n",
    "print(type(a))"
   ]
  },
  {
   "cell_type": "code",
   "execution_count": 4,
   "id": "291c118d-d23f-4e80-bbf5-c4de3ff4c2f5",
   "metadata": {},
   "outputs": [
    {
     "name": "stdout",
     "output_type": "stream",
     "text": [
      "[1 2 3 4 5]\n",
      "<class 'numpy.ndarray'>\n"
     ]
    }
   ],
   "source": [
    "#find type of array\n",
    "import numpy as np\n",
    "arr=np.array([1,2,3,4,5])\n",
    "print(arr)\n",
    "print(type(arr))"
   ]
  },
  {
   "cell_type": "code",
   "execution_count": 5,
   "id": "ea186a0e-2f66-41a4-88c1-205d93d6446a",
   "metadata": {},
   "outputs": [
    {
     "name": "stdout",
     "output_type": "stream",
     "text": [
      "[[1 2 3]\n",
      " [4 5 6]]\n"
     ]
    }
   ],
   "source": [
    "import numpy as np\n",
    "arr=np.array([[1,2,3],[4,5,6]])\n",
    "print(arr)"
   ]
  },
  {
   "cell_type": "code",
   "execution_count": 6,
   "id": "1c14d6e7-aac8-48c4-8285-2a0ec0b5ca5c",
   "metadata": {},
   "outputs": [
    {
     "name": "stdout",
     "output_type": "stream",
     "text": [
      "[[[1 2 3]\n",
      "  [4 5 6]]\n",
      "\n",
      " [[1 2 3]\n",
      "  [4 5 6]]]\n"
     ]
    }
   ],
   "source": [
    "import numpy as np\n",
    "arr=np.array([[[1,2,3],[4,5,6]],[[1,2,3],[4,5,6]]])\n",
    "print(arr)"
   ]
  },
  {
   "cell_type": "code",
   "execution_count": 7,
   "id": "27937149-07df-4638-87b8-164651a833a8",
   "metadata": {},
   "outputs": [
    {
     "name": "stdout",
     "output_type": "stream",
     "text": [
      "[[[[1 2 3]\n",
      "   [4 5 6]]\n",
      "\n",
      "  [[3 2 1]\n",
      "   [5 4 3]]\n",
      "\n",
      "  [[1 2 3]\n",
      "   [4 5 6]]\n",
      "\n",
      "  [[1 2 3]\n",
      "   [4 5 6]]]]\n"
     ]
    }
   ],
   "source": [
    "import numpy as np\n",
    "arr=np.array([[[[1,2,3],[4,5,6]],[[3,2,1],[5,4,3]],[[1,2,3],[4,5,6]],[[1,2,3],[4,5,6]]]])\n",
    "print(arr)"
   ]
  },
  {
   "cell_type": "code",
   "execution_count": 8,
   "id": "0827d121-d6c6-4b06-87b2-96007503c007",
   "metadata": {},
   "outputs": [
    {
     "name": "stdout",
     "output_type": "stream",
     "text": [
      "4\n",
      "3\n",
      "2\n",
      "(1, 4, 2, 3)\n",
      "(2, 2, 3)\n",
      "(2, 3)\n",
      "[[ 2  4  6]\n",
      " [ 8 10 12]]\n",
      "24\n",
      "12\n",
      "6\n"
     ]
    }
   ],
   "source": [
    "import numpy as np\n",
    "a=np.array([[[[1,2,3],[4,5,6]],[[3,2,1],[5,4,3]],[[1,2,3],[4,5,6]],[[1,2,3],[4,5,6]]]])\n",
    "b=np.array([[[1,2,3],[4,5,6]],[[1,2,3],[4,5,6]]])\n",
    "c=np.array([[1,2,3],[4,5,6]])\n",
    "print(a.ndim)\n",
    "print(b.ndim)\n",
    "print(c.ndim)\n",
    "print(a.shape)\n",
    "print(b.shape)\n",
    "print(c.shape)\n",
    "print(c*2)\n",
    "print(a.size)\n",
    "print(b.size)\n",
    "print(c.size)\n",
    "\n",
    "\n"
   ]
  },
  {
   "cell_type": "code",
   "execution_count": 9,
   "id": "891b6799-46d4-489b-9280-aa795e818421",
   "metadata": {},
   "outputs": [
    {
     "name": "stdout",
     "output_type": "stream",
     "text": [
      "[[[[[1 2 3 4 5]]]]]\n",
      "number of dimension: 5\n"
     ]
    }
   ],
   "source": [
    "import numpy as np\n",
    "arr=np.array([1,2,3,4,5],ndmin=5)\n",
    "print(arr)\n",
    "print(\"number of dimension:\",arr.ndim)"
   ]
  },
  {
   "cell_type": "code",
   "execution_count": 10,
   "id": "41a72d84-6185-4f73-8968-f01328806fbc",
   "metadata": {},
   "outputs": [
    {
     "name": "stdout",
     "output_type": "stream",
     "text": [
      "[ 7  9 11 13 15]\n"
     ]
    }
   ],
   "source": [
    "import numpy as np\n",
    "a=np.array([[1,2,3,4,5],[6,7,8,9,10]])\n",
    "print(a[0]+a[1])"
   ]
  },
  {
   "cell_type": "code",
   "execution_count": 11,
   "id": "594c72bc-20be-48bf-afad-dc4846e64b6e",
   "metadata": {},
   "outputs": [
    {
     "name": "stdout",
     "output_type": "stream",
     "text": [
      "10\n"
     ]
    }
   ],
   "source": [
    "print(a[1,-1])"
   ]
  },
  {
   "cell_type": "code",
   "execution_count": 12,
   "id": "cf8966bb-0e9a-4230-a788-2630f8d1bcf9",
   "metadata": {},
   "outputs": [
    {
     "name": "stdout",
     "output_type": "stream",
     "text": [
      "8\n"
     ]
    }
   ],
   "source": [
    "print(a[0,0]+a[1,1])"
   ]
  },
  {
   "cell_type": "code",
   "execution_count": 13,
   "id": "d477e7c3-fe95-48aa-87b2-02a918fbe995",
   "metadata": {},
   "outputs": [
    {
     "name": "stdout",
     "output_type": "stream",
     "text": [
      "int64\n"
     ]
    }
   ],
   "source": [
    "import numpy as np\n",
    "a=np.array([[1,2,3,4,5],[6,7,8,9,10]])\n",
    "print(a.dtype)"
   ]
  },
  {
   "cell_type": "code",
   "execution_count": 14,
   "id": "66e249a6-2f35-4439-8b6d-f0fd8cd16056",
   "metadata": {},
   "outputs": [
    {
     "name": "stdout",
     "output_type": "stream",
     "text": [
      "[[ 1  2  3  4  5]\n",
      " [ 6  7  8  9 10]]\n",
      "[[ 1.  2.  3.  4.  5.]\n",
      " [ 6.  7.  8.  9. 10.]]\n"
     ]
    }
   ],
   "source": [
    "import numpy as np\n",
    "a=np.array([[1,2,3,4,5],[6,7,8,9,10]])\n",
    "print(a)\n",
    "print(a.astype(\"float64\"))"
   ]
  },
  {
   "cell_type": "code",
   "execution_count": 15,
   "id": "48c753ae-20b2-442e-b555-8cd94cb1c4c4",
   "metadata": {},
   "outputs": [
    {
     "name": "stdout",
     "output_type": "stream",
     "text": [
      "[[0. 0. 0.]\n",
      " [0. 0. 0.]\n",
      " [0. 0. 0.]]\n",
      "[[0 0 0]\n",
      " [0 0 0]\n",
      " [0 0 0]]\n"
     ]
    }
   ],
   "source": [
    "#o=zeros matrix\n",
    "import numpy as np\n",
    "zeroarraay=np.zeros((3,3))\n",
    "zeroarray=np.zeros((3,3),dtype=int)\n",
    "print(zeroarraay)\n",
    "print(zeroarray)"
   ]
  },
  {
   "cell_type": "code",
   "execution_count": 16,
   "id": "50dfabf2-e915-4dfb-bc6a-72fca00262fa",
   "metadata": {},
   "outputs": [
    {
     "name": "stdout",
     "output_type": "stream",
     "text": [
      "[[1. 1. 1.]\n",
      " [1. 1. 1.]\n",
      " [1. 1. 1.]]\n",
      "[[1 1 1]\n",
      " [1 1 1]\n",
      " [1 1 1]]\n"
     ]
    }
   ],
   "source": [
    "#ones matrix\n",
    "import numpy as np\n",
    "onesarraay=np.ones((3,3))\n",
    "onesarray=np.ones((3,3),dtype=int)\n",
    "print(onesarraay)\n",
    "print(onesarray)"
   ]
  },
  {
   "cell_type": "code",
   "execution_count": 17,
   "id": "55b2ae9f-8fb7-4fb2-8701-b9c023d2d77f",
   "metadata": {},
   "outputs": [
    {
     "name": "stdout",
     "output_type": "stream",
     "text": [
      "[0 1 2 3 4]\n"
     ]
    }
   ],
   "source": [
    "#for range(arange())\n",
    "a=np.arange(5)\n",
    "print(a)"
   ]
  },
  {
   "cell_type": "code",
   "execution_count": 18,
   "id": "ec66ebc5-612c-49de-a7e7-371100f04cb1",
   "metadata": {},
   "outputs": [
    {
     "name": "stdout",
     "output_type": "stream",
     "text": [
      "[0 2 4 6 8]\n"
     ]
    }
   ],
   "source": [
    "a=np.arange(0,9,2)\n",
    "print(a)"
   ]
  },
  {
   "cell_type": "code",
   "execution_count": 30,
   "id": "fc177807-f143-49e7-b63b-fb5815c92558",
   "metadata": {},
   "outputs": [
    {
     "name": "stdout",
     "output_type": "stream",
     "text": [
      "[[[[4 7 5]\n",
      "   [9 4 2]\n",
      "   [7 7 6]\n",
      "   [2 8 7]]\n",
      "\n",
      "  [[7 2 2]\n",
      "   [3 4 1]\n",
      "   [4 3 2]\n",
      "   [5 4 3]]\n",
      "\n",
      "  [[6 8 1]\n",
      "   [8 7 3]\n",
      "   [8 7 7]\n",
      "   [1 3 9]]]\n",
      "\n",
      "\n",
      " [[[9 9 4]\n",
      "   [5 8 1]\n",
      "   [5 7 2]\n",
      "   [6 4 3]]\n",
      "\n",
      "  [[1 5 2]\n",
      "   [7 6 7]\n",
      "   [2 7 8]\n",
      "   [7 5 8]]\n",
      "\n",
      "  [[6 2 1]\n",
      "   [6 3 9]\n",
      "   [2 2 9]\n",
      "   [1 9 9]]]]\n"
     ]
    }
   ],
   "source": [
    "#to select random integer\n",
    "a=np.random.randint(1,10,size=(2,3,4,3))\n",
    "print(a)"
   ]
  },
  {
   "cell_type": "code",
   "execution_count": 31,
   "id": "458e8c55-f8b9-4ed3-abbf-6ff022b27bc6",
   "metadata": {},
   "outputs": [
    {
     "name": "stdout",
     "output_type": "stream",
     "text": [
      "[[[[-1.8961762  -0.46438493 -0.51084515 -1.22436948]\n",
      "   [-1.04523442  0.93643622 -2.0226935   0.121034  ]\n",
      "   [ 0.68081481 -0.72416157  1.19811297  0.32500608]]\n",
      "\n",
      "  [[-0.53998659  1.12233147 -0.92694275 -1.50994641]\n",
      "   [-1.89252489  0.63807266 -0.0143885   0.387127  ]\n",
      "   [-0.42336542 -0.31713034 -2.43609924 -1.54272142]]]]\n"
     ]
    }
   ],
   "source": [
    "#randomly select the positive and negative integers\n",
    "a=np.random.randn(1,2,3,4)\n",
    "print(a)"
   ]
  },
  {
   "cell_type": "code",
   "execution_count": 32,
   "id": "b2533fb7-a5d9-476c-b36e-f4861a2b9169",
   "metadata": {},
   "outputs": [
    {
     "name": "stdout",
     "output_type": "stream",
     "text": [
      "[[[[0.47475853 0.38903969 0.86834724 0.60915898]\n",
      "   [0.21783827 0.24153024 0.82135778 0.42672308]\n",
      "   [0.31281823 0.14738547 0.18333872 0.33252597]]\n",
      "\n",
      "  [[0.05166016 0.21307081 0.90970492 0.18554048]\n",
      "   [0.18106476 0.11972281 0.81766468 0.80215589]\n",
      "   [0.03944812 0.62108399 0.2442914  0.90437715]]]]\n"
     ]
    }
   ],
   "source": [
    "#randomly select the numbers between 0 to one\n",
    "a=np.random.random((1,2,3,4))\n",
    "print(a)"
   ]
  },
  {
   "cell_type": "code",
   "execution_count": 33,
   "id": "5ef6ea82-1354-4e9a-aab1-82827312cd5c",
   "metadata": {},
   "outputs": [
    {
     "name": "stdout",
     "output_type": "stream",
     "text": [
      "[[25 25 25]\n",
      " [25 25 25]\n",
      " [25 25 25]]\n"
     ]
    }
   ],
   "source": [
    "#full uses to mAake the matrix fully the specific number\n",
    "a=np.full((3,3),25)\n",
    "print(a)"
   ]
  },
  {
   "cell_type": "code",
   "execution_count": 34,
   "id": "38d3749b-920d-429d-99ef-8de3552613bc",
   "metadata": {},
   "outputs": [
    {
     "name": "stdout",
     "output_type": "stream",
     "text": [
      "[[1 0 0]\n",
      " [0 1 0]\n",
      " [0 0 1]]\n"
     ]
    }
   ],
   "source": [
    "#identity used to print the tht matrix diagonally 1\n",
    "a=np.identity((3),dtype=int)\n",
    "print(a)"
   ]
  },
  {
   "cell_type": "code",
   "execution_count": 36,
   "id": "571420df-cf07-4455-9d47-a6cb566e7fd0",
   "metadata": {},
   "outputs": [
    {
     "name": "stdout",
     "output_type": "stream",
     "text": [
      "[[[25 25]\n",
      "  [20 25]\n",
      "  [25 25]\n",
      "  [20 22]\n",
      "  [20 22]\n",
      "  [29 22]\n",
      "  [22 28]\n",
      "  [24 20]]]\n"
     ]
    }
   ],
   "source": [
    "a=np.random.randint(20,30,size=(1,8,2))\n",
    "print(a)"
   ]
  },
  {
   "cell_type": "code",
   "execution_count": 38,
   "id": "7cb070b1-76fe-4396-a9d4-33c664449a11",
   "metadata": {},
   "outputs": [
    {
     "name": "stdout",
     "output_type": "stream",
     "text": [
      "[[2 2 5 4 3 2 9 3]\n",
      " [3 1 9 7 9 4 4 6]\n",
      " [6 7 1 6 2 6 5 8]]\n"
     ]
    }
   ],
   "source": [
    "import numpy as np\n",
    "a=np.random.randint(1,10,size=(3,8))\n",
    "print(a)"
   ]
  },
  {
   "cell_type": "code",
   "execution_count": 6,
   "id": "1833ac52-e642-4831-b1b9-dea6315011aa",
   "metadata": {},
   "outputs": [
    {
     "name": "stdout",
     "output_type": "stream",
     "text": [
      "[[[8 7 1]\n",
      "  [7 5 3]\n",
      "  [2 5 9]\n",
      "  [7 5 1]]\n",
      "\n",
      " [[9 7 9]\n",
      "  [4 4 3]\n",
      "  [5 3 1]\n",
      "  [5 8 1]]]\n"
     ]
    }
   ],
   "source": [
    "#in reshape the matrix should have equal elements\n",
    "new_shape=(2,4,3)\n",
    "rand=np.reshape(a,new_shape)\n",
    "print(rand)"
   ]
  },
  {
   "cell_type": "code",
   "execution_count": 7,
   "id": "8262e132-d6cb-4d13-adb3-56ef5b638e16",
   "metadata": {},
   "outputs": [
    {
     "name": "stdout",
     "output_type": "stream",
     "text": [
      "[[[29 53 60 38]\n",
      "  [24 60 50 53]\n",
      "  [64 36 61 36]]\n",
      "\n",
      " [[25 23 39 36]\n",
      "  [30 40 29 31]\n",
      "  [50 21 43 63]]]\n"
     ]
    }
   ],
   "source": [
    "a=np.random.randint(20,66,size=(2,3,4))\n",
    "print(a)"
   ]
  },
  {
   "cell_type": "code",
   "execution_count": 10,
   "id": "e45cfc38-e5b0-4c43-a770-4be04a96d47a",
   "metadata": {},
   "outputs": [
    {
     "name": "stdout",
     "output_type": "stream",
     "text": [
      "[[[29 53]\n",
      "  [60 38]\n",
      "  [24 60]\n",
      "  [50 53]\n",
      "  [64 36]]\n",
      "\n",
      " [[61 36]\n",
      "  [25 23]\n",
      "  [39 36]\n",
      "  [30 40]\n",
      "  [29 31]]\n",
      "\n",
      " [[50 21]\n",
      "  [43 63]\n",
      "  [29 53]\n",
      "  [60 38]\n",
      "  [24 60]]\n",
      "\n",
      " [[50 53]\n",
      "  [64 36]\n",
      "  [61 36]\n",
      "  [25 23]\n",
      "  [39 36]]]\n"
     ]
    }
   ],
   "source": [
    "#in resize there is no need of matrix element have to be same\n",
    "new_size=(4,5,2)\n",
    "arr=np.resize(a,new_size)\n",
    "print(arr)"
   ]
  },
  {
   "cell_type": "code",
   "execution_count": 11,
   "id": "39c70e72-8fd8-434d-ac4c-b53a2b4d11a1",
   "metadata": {},
   "outputs": [
    {
     "data": {
      "text/plain": [
       "array([29, 53, 60, 38, 24, 60, 50, 53, 64, 36, 61, 36, 25, 23, 39, 36, 30,\n",
       "       40, 29, 31, 50, 21, 43, 63, 29, 53, 60, 38, 24, 60, 50, 53, 64, 36,\n",
       "       61, 36, 25, 23, 39, 36], dtype=int32)"
      ]
     },
     "execution_count": 11,
     "metadata": {},
     "output_type": "execute_result"
    }
   ],
   "source": [
    "#used to make the marix as 1-D array\n",
    "arr.flatten()"
   ]
  },
  {
   "cell_type": "code",
   "execution_count": 14,
   "id": "b042cc77-7e18-4801-bd91-ed6921c4342f",
   "metadata": {},
   "outputs": [
    {
     "name": "stdout",
     "output_type": "stream",
     "text": [
      "[5 7 9]\n",
      "[-3 -3 -3]\n",
      "[ 4 10 18]\n",
      "[0.25 0.4  0.5 ]\n"
     ]
    }
   ],
   "source": [
    "#arithmetic operstion\n",
    "a=np.array([1,2,3])\n",
    "b=np.array([4,5,6])\n",
    "print(a+b)\n",
    "print(a-b)\n",
    "print(a*b)\n",
    "print(a/b)"
   ]
  },
  {
   "cell_type": "code",
   "execution_count": 22,
   "id": "ff509134-0b87-4ceb-8736-c7b24c1a9c63",
   "metadata": {},
   "outputs": [
    {
     "name": "stdout",
     "output_type": "stream",
     "text": [
      "21\n",
      "6\n",
      "1\n",
      "1.707825127659933\n",
      "[5 7 9]\n",
      "[ 6 15]\n"
     ]
    }
   ],
   "source": [
    "#aggregate function\n",
    "a=np.array([[1,2,3],[4,5,6]])\n",
    "print(np.sum(a))\n",
    "print(np.max(a))\n",
    "print(np.min(a))\n",
    "print(np.std(a))\n",
    "print(np.sum(a,axis=0))\n",
    "print(np.sum(a,axis=1))"
   ]
  },
  {
   "cell_type": "code",
   "execution_count": 27,
   "id": "69a36ce5-52af-472b-ad1a-3fd8e63d771a",
   "metadata": {},
   "outputs": [
    {
     "name": "stdout",
     "output_type": "stream",
     "text": [
      "[2 3 4]\n"
     ]
    }
   ],
   "source": [
    "#slicing\n",
    "slice=np.arange(10)\n",
    "print(slice[2:5])\n"
   ]
  },
  {
   "cell_type": "code",
   "execution_count": 31,
   "id": "4c438a1f-08e7-42d7-ac3b-498250704b24",
   "metadata": {},
   "outputs": [
    {
     "name": "stdout",
     "output_type": "stream",
     "text": [
      "[0.37763068 0.8763537  0.70320903 0.65254992 0.0046208  0.17797324\n",
      " 0.38501928 0.900646   0.82383048 0.32936716]\n",
      "[0.37763068 0.70320903 0.0046208  0.38501928 0.82383048]\n"
     ]
    }
   ],
   "source": [
    "#slicing using step value\n",
    "a=np.random.random(10)\n",
    "print(a)\n",
    "print(a[::2])"
   ]
  },
  {
   "cell_type": "code",
   "execution_count": 44,
   "id": "a0ede8ce-4df9-4336-bce6-14e5bbc693a2",
   "metadata": {},
   "outputs": [
    {
     "name": "stdout",
     "output_type": "stream",
     "text": [
      "[[1 2 3]\n",
      " [4 5 6]\n",
      " [7 8 9]]\n",
      "[[1 2 3]\n",
      " [4 5 6]]\n",
      "2\n",
      "[[6]]\n"
     ]
    }
   ],
   "source": [
    "a=np.array([[1,2,3],[4,5,6],[7,8,9]])\n",
    "print(a)\n",
    "print(a[0:2])\n",
    "print(a[0,1])\n",
    "print(a[1:2,-1:])\n",
    "\n"
   ]
  },
  {
   "cell_type": "code",
   "execution_count": 65,
   "id": "51b1adb2-8f3e-438f-bbdd-3bebd275acbd",
   "metadata": {},
   "outputs": [
    {
     "name": "stdout",
     "output_type": "stream",
     "text": [
      "[[7 9 7]]\n"
     ]
    }
   ],
   "source": [
    "a=np.array([[[3, 8, 6],\n",
    "  [1, 7, 3],\n",
    "  [2 ,4, 7]],\n",
    "\n",
    " [[4 ,7, 2],\n",
    "  [2 ,9 ,7],\n",
    "  [4 ,7, 6]],\n",
    "\n",
    " [[5 ,7, 2],\n",
    "  [4, 8, 9],\n",
    "  [1 ,5, 4]]])\n",
    "\n",
    "print(a[1:2,:,1])\n",
    "\n"
   ]
  },
  {
   "cell_type": "code",
   "execution_count": null,
   "id": "d403f115-8f2e-41ad-ab07-042d2bf870c2",
   "metadata": {},
   "outputs": [],
   "source": []
  }
 ],
 "metadata": {
  "kernelspec": {
   "display_name": "Python [conda env:base] *",
   "language": "python",
   "name": "conda-base-py"
  },
  "language_info": {
   "codemirror_mode": {
    "name": "ipython",
    "version": 3
   },
   "file_extension": ".py",
   "mimetype": "text/x-python",
   "name": "python",
   "nbconvert_exporter": "python",
   "pygments_lexer": "ipython3",
   "version": "3.13.5"
  }
 },
 "nbformat": 4,
 "nbformat_minor": 5
}
