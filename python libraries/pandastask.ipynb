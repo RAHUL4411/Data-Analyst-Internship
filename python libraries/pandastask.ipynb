{
 "cells": [
  {
   "cell_type": "code",
   "execution_count": 2,
   "id": "0a56132b-f27c-4064-b44a-cc1f6f7422f0",
   "metadata": {},
   "outputs": [
    {
     "name": "stdout",
     "output_type": "stream",
     "text": [
      "   Student Name  Math  Science  English\n",
      "0         Aarav    75      100       86\n",
      "1          Diya    91       73       93\n",
      "2         Kabir    94       89       94\n",
      "3         Meera    88       97       73\n",
      "4        Ishaan    77       80       74\n",
      "5        Ananya    72       90       72\n",
      "6         Rohan    90       81       80\n",
      "7         Sanya    89       77       90\n",
      "8         Arjun    73       81       84\n",
      "9         Priya    72       70       75\n",
      "10       Vihaan    91       77       79\n",
      "11        Nisha    89       85       70\n",
      "12       Aditya    78       94       72\n",
      "13        Kavya    75       75       76\n",
      "14        Manav    87       96       80\n",
      "15       Ritika    75       89       75\n",
      "16        Karan    80       94       97\n",
      "17       Simran    87       90       72\n",
      "18          Dev    83       77       91\n",
      "19        Pooja    75       77       94\n"
     ]
    }
   ],
   "source": [
    "import pandas as pd\n",
    "import numpy as np\n",
    "data=pd.read_csv(\"Downloads/students_20.csv\")\n",
    "print(data)"
   ]
  },
  {
   "cell_type": "code",
   "execution_count": 3,
   "id": "7b784f8d-be17-4ad5-832d-d14d80542993",
   "metadata": {},
   "outputs": [
    {
     "name": "stdout",
     "output_type": "stream",
     "text": [
      "  Student Name  Math  Science  English\n",
      "0        Aarav    75      100       86\n",
      "1         Diya    91       73       93\n",
      "2        Kabir    94       89       94\n",
      "3        Meera    88       97       73\n",
      "4       Ishaan    77       80       74\n"
     ]
    }
   ],
   "source": [
    "#Show the first 5 rows of the DataFrame.\n",
    "print(data.head(5))"
   ]
  },
  {
   "cell_type": "code",
   "execution_count": 4,
   "id": "c7c8c41e-5b7a-48b8-be76-bab7790abd8d",
   "metadata": {},
   "outputs": [
    {
     "name": "stdout",
     "output_type": "stream",
     "text": [
      "   Student Name  Math\n",
      "0         Aarav    75\n",
      "1          Diya    91\n",
      "2         Kabir    94\n",
      "3         Meera    88\n",
      "4        Ishaan    77\n",
      "5        Ananya    72\n",
      "6         Rohan    90\n",
      "7         Sanya    89\n",
      "8         Arjun    73\n",
      "9         Priya    72\n",
      "10       Vihaan    91\n",
      "11        Nisha    89\n",
      "12       Aditya    78\n",
      "13        Kavya    75\n",
      "14        Manav    87\n",
      "15       Ritika    75\n",
      "16        Karan    80\n",
      "17       Simran    87\n",
      "18          Dev    83\n",
      "19        Pooja    75\n"
     ]
    }
   ],
   "source": [
    "#Show only the \"Student Name\" and \"Math\" columns.\n",
    "print(data[[\"Student Name\",\"Math\"]])"
   ]
  },
  {
   "cell_type": "code",
   "execution_count": 5,
   "id": "75b8cc26-b8c1-4bef-8242-e2b464328948",
   "metadata": {},
   "outputs": [
    {
     "name": "stdout",
     "output_type": "stream",
     "text": [
      "Math       82.05\n",
      "Science    84.60\n",
      "English    81.35\n",
      "dtype: float64\n"
     ]
    }
   ],
   "source": [
    "#Find the average marks in each subject.\n",
    "print(data[[\"Math\",\"Science\", \"English\"]].mean())"
   ]
  },
  {
   "cell_type": "code",
   "execution_count": 6,
   "id": "177eff1e-b222-486f-a9a4-b5b823795598",
   "metadata": {},
   "outputs": [
    {
     "name": "stdout",
     "output_type": "stream",
     "text": [
      "Highest score in science : 100\n",
      "\n",
      "max science row:\n",
      "   Student Name  Math  Science  English\n",
      "0        Aarav    75      100       86\n",
      "\n",
      "Student who scored highest mark in Science:\n",
      " 0    Aarav\n",
      "Name: Student Name, dtype: object\n"
     ]
    }
   ],
   "source": [
    "#Which student scored the highest in Science?\n",
    "top_score=data[\"Science\"].max()\n",
    "max_science=data[data[\"Science\"]==top_score]\n",
    "print(\"Highest score in science :\",top_score)\n",
    "print(\"\\nmax science row:\\n\",max_science)\n",
    "top_student=data.loc[data[\"Science\"]==top_score,\"Student Name\"]\n",
    "print(\"\\nStudent who scored highest mark in Science:\\n\",top_student)"
   ]
  },
  {
   "cell_type": "code",
   "execution_count": 7,
   "id": "6c279ee7-f2d5-42f7-9e23-a5d3d60a5259",
   "metadata": {},
   "outputs": [
    {
     "name": "stdout",
     "output_type": "stream",
     "text": [
      "   Student Name  Math  Science  English\n",
      "1          Diya    91       73       93\n",
      "2         Kabir    94       89       94\n",
      "16        Karan    80       94       97\n",
      "18          Dev    83       77       91\n",
      "19        Pooja    75       77       94\n",
      "1      Diya\n",
      "2     Kabir\n",
      "16    Karan\n",
      "18      Dev\n",
      "19    Pooja\n",
      "Name: Student Name, dtype: object\n",
      "   Student Name  English\n",
      "1          Diya       93\n",
      "2         Kabir       94\n",
      "16        Karan       97\n",
      "18          Dev       91\n",
      "19        Pooja       94\n"
     ]
    }
   ],
   "source": [
    "#Select students who scored more than 90 in English.\n",
    "max_english=data[data[\"English\"]>90]\n",
    "print(max_english)\n",
    "student_name=data.loc[data[\"English\"]>90 ,\"Student Name\"]\n",
    "print(student_name)\n",
    "student_row=data.loc[data[\"English\"]>90 ,[\"Student Name\",\"English\"]]\n",
    "print(student_row)"
   ]
  },
  {
   "cell_type": "code",
   "execution_count": 8,
   "id": "50c274ee-33dd-4364-92c8-7e60d1538de6",
   "metadata": {},
   "outputs": [
    {
     "name": "stdout",
     "output_type": "stream",
     "text": [
      "   Student Name  Math\n",
      "2         Kabir    94\n",
      "1          Diya    91\n",
      "10       Vihaan    91\n",
      "6         Rohan    90\n",
      "11        Nisha    89\n",
      "7         Sanya    89\n",
      "3         Meera    88\n",
      "17       Simran    87\n",
      "14        Manav    87\n",
      "18          Dev    83\n",
      "16        Karan    80\n",
      "12       Aditya    78\n",
      "4        Ishaan    77\n",
      "0         Aarav    75\n",
      "15       Ritika    75\n",
      "13        Kavya    75\n",
      "19        Pooja    75\n",
      "8         Arjun    73\n",
      "9         Priya    72\n",
      "5        Ananya    72\n"
     ]
    }
   ],
   "source": [
    "#Sort students by Math marks in descending order.\n",
    "sort=data.sort_values(\"Math\",ascending=False)[[\"Student Name\",\"Math\"]]\n",
    "print(sort)"
   ]
  },
  {
   "cell_type": "code",
   "execution_count": 9,
   "id": "a3aeb4ac-e2a9-4ae2-9a5b-52069364b82c",
   "metadata": {},
   "outputs": [
    {
     "name": "stdout",
     "output_type": "stream",
     "text": [
      "   Student Name  Math  Science  English  Total\n",
      "0         Aarav    75      100       86    261\n",
      "1          Diya    91       73       93    257\n",
      "2         Kabir    94       89       94    277\n",
      "3         Meera    88       97       73    258\n",
      "4        Ishaan    77       80       74    231\n",
      "5        Ananya    72       90       72    234\n",
      "6         Rohan    90       81       80    251\n",
      "7         Sanya    89       77       90    256\n",
      "8         Arjun    73       81       84    238\n",
      "9         Priya    72       70       75    217\n",
      "10       Vihaan    91       77       79    247\n",
      "11        Nisha    89       85       70    244\n",
      "12       Aditya    78       94       72    244\n",
      "13        Kavya    75       75       76    226\n",
      "14        Manav    87       96       80    263\n",
      "15       Ritika    75       89       75    239\n",
      "16        Karan    80       94       97    271\n",
      "17       Simran    87       90       72    249\n",
      "18          Dev    83       77       91    251\n",
      "19        Pooja    75       77       94    246\n"
     ]
    }
   ],
   "source": [
    "#Add a new column \"Total\" = Math + Science + English.\n",
    "data[\"Total\"]=data[\"Math\"]+data[\"Science\"]+data[\"English\"]\n",
    "print(data)\n"
   ]
  },
  {
   "cell_type": "code",
   "execution_count": 10,
   "id": "29e2fbec-4ec6-4f3e-9829-918d88598f8c",
   "metadata": {},
   "outputs": [
    {
     "name": "stdout",
     "output_type": "stream",
     "text": [
      "Student Name    Kabir\n",
      "Math               94\n",
      "Science            89\n",
      "English            94\n",
      "Total             277\n",
      "Name: 2, dtype: object\n",
      "Kabir\n"
     ]
    }
   ],
   "source": [
    "#Find the student with the highest total marks.\n",
    "high_mark=data.loc[data[\"Total\"].idxmax()]\n",
    "print(high_mark)\n",
    "stu_high_mark=data.loc[data[\"Total\"].idxmax(),\"Student Name\"]\n",
    "print(stu_high_mark)"
   ]
  },
  {
   "cell_type": "code",
   "execution_count": 11,
   "id": "a3061a67-942f-46c3-a8c1-c39c86227343",
   "metadata": {},
   "outputs": [
    {
     "name": "stdout",
     "output_type": "stream",
     "text": [
      "   Student Name  Math  Science  English  Total\n",
      "0         Aarav    75      100       86    261\n",
      "1          Diya    91       73       93    257\n",
      "3         Meera    88       97       73    258\n",
      "4        Ishaan    77       80       74    231\n",
      "5        Ananya    72       90       72    234\n",
      "7         Sanya    89       77       90    256\n",
      "8         Arjun    73       81       84    238\n",
      "9         Priya    72       70       75    217\n",
      "10       Vihaan    91       77       79    247\n",
      "11        Nisha    89       85       70    244\n",
      "12       Aditya    78       94       72    244\n",
      "13        Kavya    75       75       76    226\n",
      "15       Ritika    75       89       75    239\n",
      "17       Simran    87       90       72    249\n",
      "18          Dev    83       77       91    251\n",
      "19        Pooja    75       77       94    246\n"
     ]
    }
   ],
   "source": [
    "#Show students who scored less than 80 in at least one subject.\n",
    "less_80=data[(data[\"Math\"] < 80) | (data[\"Science\"] < 80) | (data[\"English\"]<80)]\n",
    "print(less_80)\n"
   ]
  },
  {
   "cell_type": "code",
   "execution_count": 12,
   "id": "f12c30af-ce85-44ea-b414-1458f3e4be49",
   "metadata": {},
   "outputs": [],
   "source": [
    "#Save the updated DataFrame (with totals) to a new CSV.\n",
    "data.to_csv(\"updated_student_file.csv\",index=False)"
   ]
  },
  {
   "cell_type": "code",
   "execution_count": 13,
   "id": "8b775cd4-966c-4d3e-baaf-787f0d3596f8",
   "metadata": {},
   "outputs": [],
   "source": [
    "data.drop(columns=[\"Total\"]).to_csv(\"newupdated_student_file.csv\",index=False)"
   ]
  },
  {
   "cell_type": "code",
   "execution_count": 14,
   "id": "9122946b-3285-45be-b387-3214cc3e69d3",
   "metadata": {},
   "outputs": [
    {
     "name": "stdout",
     "output_type": "stream",
     "text": [
      "\n",
      "Highest mark in Math:\n",
      " 94\n",
      "\n",
      "Lowest mark in Math:\n",
      " 72\n"
     ]
    }
   ],
   "source": [
    "#What is the highest and lowest mark in Math?\n",
    "high=data[\"Math\"].max()\n",
    "low=data[\"Math\"].min()\n",
    "print(\"\\nHighest mark in Math:\\n\",high)\n",
    "print(\"\\nLowest mark in Math:\\n\",low)\n"
   ]
  },
  {
   "cell_type": "code",
   "execution_count": 15,
   "id": "5f1e9eeb-7fb4-4317-9f98-c20756e1dacb",
   "metadata": {},
   "outputs": [
    {
     "name": "stdout",
     "output_type": "stream",
     "text": [
      "248.0\n"
     ]
    }
   ],
   "source": [
    "#Find the average total marks of all students.\n",
    "avg=data[\"Total\"].mean()\n",
    "print(avg)"
   ]
  },
  {
   "cell_type": "code",
   "execution_count": 16,
   "id": "100a99a9-01a8-45b4-8ee5-46e4b360fe44",
   "metadata": {},
   "outputs": [
    {
     "name": "stdout",
     "output_type": "stream",
     "text": [
      "   Student Name  English\n",
      "16        Karan       97\n",
      "2         Kabir       94\n",
      "19        Pooja       94\n"
     ]
    }
   ],
   "source": [
    "#Show only the top 3 students in English.\n",
    "top_3=data.sort_values(\"English\",ascending=False).head(3)[[\"Student Name\",\"English\"]]\n",
    "print(top_3)"
   ]
  },
  {
   "cell_type": "code",
   "execution_count": 17,
   "id": "01238ab2-9f2c-4a41-b91e-1bd5f79371a1",
   "metadata": {},
   "outputs": [
    {
     "name": "stdout",
     "output_type": "stream",
     "text": [
      "students scored above 85 in Science: 9\n"
     ]
    }
   ],
   "source": [
    "#Count how many students scored above 85 in Science.\n",
    "counting=(data[\"Science\"]>85).sum()\n",
    "print(\"students scored above 85 in Science:\",counting)"
   ]
  },
  {
   "cell_type": "code",
   "execution_count": 18,
   "id": "4869522d-8e24-45dc-9507-fe3687458f40",
   "metadata": {},
   "outputs": [
    {
     "name": "stdout",
     "output_type": "stream",
     "text": [
      "   Student Name  Total Grade\n",
      "0         Aarav    261     A\n",
      "1          Diya    257     B\n",
      "2         Kabir    277     A\n",
      "3         Meera    258     B\n",
      "4        Ishaan    231     C\n",
      "5        Ananya    234     C\n",
      "6         Rohan    251     B\n",
      "7         Sanya    256     B\n",
      "8         Arjun    238     C\n",
      "9         Priya    217     C\n",
      "10       Vihaan    247     B\n",
      "11        Nisha    244     B\n",
      "12       Aditya    244     B\n",
      "13        Kavya    226     C\n",
      "14        Manav    263     A\n",
      "15       Ritika    239     C\n",
      "16        Karan    271     A\n",
      "17       Simran    249     B\n",
      "18          Dev    251     B\n",
      "19        Pooja    246     B\n"
     ]
    }
   ],
   "source": [
    "#Create a new column \"Grade\" based on Total Marks\n",
    "data[\"Grade\"]=pd.cut(data[\"Total\"],bins=[0,239,259,300],labels=[\"C\",\"B\",\"A\"])\n",
    "print(data[[\"Student Name\",\"Total\",\"Grade\"]])"
   ]
  },
  {
   "cell_type": "code",
   "execution_count": 19,
   "id": "63649ffa-a411-4791-b062-a5247d29a046",
   "metadata": {},
   "outputs": [
    {
     "name": "stdout",
     "output_type": "stream",
     "text": [
      "       Math    Science  English       Total\n",
      "Grade                                      \n",
      "A      84.0  94.750000    89.25  268.000000\n",
      "B      86.1  82.800000    81.40  250.300000\n",
      "C      74.0  80.833333    76.00  230.833333\n"
     ]
    },
    {
     "name": "stderr",
     "output_type": "stream",
     "text": [
      "C:\\Users\\Raghul\\AppData\\Local\\Temp\\ipykernel_95996\\335887951.py:2: FutureWarning: The default of observed=False is deprecated and will be changed to True in a future version of pandas. Pass observed=False to retain current behavior or observed=True to adopt the future default and silence this warning.\n",
      "  avg_grade=data.groupby(\"Grade\").mean(numeric_only=True).sort_values(\"Grade\",ascending=False)\n"
     ]
    }
   ],
   "source": [
    "#Show the average marks per subject for each Grade.S\n",
    "avg_grade=data.groupby(\"Grade\").mean(numeric_only=True).sort_values(\"Grade\",ascending=False)\n",
    "print(avg_grade)"
   ]
  },
  {
   "cell_type": "code",
   "execution_count": 36,
   "id": "47bd781b-ec11-4630-8766-9ee0293c6bd1",
   "metadata": {},
   "outputs": [
    {
     "name": "stdout",
     "output_type": "stream",
     "text": [
      "   Student Name  Math  Science  English  Total Grade\n",
      "2         Kabir    94       89       94    277     A\n",
      "5        Ananya    72       90       72    234     C\n",
      "13        Kavya    75       75       76    226     C\n",
      "15       Ritika    75       89       75    239     C\n"
     ]
    }
   ],
   "source": [
    "#Show students who have the same marks in any two subjects.\n",
    "same_marks=((data[\"Math\"]==data[\"Science\"]) | (data[\"Math\"]==data[\"English\"]) | (data[\"Science\"]==data[\"English\"]))\n",
    "print(data[same_marks])"
   ]
  },
  {
   "cell_type": "code",
   "execution_count": 32,
   "id": "ff004532-d719-4997-bfe3-25b23db0ad4b",
   "metadata": {},
   "outputs": [
    {
     "name": "stdout",
     "output_type": "stream",
     "text": [
      "   Student Name  Total\n",
      "2         Kabir    277\n",
      "16        Karan    271\n",
      "14        Manav    263\n",
      "0         Aarav    261\n",
      "3         Meera    258\n"
     ]
    }
   ],
   "source": [
    "#Show the top 5 students based on total marks only (Student Name + Total).\n",
    "top_5=(data[[\"Student Name\", \"Total\"]].sort_values(\"Total\",ascending=False).head(5))\n",
    "print(top_5)"
   ]
  },
  {
   "cell_type": "code",
   "execution_count": 42,
   "id": "cdd7d15c-920a-4eaa-bac4-69d2470dea1e",
   "metadata": {},
   "outputs": [],
   "source": [
    "data[[\"Student Name\",\"Grade\"]].to_csv(\"student_and_grade.csv\",index=False)"
   ]
  },
  {
   "cell_type": "code",
   "execution_count": null,
   "id": "033903d0-7157-4a03-88f8-c473eb1bbd07",
   "metadata": {},
   "outputs": [],
   "source": []
  }
 ],
 "metadata": {
  "kernelspec": {
   "display_name": "Python [conda env:base] *",
   "language": "python",
   "name": "conda-base-py"
  },
  "language_info": {
   "codemirror_mode": {
    "name": "ipython",
    "version": 3
   },
   "file_extension": ".py",
   "mimetype": "text/x-python",
   "name": "python",
   "nbconvert_exporter": "python",
   "pygments_lexer": "ipython3",
   "version": "3.13.5"
  }
 },
 "nbformat": 4,
 "nbformat_minor": 5
}
